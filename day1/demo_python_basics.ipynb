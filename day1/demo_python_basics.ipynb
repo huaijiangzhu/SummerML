{
  "nbformat": 4,
  "nbformat_minor": 0,
  "metadata": {
    "kernelspec": {
      "display_name": "Python 3",
      "language": "python",
      "name": "python3"
    },
    "language_info": {
      "codemirror_mode": {
        "name": "ipython",
        "version": 3
      },
      "file_extension": ".py",
      "mimetype": "text/x-python",
      "name": "python",
      "nbconvert_exporter": "python",
      "pygments_lexer": "ipython3",
      "version": "3.7.2"
    },
    "colab": {
      "name": "demo_python_basics.ipynb",
      "provenance": []
    }
  },
  "cells": [
    {
      "cell_type": "markdown",
      "metadata": {
        "id": "XQjyVKWLIjl9",
        "colab_type": "text"
      },
      "source": [
        "# Morning session"
      ]
    },
    {
      "cell_type": "markdown",
      "metadata": {
        "id": "66ZZ59uiIjl-",
        "colab_type": "text"
      },
      "source": [
        "## Variables\n",
        "We'll use integers for now, but there exist many more data-types.\n",
        "Variables are ways we deal with data, assign values, and allow interaction in the computer.\n",
        "Notice that re-assigning ```a``` variable does not change the value of ```c``` becuase **code is executed sequentially**"
      ]
    },
    {
      "cell_type": "code",
      "metadata": {
        "id": "VDF6wc3IIjl-",
        "colab_type": "code",
        "colab": {},
        "outputId": "0c971469-5bfa-40c6-9d32-50dafc8a42ca"
      },
      "source": [
        "a = 5\n",
        "b = 2\n",
        "\n",
        "print('a = ', a)\n",
        "print('b = ', b)\n",
        "\n",
        "c = a+b\n",
        "a = 3\n",
        "\n",
        "print('c = ', c)\n",
        "print('a = ', a)\n",
        "print('c = ', c)"
      ],
      "execution_count": null,
      "outputs": [
        {
          "output_type": "stream",
          "text": [
            "a =  5\n",
            "b =  2\n",
            "c =  7\n",
            "a =  3\n",
            "c =  7\n"
          ],
          "name": "stdout"
        }
      ]
    },
    {
      "cell_type": "markdown",
      "metadata": {
        "id": "22na4BBNIjmF",
        "colab_type": "text"
      },
      "source": [
        "## If-Statements\n",
        "Basic inequality statements: ```==, !=, >=, <=, >, <```. If statements are used to conditionally execute a line of code. Inequality statements return **boolean** variables types: ```True``` or ```False```. Contents of an if-statement are only evaluated when the condition is ```True```. *Extra: look into elseif statements.*\n"
      ]
    },
    {
      "cell_type": "code",
      "metadata": {
        "id": "Yct3wpGNIjmF",
        "colab_type": "code",
        "colab": {},
        "outputId": "04cc5cd5-5294-4e95-d524-2480dc674d7d"
      },
      "source": [
        "if(True):\n",
        "    print('Booleans are great!')\n",
        "    \n",
        "if(False):\n",
        "    print('This will never be printed!')\n",
        "\n",
        "print('Is a greater than 0?', a>0)    \n",
        "\n",
        "if(a > 0):\n",
        "    print('a is greater than 0!')\n",
        "    \n",
        "if(a+b == c):\n",
        "    print('Yep, a+b=', a+b)\n",
        "else:\n",
        "    print('Nope, a+b=', a+b)"
      ],
      "execution_count": null,
      "outputs": [
        {
          "output_type": "stream",
          "text": [
            "Booleans are great!\n",
            "Is a greater than 0? True\n",
            "a is greater than 0!\n",
            "Nope, a+b= 5\n"
          ],
          "name": "stdout"
        }
      ]
    },
    {
      "cell_type": "markdown",
      "metadata": {
        "id": "Xjn9uTS2IjmI",
        "colab_type": "text"
      },
      "source": [
        "## Functions\n",
        "Functions are used to define lines of code we wish to execute later or reuse. Functions may return a variable from being called, which is signified by their return statement. A return statement is optional. Functions can take in parameters with and/or without key-word arguments (kwargs).\n",
        "\n",
        "Functions are very powerful. If find yourself copying and pasting code in multiple places, consider writing a function instead."
      ]
    },
    {
      "cell_type": "code",
      "metadata": {
        "id": "wGZ0WTqZIjmJ",
        "colab_type": "code",
        "colab": {},
        "outputId": "4fc13560-44ad-4fc2-9819-919c9b5fc986"
      },
      "source": [
        "def myPrintFunc(x):\n",
        "    print('var = ', x)\n",
        "    \n",
        "def myFunc(x,y):\n",
        "    return x+y\n",
        "\n",
        "a = myFunc(a,b)\n",
        "\n",
        "def myFunc2(x, y, show=True):\n",
        "    w = myFunc(x, y)\n",
        "    if(show):\n",
        "        myPrintFunc(w)\n",
        "    return w\n",
        "    \n",
        "a = myFunc2(a,b)\n",
        "a = myFunc2(a,b, show=False)"
      ],
      "execution_count": null,
      "outputs": [
        {
          "output_type": "stream",
          "text": [
            "var =  7\n"
          ],
          "name": "stdout"
        }
      ]
    },
    {
      "cell_type": "markdown",
      "metadata": {
        "id": "EvUr4kXEIjmL",
        "colab_type": "text"
      },
      "source": [
        "### Lab Exercise\n",
        "Write a function to find the factors of a positive number.\n",
        "\n",
        "Hint: Check if the number is positive or negative\n",
        "\n",
        "Hint: Use modulo operator '**%**' to compute the remainder\n"
      ]
    },
    {
      "cell_type": "code",
      "metadata": {
        "id": "K05zSHatIjmM",
        "colab_type": "code",
        "colab": {}
      },
      "source": [
        "def get_factor(num):\n",
        "  ''' Insert your code here '''"
      ],
      "execution_count": 9,
      "outputs": []
    },
    {
      "cell_type": "markdown",
      "metadata": {
        "id": "4dkoWKGZLuC9",
        "colab_type": "text"
      },
      "source": [
        "### Test Examples"
      ]
    },
    {
      "cell_type": "code",
      "metadata": {
        "id": "2AQmzZ9ALyjA",
        "colab_type": "code",
        "colab": {}
      },
      "source": [
        "get_factor(0)\n",
        "\n",
        "get_factor(-12)\n",
        "\n",
        "get_factor(21) \n",
        "           \n",
        "get_factor(8)"
      ],
      "execution_count": null,
      "outputs": []
    },
    {
      "cell_type": "markdown",
      "metadata": {
        "id": "v_mNXHmdLdGz",
        "colab_type": "text"
      },
      "source": [
        "Your ouput should look as follows:"
      ]
    },
    {
      "cell_type": "code",
      "metadata": {
        "id": "OD-XEJwkLpQL",
        "colab_type": "code",
        "colab": {
          "base_uri": "https://localhost:8080/",
          "height": 289
        },
        "outputId": "8563fabc-40df-4812-9460-0a6a160d41b6"
      },
      "source": [
        "get_factor(0)\n",
        "\n",
        "get_factor(-12)\n",
        "\n",
        "get_factor(21) \n",
        "           \n",
        "get_factor(8)"
      ],
      "execution_count": 7,
      "outputs": [
        {
          "output_type": "stream",
          "text": [
            "All numbers are factors of 0\n",
            "\n",
            "Error: Number is negative\n",
            "\n",
            "1 is a factor of  21\n",
            "3 is a factor of  21\n",
            "7 is a factor of  21\n",
            "21 is a factor of  21\n",
            "\n",
            "\n",
            "1 is a factor of  8\n",
            "2 is a factor of  8\n",
            "4 is a factor of  8\n",
            "8 is a factor of  8\n",
            "\n",
            "\n"
          ],
          "name": "stdout"
        }
      ]
    },
    {
      "cell_type": "markdown",
      "metadata": {
        "id": "VBrfPke1IjmP",
        "colab_type": "text"
      },
      "source": [
        "# Afternoon session"
      ]
    },
    {
      "cell_type": "markdown",
      "metadata": {
        "id": "99l7ApjuIjmP",
        "colab_type": "text"
      },
      "source": [
        "## Lists\n",
        "Python has a datatype of lists, which stores an ordered array of objects. Objects in the list may be accessed and altered by indexing. *Extra: dictionaries*."
      ]
    },
    {
      "cell_type": "code",
      "metadata": {
        "id": "qCa2HCKoIjmQ",
        "colab_type": "code",
        "colab": {},
        "outputId": "95fb318f-d03c-4e22-d1c4-2b7b4c7409d0"
      },
      "source": [
        "list_x = [2,-5,6,False,56]\n",
        "\n",
        "print(list_x)\n",
        "\n",
        "# indexing\n",
        "print(list_x[0])\n",
        "print(list_x[2])\n",
        "print(list_x[-1])"
      ],
      "execution_count": null,
      "outputs": [
        {
          "output_type": "stream",
          "text": [
            "[2, -5, 6, False, 56]\n",
            "2\n",
            "6\n",
            "56\n"
          ],
          "name": "stdout"
        }
      ]
    },
    {
      "cell_type": "markdown",
      "metadata": {
        "id": "ivzeEkDVIjmT",
        "colab_type": "text"
      },
      "source": [
        "## Loops\n",
        "While-loops execute the same lines of code until a condition is broken.\n",
        "For-loops iterate over an object while executing the same lines of code, until the iteration reaches its end.\n",
        "All for-loops may be equivalently written with while-loops."
      ]
    },
    {
      "cell_type": "code",
      "metadata": {
        "id": "5mwPCL-oIjmT",
        "colab_type": "code",
        "colab": {},
        "outputId": "ac77aef3-63d7-46e9-dca3-c3dee2500aa8"
      },
      "source": [
        "# while loop example\n",
        "# initialize the variable\n",
        "\n",
        "print(\"---- while loop 1 ----\")\n",
        "i = 0\n",
        "while(i<5):\n",
        "    print(i)\n",
        "    i = i+1\n",
        "\n",
        "print(\"---- while loop 2 ----\")\n",
        "i=0\n",
        "while(i<len(list_x)):\n",
        "    print(\"list_x[%d] = \" % i, list_x[i])\n",
        "    i = i+1\n",
        "    \n",
        "print(\"---- for loop 1 ----\")\n",
        "# equivalent for loop\n",
        "for i in range(len(list_x)):\n",
        "    print(\"list_x[%d] = \" % i, list_x[i])\n",
        "    \n",
        "print(\"---- for loop 2 ----\")\n",
        "# breaking out of a for loop\n",
        "for i in range(len(list_x)):\n",
        "    if(list_x[i] == False):\n",
        "        break\n",
        "    print(\"list_x[%d] = \" % i, list_x[i])"
      ],
      "execution_count": null,
      "outputs": [
        {
          "output_type": "stream",
          "text": [
            "---- while loop 1 ----\n",
            "0\n",
            "1\n",
            "2\n",
            "3\n",
            "4\n",
            "---- while loop 2 ----\n",
            "list_x[0] =  2\n",
            "list_x[1] =  -5\n",
            "list_x[2] =  6\n",
            "list_x[3] =  False\n",
            "list_x[4] =  56\n",
            "---- for loop 1 ----\n",
            "list_x[0] =  2\n",
            "list_x[1] =  -5\n",
            "list_x[2] =  6\n",
            "list_x[3] =  False\n",
            "list_x[4] =  56\n",
            "---- for loop 2 ----\n",
            "list_x[0] =  2\n",
            "list_x[1] =  -5\n",
            "list_x[2] =  6\n"
          ],
          "name": "stdout"
        }
      ]
    },
    {
      "cell_type": "markdown",
      "metadata": {
        "id": "jaSj0e63IjmZ",
        "colab_type": "text"
      },
      "source": [
        "## Strings\n",
        "Strings in python are treated as lists of characters. There are a bunch of built-in functions dealing with strings that you should look up. *Extra: ```find()```"
      ]
    },
    {
      "cell_type": "code",
      "metadata": {
        "id": "OGpzTTF3IjmZ",
        "colab_type": "code",
        "colab": {},
        "outputId": "2b2eab55-54d7-47d8-ad82-74b7be21e536"
      },
      "source": [
        "this_string = \"hello everyone\"\n",
        "\n",
        "print(this_string[4])\n",
        "print(this_string[2:8])"
      ],
      "execution_count": null,
      "outputs": [
        {
          "output_type": "stream",
          "text": [
            "o\n",
            "llo ev\n"
          ],
          "name": "stdout"
        }
      ]
    },
    {
      "cell_type": "markdown",
      "metadata": {
        "id": "f_8Bl2vpIjmc",
        "colab_type": "text"
      },
      "source": [
        "## Classes\n",
        "So far we've seen the data-types of integers, floats (non-integer numbers), booleans, strings, and characters. Most modern programming languages allow us to basically define our own data-types in the form of **classes**. \n",
        "\n",
        "We instiate instances of our new datatype by callling the class, which automatically calls the init function. These class objects then have values and functions associated with them, that can be accessed by the \"dot\": ```my_object.my_value``` or ```my_object.my_function```. \n",
        "\n",
        "Though you may not need to make a class for this class, it makes life easier when we understand why we're writing code the way we are."
      ]
    },
    {
      "cell_type": "code",
      "metadata": {
        "id": "5gKykQHkIjmc",
        "colab_type": "code",
        "colab": {},
        "outputId": "939a261e-ea6a-4a29-d7ea-e3f6e23d2ecf"
      },
      "source": [
        "class MyClass:\n",
        "    # init function must be called __init__\n",
        "    def __init__(self, value=0, string=\"...\"):\n",
        "        self.my_val = value\n",
        "        self.my_str = string\n",
        "    # all other functions can be called whatever you like\n",
        "    def increment(self, inc=1):\n",
        "        self.my_val += inc\n",
        "    \n",
        "    # all functions of the class need self as a parameter\n",
        "    def printStr(self):\n",
        "        print(self.my_str)\n",
        "        \n",
        "my_object = MyClass(10, \"Nikola\")\n",
        "\n",
        "print(my_object.my_val)\n",
        "print(my_object.my_str)\n",
        "\n",
        "my_object.increment()\n",
        "print(my_object.my_val)\n",
        "\n",
        "my_object.printStr()"
      ],
      "execution_count": null,
      "outputs": [
        {
          "output_type": "stream",
          "text": [
            "10\n",
            "Nikola\n",
            "11\n",
            "Nikola\n"
          ],
          "name": "stdout"
        }
      ]
    },
    {
      "cell_type": "markdown",
      "metadata": {
        "id": "vf-c0S3RMTmQ",
        "colab_type": "text"
      },
      "source": [
        "## Lab Exercises\n",
        "\n",
        "\n",
        "Write a function to find the second largest number in a list (Hint: use sort())\n",
        "\n"
      ]
    },
    {
      "cell_type": "code",
      "metadata": {
        "id": "HznhzmhEPpaw",
        "colab_type": "code",
        "colab": {
          "base_uri": "https://localhost:8080/",
          "height": 34
        },
        "outputId": "1d0c9349-e0a9-42f4-ab02-11c5d20631bb"
      },
      "source": [
        "\"\"\"Your Code here\"\"\"\n"
      ],
      "execution_count": 22,
      "outputs": [
        {
          "output_type": "execute_result",
          "data": {
            "text/plain": [
              "'Your Code here'"
            ]
          },
          "metadata": {
            "tags": []
          },
          "execution_count": 22
        }
      ]
    },
    {
      "cell_type": "markdown",
      "metadata": {
        "id": "hnt5qXb6SMJI",
        "colab_type": "text"
      },
      "source": [
        "### Test Examples"
      ]
    },
    {
      "cell_type": "code",
      "metadata": {
        "id": "VYXhbfoVSUUp",
        "colab_type": "code",
        "colab": {}
      },
      "source": [
        "print(second_largest([23, 52, 11, 52, 9, 26, 2, 1, 67]))\n",
        "print(second_largest([12, 45, 2, 41, 31, 10, 8, 6, 4]))\n",
        "print(second_largest([23,23]))\n",
        "print(second_largest([24]))"
      ],
      "execution_count": null,
      "outputs": []
    },
    {
      "cell_type": "markdown",
      "metadata": {
        "id": "68R9Y4D6SVXH",
        "colab_type": "text"
      },
      "source": [
        "Your ouput should look as follows:"
      ]
    },
    {
      "cell_type": "code",
      "metadata": {
        "id": "Utq3-mJfROpF",
        "colab_type": "code",
        "colab": {
          "base_uri": "https://localhost:8080/",
          "height": 85
        },
        "outputId": "087a052b-3b1f-4b5c-accc-de7b21c50a78"
      },
      "source": [
        "print(second_largest([23, 52, 11, 52, 9, 26, 2, 1, 67]))\n",
        "print(second_largest([12, 45, 2, 41, 31, 10, 8, 6, 4]))\n",
        "print(second_largest([23,23]))\n",
        "print(second_largest([24]))"
      ],
      "execution_count": 21,
      "outputs": [
        {
          "output_type": "stream",
          "text": [
            "52\n",
            "41\n",
            "None\n",
            "None\n"
          ],
          "name": "stdout"
        }
      ]
    },
    {
      "cell_type": "code",
      "metadata": {
        "id": "ByxQ6Gq1R9OE",
        "colab_type": "code",
        "colab": {}
      },
      "source": [
        ""
      ],
      "execution_count": null,
      "outputs": []
    },
    {
      "cell_type": "markdown",
      "metadata": {
        "id": "jq1Y6E2ISm_t",
        "colab_type": "text"
      },
      "source": [
        "Define a class which has at least two methods:  \n",
        "*   getString: to get a string from console input (Hint: use input())\n",
        "*   printString: to print the string in upper case (Hint: use upper())\n",
        "\n",
        "Test the class methods."
      ]
    },
    {
      "cell_type": "code",
      "metadata": {
        "id": "hWQanbj1OTu9",
        "colab_type": "code",
        "colab": {
          "base_uri": "https://localhost:8080/",
          "height": 34
        },
        "outputId": "4ff6f02a-1fe6-4b6f-bd6b-a555c9489dac"
      },
      "source": [
        "\"\"\"Your code here\"\"\""
      ],
      "execution_count": 23,
      "outputs": [
        {
          "output_type": "execute_result",
          "data": {
            "text/plain": [
              "'Your code here'"
            ]
          },
          "metadata": {
            "tags": []
          },
          "execution_count": 23
        }
      ]
    },
    {
      "cell_type": "code",
      "metadata": {
        "id": "qs-8ABSfS8Jn",
        "colab_type": "code",
        "colab": {}
      },
      "source": [
        ""
      ],
      "execution_count": null,
      "outputs": []
    }
  ]
}