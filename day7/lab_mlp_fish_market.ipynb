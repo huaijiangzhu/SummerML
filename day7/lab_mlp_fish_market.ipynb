{
  "nbformat": 4,
  "nbformat_minor": 0,
  "metadata": {
    "colab": {
      "name": "lab_mlp_fish_market.ipynb",
      "provenance": [],
      "collapsed_sections": []
    },
    "kernelspec": {
      "name": "python3",
      "display_name": "Python 3"
    }
  },
  "cells": [
    {
      "cell_type": "code",
      "metadata": {
        "id": "mlwzZBicICHK",
        "colab_type": "code",
        "colab": {}
      },
      "source": [
        "import numpy as np\n",
        "import pandas as pd\n",
        "import matplotlib.pyplot as plt\n",
        "from sklearn.linear_model import LinearRegression, Ridge, Lasso\n",
        "plt.rc_context({'axes.edgecolor':'white', 'xtick.color':'white', 'ytick.color':'white'});\n",
        "\n",
        "import torch\n",
        "import torch.nn as nn\n",
        "import torch.optim as optim\n",
        "from torch.utils.data import DataLoader"
      ],
      "execution_count": null,
      "outputs": []
    },
    {
      "cell_type": "code",
      "metadata": {
        "id": "BF4BDO7cI7jq",
        "colab_type": "code",
        "colab": {}
      },
      "source": [
        "def print_and_plot(y_pred, y):\n",
        "    RMSE = np.sqrt(np.mean((y_pred - y)**2))\n",
        "    MAE = np.mean(np.abs(y_pred - y))\n",
        "    print ('The RMSE is {:0.2f}'.format(RMSE))\n",
        "    print ('The MAE is {:0.2f}'.format(MAE))\n",
        "    plt.plot(y_pred, 'o', label='predicted')\n",
        "    plt.plot(y, 'o', label='ground truth')\n",
        "    plt.legend(loc='upper left');"
      ],
      "execution_count": null,
      "outputs": []
    },
    {
      "cell_type": "code",
      "metadata": {
        "id": "rkxG9YxrIh1P",
        "colab_type": "code",
        "colab": {}
      },
      "source": [
        "from sklearn.model_selection import train_test_split\n",
        "\n",
        "feature = pd.read_csv('https://raw.githubusercontent.com/huaijiangzhu/SummerML/master/day5/fish_market_feature.csv')\n",
        "label = pd.read_csv('https://raw.githubusercontent.com/huaijiangzhu/SummerML/master/day5/fish_market_label.csv')\n",
        "X = feature.values\n",
        "y = label.values\n",
        "X_train, X_val, y_train, y_val = train_test_split(X, y, test_size=0.1, random_state=3)"
      ],
      "execution_count": null,
      "outputs": []
    },
    {
      "cell_type": "code",
      "metadata": {
        "id": "mCeucknq94O4",
        "colab_type": "code",
        "colab": {}
      },
      "source": [
        "pd.DataFrame(X_train).to_csv('fish_x_train.csv',index=False)\n",
        "pd.DataFrame(X_val).to_csv('fish_x_test.csv',index=False)\n",
        "\n",
        "pd.DataFrame(y_train).to_csv('fish_y_train.csv',index=False)\n",
        "pd.DataFrame(y_val).to_csv('fish_y_test.csv',index=False)"
      ],
      "execution_count": null,
      "outputs": []
    },
    {
      "cell_type": "code",
      "metadata": {
        "id": "stWIhuD8-Yi4",
        "colab_type": "code",
        "colab": {}
      },
      "source": [
        "class CustomDataset(torch.utils.data.Dataset):\n",
        "    def __init__(self,inp_csv,label_csv):\n",
        "      self.X_data=torch.Tensor(pd.read_csv(inp_csv).values)\n",
        "      self.y_data=torch.Tensor(pd.read_csv(label_csv).values)\n",
        "\n",
        "    def __getitem__(self, index):\n",
        "      X = self.X_data[index]\n",
        "      y = self.y_data[index]\n",
        "      sample = {'X': X, 'y': y}\n",
        "      return sample\n",
        "\n",
        "    def __len__(self):\n",
        "      return self.X_data.size()[0]"
      ],
      "execution_count": null,
      "outputs": []
    },
    {
      "cell_type": "code",
      "metadata": {
        "id": "Y3FDf_LA-bsQ",
        "colab_type": "code",
        "colab": {}
      },
      "source": [
        "train_dataset=CustomDataset('fish_x_train.csv','fish_y_train.csv')\n",
        "valid_dataset=CustomDataset('fish_x_test.csv','fish_y_test.csv')"
      ],
      "execution_count": null,
      "outputs": []
    },
    {
      "cell_type": "code",
      "metadata": {
        "id": "fdVL80ED-ho9",
        "colab_type": "code",
        "colab": {
          "base_uri": "https://localhost:8080/",
          "height": 170
        },
        "outputId": "114b2978-c0eb-4c69-804c-c6e5b592a423"
      },
      "source": [
        "dataloader_train = DataLoader(train_dataset, batch_size=37, shuffle=True)\n",
        "dataloader_valid = DataLoader(valid_dataset, batch_size=13, shuffle=False)\n",
        "dataloader_train_full_dataset = DataLoader(train_dataset, batch_size=111, shuffle=False)\n",
        "\n",
        "for idx, sample in enumerate(dataloader_train):\n",
        "    x = sample['X']\n",
        "    y = sample['y']\n",
        "    print (x.shape, y.shape)\n",
        "    print ('\\n')"
      ],
      "execution_count": null,
      "outputs": [
        {
          "output_type": "stream",
          "text": [
            "torch.Size([37, 5]) torch.Size([37, 1])\n",
            "\n",
            "\n",
            "torch.Size([37, 5]) torch.Size([37, 1])\n",
            "\n",
            "\n",
            "torch.Size([37, 5]) torch.Size([37, 1])\n",
            "\n",
            "\n"
          ],
          "name": "stdout"
        }
      ]
    },
    {
      "cell_type": "code",
      "metadata": {
        "id": "F-A9dzhJ_gYv",
        "colab_type": "code",
        "colab": {}
      },
      "source": [
        "class MLP(nn.Module):\n",
        "    def __init__(self, nin, nout, X_train):\n",
        "        super().__init__()\n",
        "\n",
        "        self.fc1 = nn.Linear(nin, 300)\n",
        "        self.fc2 = nn.Linear(300, 300)\n",
        "        self.fc3 = nn.Linear(300, nout)\n",
        "        self.sigmoid = nn.Sigmoid()\n",
        "        self.data_mu, self.data_sigma = self.normalize(X_train)\n",
        "    \n",
        "    def forward(self, inputs):\n",
        "\n",
        "        inputs = (inputs - self.data_mu) / self.data_sigma\n",
        "        outputs = self.sigmoid(self.fc1(inputs))\n",
        "        outputs = self.sigmoid(self.fc2(outputs))\n",
        "        outputs = self.fc3(outputs)\n",
        "\n",
        "        return outputs\n",
        "\n",
        "    def normalize(self, inputs):\n",
        "        mu = torch.Tensor(np.mean(inputs,axis=0))\n",
        "        sigma = torch.Tensor(np.std(inputs,axis=0))\n",
        "        sigma[sigma < 1e-12] = 1.0\n",
        "        return mu, sigma \n"
      ],
      "execution_count": null,
      "outputs": []
    },
    {
      "cell_type": "code",
      "metadata": {
        "id": "Plx9WbHZAUWZ",
        "colab_type": "code",
        "colab": {}
      },
      "source": [
        "n_feature = X_train.shape[1]\n",
        "n_label = y_train.shape[1]\n",
        "model = MLP(n_feature, n_label, X_train)\n",
        "loss = nn.MSELoss(reduction='mean')"
      ],
      "execution_count": null,
      "outputs": []
    },
    {
      "cell_type": "code",
      "metadata": {
        "id": "utuD4C0kBF_l",
        "colab_type": "code",
        "colab": {
          "base_uri": "https://localhost:8080/",
          "height": 34
        },
        "outputId": "603f45c3-5942-4430-b850-2f95db68cf03"
      },
      "source": [
        "import tqdm\n",
        "epochs = 1000\n",
        "epoch_range = tqdm.trange(epochs, unit=\"epoch(s)\", desc=\"Network training\")\n",
        "learning_rate = 1e-3\n",
        "opt = optim.SGD(model.parameters(), lr=learning_rate, weight_decay=1e-2)\n",
        "\n",
        "for i in epoch_range:\n",
        "  for _, sample in enumerate(dataloader_train):\n",
        "    model.train()\n",
        "        \n",
        "    # clear gradients information from the previous iteration\n",
        "    opt.zero_grad()\n",
        "    # read out features and labels from the mini-batch\n",
        "    x = sample['X']\n",
        "    y = sample['y']\n",
        "\n",
        "    # predict the labels using the model\n",
        "    y_hat = model(x)\n",
        "    # compute the loss \n",
        "    J = loss(y_hat, y)\n",
        "    # compute the gradients\n",
        "    J.backward()\n",
        "    # update the parameters using the optimizer\n",
        "    opt.step()\n",
        "  \n",
        "  if i % 100 == 0:\n",
        "    model.eval()\n",
        "    for _, sample in enumerate(dataloader_train_full_dataset):\n",
        "      with torch.no_grad():\n",
        "        J_train = loss(model(sample['X']), sample['y'])\n",
        "      epoch_range.set_postfix({\"Training loss MSE\": J_train.detach().cpu().numpy()})"
      ],
      "execution_count": null,
      "outputs": [
        {
          "output_type": "stream",
          "text": [
            "Network training: 100%|██████████| 1000/1000 [00:05<00:00, 183.79epoch(s)/s, Training loss MSE=791.2132]\n"
          ],
          "name": "stderr"
        }
      ]
    },
    {
      "cell_type": "code",
      "metadata": {
        "id": "t3ePr-UoCCVD",
        "colab_type": "code",
        "colab": {
          "base_uri": "https://localhost:8080/",
          "height": 299
        },
        "outputId": "1966afe1-f206-43bf-f2ed-2ad11827ce24"
      },
      "source": [
        "model.eval()\n",
        "with torch.no_grad():\n",
        "  for _, sample in enumerate(dataloader_valid):\n",
        "    y_hat = model(sample['X'])\n",
        "    y_hat = y_hat.detach().numpy()\n",
        "    y_val = sample['y'].detach().numpy()\n",
        "\n",
        "  print_and_plot(y_hat, y_val)"
      ],
      "execution_count": null,
      "outputs": [
        {
          "output_type": "stream",
          "text": [
            "The RMSE is 26.74\n",
            "The MAE is 19.58\n"
          ],
          "name": "stdout"
        },
        {
          "output_type": "display_data",
          "data": {
            "image/png": "[encoded data removed]",
            "text/plain": [
              "<Figure size 432x288 with 1 Axes>"
            ]
          },
          "metadata": {
            "tags": [],
            "needs_background": "dark"
          }
        }
      ]
    },
    {
      "cell_type": "code",
      "metadata": {
        "id": "gEXHsdAyFYuY",
        "colab_type": "code",
        "colab": {
          "base_uri": "https://localhost:8080/",
          "height": 299
        },
        "outputId": "8e304b41-2b11-435c-8385-84f7696ec9c2"
      },
      "source": [
        "X_test = pd.read_csv('https://raw.githubusercontent.com/huaijiangzhu/SummerML/master/day5/fish_market_test_feature.csv').values\n",
        "y_test = pd.read_csv('https://raw.githubusercontent.com/huaijiangzhu/SummerML/master/day5/fish_market_test_label.csv').values\n",
        "\n",
        "y_hat = model(torch.Tensor(X_test))\n",
        "y_hat = y_hat.detach().numpy()\n",
        "\n",
        "print_and_plot(y_hat, y_test)"
      ],
      "execution_count": null,
      "outputs": [
        {
          "output_type": "stream",
          "text": [
            "The RMSE is 50.52\n",
            "The MAE is 30.68\n"
          ],
          "name": "stdout"
        },
        {
          "output_type": "display_data",
          "data": {
            "image/png": "[encoded data removed]",
            "text/plain": [
              "<Figure size 432x288 with 1 Axes>"
            ]
          },
          "metadata": {
            "tags": [],
            "needs_background": "dark"
          }
        }
      ]
    }
  ]
}