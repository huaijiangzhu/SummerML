{
  "nbformat": 4,
  "nbformat_minor": 0,
  "metadata": {
    "colab": {
      "name": "lab_mlp_fish_market.ipynb",
      "provenance": [],
      "collapsed_sections": []
    },
    "kernelspec": {
      "display_name": "Python 3",
      "language": "python",
      "name": "python3"
    },
    "language_info": {
      "codemirror_mode": {
        "name": "ipython",
        "version": 3
      },
      "file_extension": ".py",
      "mimetype": "text/x-python",
      "name": "python",
      "nbconvert_exporter": "python",
      "pygments_lexer": "ipython3",
      "version": "3.7.2"
    }
  },
  "cells": [
    {
      "cell_type": "code",
      "metadata": {
        "colab_type": "code",
        "id": "mlwzZBicICHK",
        "colab": {}
      },
      "source": [
        "import numpy as np\n",
        "import pandas as pd\n",
        "import matplotlib.pyplot as plt\n",
        "plt.rc_context({'axes.edgecolor':'white', 'xtick.color':'white', 'ytick.color':'white'});\n",
        "\n",
        "import torch\n",
        "import torch.nn as nn\n",
        "import torch.optim as optim\n",
        "from torch.utils.data import DataLoader"
      ],
      "execution_count": null,
      "outputs": []
    },
    {
      "cell_type": "code",
      "metadata": {
        "colab_type": "code",
        "id": "BF4BDO7cI7jq",
        "colab": {}
      },
      "source": [
        "def print_and_plot(y_pred, y):\n",
        "    MAE = np.mean(np.abs(y_pred - y))\n",
        "    print ('The validation MAE is {:0.2f}'.format(MAE))\n",
        "    plt.plot(y_pred, 'o', label='predicted')\n",
        "    plt.plot(y, 'o', label='ground truth')\n",
        "    plt.legend(loc='upper left');"
      ],
      "execution_count": null,
      "outputs": []
    },
    {
      "cell_type": "code",
      "metadata": {
        "colab_type": "code",
        "id": "rkxG9YxrIh1P",
        "colab": {}
      },
      "source": [
        "from sklearn.model_selection import train_test_split\n",
        "\n",
        "feature = pd.read_csv('https://raw.githubusercontent.com/huaijiangzhu/SummerML/master/day5/fish_market_feature.csv')\n",
        "label = pd.read_csv('https://raw.githubusercontent.com/huaijiangzhu/SummerML/master/day5/fish_market_label.csv')\n",
        "X = feature.values\n",
        "y = label.values\n",
        "X_train, X_val, y_train, y_val = train_test_split(X, y, test_size=0.1, random_state=3)"
      ],
      "execution_count": null,
      "outputs": []
    },
    {
      "cell_type": "markdown",
      "metadata": {
        "colab_type": "text",
        "id": "Jv15xGAIJySO"
      },
      "source": [
        "## Your task: solve the mini-project with a neural network!"
      ]
    },
    {
      "cell_type": "code",
      "metadata": {
        "colab_type": "code",
        "id": "dA5iv060ImGb",
        "colab": {}
      },
      "source": [
        "## Your code here\n"
      ],
      "execution_count": null,
      "outputs": []
    }
  ]
}