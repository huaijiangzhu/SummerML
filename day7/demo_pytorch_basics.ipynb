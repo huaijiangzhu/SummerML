{
  "nbformat": 4,
  "nbformat_minor": 0,
  "metadata": {
    "colab": {
      "name": "demo_pytorch_basic.ipynb",
      "provenance": [],
      "collapsed_sections": []
    },
    "kernelspec": {
      "name": "python3",
      "display_name": "Python 3"
    }
  },
  "cells": [
    {
      "cell_type": "code",
      "metadata": {
        "id": "cY_r_kn5ZRED",
        "colab_type": "code",
        "colab": {}
      },
      "source": [
        "import numpy as np\n",
        "import pandas as pd\n",
        "import matplotlib.pyplot as plt\n",
        "plt.rc_context({'axes.edgecolor':'white', 'xtick.color':'white', 'axes.labelcolor':'white', 'ytick.color':'white'});"
      ],
      "execution_count": 1,
      "outputs": []
    },
    {
      "cell_type": "code",
      "metadata": {
        "id": "kcCe6yT1T-GN",
        "colab_type": "code",
        "colab": {}
      },
      "source": [
        "import torch\n",
        "import torch.nn as nn\n",
        "import torch.optim as optim\n",
        "from torch.utils.data import DataLoader"
      ],
      "execution_count": 2,
      "outputs": []
    },
    {
      "cell_type": "code",
      "metadata": {
        "id": "opFoHHRoUU5t",
        "colab_type": "code",
        "colab": {
          "base_uri": "https://localhost:8080/",
          "height": 217
        },
        "outputId": "0ef14c87-c5c8-45d4-dcec-1c0646f6a653"
      },
      "source": [
        "## Pytorch tensors are very similear to numpy arrays\n",
        "X = torch.Tensor([[1, 2, 3], [4, 5, 6]])\n",
        "print (X, '\\n')\n",
        "\n",
        "## You can convert it into a numpy array\n",
        "Xnp = X.detach().numpy()\n",
        "print (type(Xnp),'\\n', Xnp, '\\n')\n",
        "\n",
        "## You can also convert a numpy array to a pytorch tensor\n",
        "X = torch.Tensor(Xnp)\n",
        "print (type(X),'\\n', X, '\\n')\n"
      ],
      "execution_count": 3,
      "outputs": [
        {
          "output_type": "stream",
          "text": [
            "tensor([[1., 2., 3.],\n",
            "        [4., 5., 6.]]) \n",
            "\n",
            "<class 'numpy.ndarray'> \n",
            " [[1. 2. 3.]\n",
            " [4. 5. 6.]] \n",
            "\n",
            "<class 'torch.Tensor'> \n",
            " tensor([[1., 2., 3.],\n",
            "        [4., 5., 6.]]) \n",
            "\n"
          ],
          "name": "stdout"
        }
      ]
    },
    {
      "cell_type": "code",
      "metadata": {
        "id": "XxycidIwUsXz",
        "colab_type": "code",
        "colab": {}
      },
      "source": [
        "## .cpu() is required when the tensor is stored on a GPU\n",
        "## .detach() is required when the tensor is tracking gradient information\n",
        "## The folloing code will NOT work without .detach().\n",
        "tensor1 = torch.tensor([1.0,2.0], requires_grad=True, device=torch.device(\"cpu\"))\n",
        "tensor1 = tensor1.detach().numpy()"
      ],
      "execution_count": 4,
      "outputs": []
    },
    {
      "cell_type": "code",
      "metadata": {
        "id": "Iev9nFbQWUPm",
        "colab_type": "code",
        "colab": {
          "base_uri": "https://localhost:8080/",
          "height": 35
        },
        "outputId": "5a008a5c-37e7-4977-d7ef-8e869448dc6e"
      },
      "source": [
        "## requires_grad is by default set to False unless the tensor is a model parameter\n",
        "print (X.requires_grad)"
      ],
      "execution_count": 5,
      "outputs": [
        {
          "output_type": "stream",
          "text": [
            "False\n"
          ],
          "name": "stdout"
        }
      ]
    },
    {
      "cell_type": "code",
      "metadata": {
        "id": "wGBRliEwXlel",
        "colab_type": "code",
        "colab": {
          "base_uri": "https://localhost:8080/",
          "height": 279
        },
        "outputId": "a99932b1-ca8e-4e1f-c2f0-fcec5fb76cf5"
      },
      "source": [
        "## the torch.nn module implements many useful functions\n",
        "sigmoid = nn.Sigmoid()\n",
        "relu = nn.ReLU()\n",
        "tanh = nn.Tanh()\n",
        "\n",
        "X = torch.linspace(-3, 3, 100)\n",
        "\n",
        "plt.plot(X.numpy(), relu(X).numpy(), label='ReLU');\n",
        "plt.plot(X.numpy(), tanh(X).numpy(), label='Tanh');\n",
        "plt.plot(X.numpy(), sigmoid(X).numpy(), label='Sigmoid');\n",
        "plt.grid()\n",
        "plt.xlabel('x')\n",
        "plt.ylabel('y')\n",
        "plt.legend(loc='upper left');\n",
        "plt.show()"
      ],
      "execution_count": 6,
      "outputs": [
        {
          "output_type": "display_data",
          "data": {
            "image/png": "[encoded data removed]",
            "text/plain": [
              "<Figure size 432x288 with 1 Axes>"
            ]
          },
          "metadata": {
            "tags": [],
            "needs_background": "dark"
          }
        }
      ]
    },
    {
      "cell_type": "code",
      "metadata": {
        "id": "Agi7hPTqjgSb",
        "colab_type": "code",
        "colab": {}
      },
      "source": [
        "## the torch.nn module implements many useful functions: layers\n",
        "n_samples = 5   ## Number of samples\n",
        "n_in = 2        ## Number of features for each sample\n",
        "n_out = 3       ## Number of outputs\n",
        "fully_connected_layer = nn.Linear(n_in, n_out)"
      ],
      "execution_count": 7,
      "outputs": []
    },
    {
      "cell_type": "code",
      "metadata": {
        "id": "sMmWLzogjgHa",
        "colab_type": "code",
        "colab": {
          "base_uri": "https://localhost:8080/",
          "height": 163
        },
        "outputId": "bff7546d-c504-41f3-d858-d0974d4e062a"
      },
      "source": [
        "\n",
        "## the weights and bias of this layer is randomly initilized\n",
        "## also notice that the requires_grad flag is set to True by default\n",
        "print (fully_connected_layer.weight, '\\n', fully_connected_layer.bias)\n",
        "print ('\\n')"
      ],
      "execution_count": 8,
      "outputs": [
        {
          "output_type": "stream",
          "text": [
            "Parameter containing:\n",
            "tensor([[-0.5717, -0.4662],\n",
            "        [ 0.6630,  0.4179],\n",
            "        [ 0.5245, -0.4552]], requires_grad=True) \n",
            " Parameter containing:\n",
            "tensor([0.5245, 0.3565, 0.6859], requires_grad=True)\n",
            "\n",
            "\n"
          ],
          "name": "stdout"
        }
      ]
    },
    {
      "cell_type": "code",
      "metadata": {
        "id": "23pq7BH4jf9g",
        "colab_type": "code",
        "colab": {
          "base_uri": "https://localhost:8080/",
          "height": 272
        },
        "outputId": "18a8310a-3e72-401b-ab2b-23e2c5c8f089"
      },
      "source": [
        "## The layer takes in the inputs arranged in rows and gives the outputs likewise\n",
        "X = torch.Tensor(n_samples, n_in) # generate some random inputs\n",
        "print (X.shape, '\\n', X, '\\n')\n",
        "\n",
        "y = fully_connected_layer(X)\n",
        "print (y.shape, '\\n', y, '\\n')"
      ],
      "execution_count": 9,
      "outputs": [
        {
          "output_type": "stream",
          "text": [
            "torch.Size([5, 2]) \n",
            " tensor([[1.0500e-35, 0.0000e+00],\n",
            "        [6.6298e-01, 4.1786e-01],\n",
            "        [5.2446e-01, 4.5521e-01],\n",
            "        [1.4013e-45, 0.0000e+00],\n",
            "        [0.0000e+00, 0.0000e+00]]) \n",
            "\n",
            "torch.Size([5, 3]) \n",
            " tensor([[ 0.5245,  0.3565,  0.6859],\n",
            "        [-0.0494,  0.9706,  0.8434],\n",
            "        [ 0.0124,  0.8944,  0.7537],\n",
            "        [ 0.5245,  0.3565,  0.6859],\n",
            "        [ 0.5245,  0.3565,  0.6859]], grad_fn=<AddmmBackward>) \n",
            "\n"
          ],
          "name": "stdout"
        }
      ]
    },
    {
      "cell_type": "code",
      "metadata": {
        "id": "S6ooZAKVZs1k",
        "colab_type": "code",
        "colab": {
          "base_uri": "https://localhost:8080/",
          "height": 145
        },
        "outputId": "6fb1a34c-ff19-467f-d2f3-eeb254fd80a1"
      },
      "source": [
        "## We can also compose pytorch functions\n",
        "softmax = nn.Softmax(dim=1)\n",
        "y = softmax(fully_connected_layer(X))\n",
        "print (y.shape, '\\n', y, '\\n')\n"
      ],
      "execution_count": 10,
      "outputs": [
        {
          "output_type": "stream",
          "text": [
            "torch.Size([5, 3]) \n",
            " tensor([[0.2459, 0.5085, 0.2456],\n",
            "        [0.3363, 0.4376, 0.2261],\n",
            "        [0.3757, 0.4675, 0.1568],\n",
            "        [0.2459, 0.5085, 0.2456],\n",
            "        [0.2459, 0.5085, 0.2456]], grad_fn=<SoftmaxBackward>) \n",
            "\n"
          ],
          "name": "stdout"
        }
      ]
    },
    {
      "cell_type": "code",
      "metadata": {
        "id": "O1F_f1HDkQLH",
        "colab_type": "code",
        "colab": {
          "base_uri": "https://localhost:8080/",
          "height": 199
        },
        "outputId": "ab297bf9-382c-449a-c97a-28f71cb2551e"
      },
      "source": [
        "# Create tensors of shape (5, 3) and (5, 2).\n",
        "x = torch.randn(5, 3)\n",
        "y = torch.randn(5, 2)\n",
        "\n",
        "# Build a fully connected layer.\n",
        "linear = nn.Linear(3, 2)\n",
        "print ('w: ', linear.weight)\n",
        "print ('b: ', linear.bias)\n",
        "\n",
        "# Build loss function and optimizer.\n",
        "criterion = nn.MSELoss()\n",
        "optimizer = torch.optim.SGD(linear.parameters(), lr=0.01)\n",
        "\n",
        "# Forward pass.\n",
        "pred = linear(x)\n",
        "\n",
        "# Compute loss.\n",
        "loss = criterion(pred, y)\n",
        "print('loss: ', loss.item())\n",
        "\n",
        "# Backward pass.\n",
        "loss.backward()\n",
        "\n",
        "# Print out the gradients.\n",
        "print ('dL/dw: ', linear.weight.grad) \n",
        "print ('dL/db: ', linear.bias.grad)\n",
        "\n",
        "# 1-step gradient descent.\n",
        "optimizer.step()\n",
        "\n",
        "# You can also perform gradient descent at the low level.\n",
        "# linear.weight.data.sub_(0.01 * linear.weight.grad.data)\n",
        "# linear.bias.data.sub_(0.01 * linear.bias.grad.data)\n",
        "\n",
        "# Print out the loss after 1-step gradient descent.\n",
        "pred = linear(x)\n",
        "loss = criterion(pred, y)\n",
        "print('loss after 1 step optimization: ', loss.item())"
      ],
      "execution_count": 10,
      "outputs": [
        {
          "output_type": "stream",
          "text": [
            "w:  Parameter containing:\n",
            "tensor([[-0.5502,  0.3303, -0.2406],\n",
            "        [-0.5599, -0.5639,  0.3294]], requires_grad=True)\n",
            "b:  Parameter containing:\n",
            "tensor([0.3769, 0.0657], requires_grad=True)\n",
            "loss:  2.529284954071045\n",
            "dL/dw:  tensor([[-0.7629,  0.4064, -1.4045],\n",
            "        [ 0.1865, -1.7171, -0.1446]])\n",
            "dL/db:  tensor([0.3161, 0.9210])\n",
            "loss after 1 step optimization:  2.463136672973633\n"
          ],
          "name": "stdout"
        }
      ]
    },
    {
      "cell_type": "code",
      "metadata": {
        "id": "Jjg3HoQwcTLK",
        "colab_type": "code",
        "colab": {
          "base_uri": "https://localhost:8080/",
          "height": 35
        },
        "outputId": "7a05deff-f442-4e60-94e7-223b37977019"
      },
      "source": [
        "## nn.Module provides a template for a neural network architecture\n",
        "class MyNeuralNet(nn.Module):\n",
        "    def __init__(self, n_in, n_out):\n",
        "        # invoke __init__() from the parent class\n",
        "        super().__init__()\n",
        "\n",
        "        # construct layers and activation function\n",
        "        self.fc1 = nn.Linear(n_in, 100)\n",
        "        self.fc2 = nn.Linear(100, 200)\n",
        "        self.fc3 = nn.Linear(200, n_out)\n",
        "        self.sigmoid = nn.Sigmoid()\n",
        " \n",
        "    \n",
        "    def forward(self, inputs):\n",
        "\n",
        "        # two hidden layers with sigmoid activation\n",
        "        outputs = self.sigmoid(self.fc1(inputs))\n",
        "        outputs = self.sigmoid(self.fc2(outputs))\n",
        "        # the output layer is a fully connected layer without special activation\n",
        "        outputs = self.fc3(outputs)\n",
        "\n",
        "        return outputs\n",
        "\n",
        "model = MyNeuralNet(n_in, n_out)\n",
        "y = model(X)\n",
        "print (y.shape)"
      ],
      "execution_count": 11,
      "outputs": [
        {
          "output_type": "stream",
          "text": [
            "torch.Size([5, 3])\n"
          ],
          "name": "stdout"
        }
      ]
    },
    {
      "cell_type": "markdown",
      "metadata": {
        "id": "p6D4k6R1fsNP",
        "colab_type": "text"
      },
      "source": [
        "## Pause for SGD lecture"
      ]
    },
    {
      "cell_type": "code",
      "metadata": {
        "id": "sKkN9xaresiX",
        "colab_type": "code",
        "colab": {}
      },
      "source": [
        "## How do we randomly select a mini-batch from the dataset? Use pytorch dataloader!\n",
        "## Let's show this on a randomly generated dataset.\n",
        "from torch.utils.data import DataLoader\n",
        "\n",
        "n_feature = 1\n",
        "n_label = 1\n",
        "N = 1000\n",
        "N_train = 800\n",
        "N_val = 200\n",
        "X_data = 10 * (torch.rand(N, n_feature) - 0.5)\n",
        "y_data = X_data * torch.cos(X_data) + torch.sin(X_data) ** 2 + 0.5*torch.rand(N, n_label)"
      ],
      "execution_count": 13,
      "outputs": []
    },
    {
      "cell_type": "code",
      "metadata": {
        "id": "3xfAPvNhglee",
        "colab_type": "code",
        "colab": {}
      },
      "source": [
        "#X_data and y_data are the dataset input and outputs\n",
        "\n",
        "Xtrain=pd.DataFrame(X_data[:N_train,:].numpy())\n",
        "Xtest=pd.DataFrame(X_data[N_train:,:].numpy())\n",
        "\n",
        "Ytrain=pd.DataFrame(y_data[:N_train,:].numpy())\n",
        "Ytest=pd.DataFrame(y_data[N_train:,:].numpy())\n",
        "\n",
        "Xtrain.to_csv('x_train.csv',index=False)\n",
        "Xtest.to_csv('x_test.csv',index=False)\n",
        "\n",
        "Ytrain.to_csv('y_train.csv',index=False)\n",
        "Ytest.to_csv('y_test.csv',index=False)"
      ],
      "execution_count": 25,
      "outputs": []
    },
    {
      "cell_type": "code",
      "metadata": {
        "id": "2OTRNSaFiTKn",
        "colab_type": "code",
        "colab": {}
      },
      "source": [
        "class CustomDataset(torch.utils.data.Dataset):\n",
        "    def __init__(self,inp_csv,label_csv):\n",
        "      self.X_data=torch.Tensor(pd.read_csv(inp_csv).values)\n",
        "      self.y_data=torch.Tensor(pd.read_csv(label_csv).values)\n",
        "\n",
        "    def __getitem__(self, index):\n",
        "      X = self.X_data[index]\n",
        "      y = self.y_data[index]\n",
        "      sample = {'X': X, 'y': y}\n",
        "      return sample\n",
        "\n",
        "    def __len__(self):\n",
        "      return self.X_data.size()[0]"
      ],
      "execution_count": 27,
      "outputs": []
    },
    {
      "cell_type": "code",
      "metadata": {
        "id": "hjeTTHYeiaMb",
        "colab_type": "code",
        "colab": {}
      },
      "source": [
        "train_dataset=CustomDataset('x_train.csv','y_train.csv')\n",
        "valid_dataset=CustomDataset('x_test.csv','y_test.csv')"
      ],
      "execution_count": 28,
      "outputs": []
    },
    {
      "cell_type": "code",
      "metadata": {
        "id": "ybHOhEGVcPfo",
        "colab_type": "code",
        "colab": {
          "base_uri": "https://localhost:8080/",
          "height": 890
        },
        "outputId": "b3f069e2-33cb-4f68-f5df-25cda03d51fb"
      },
      "source": [
        "dataloader_train = DataLoader(train_dataset, batch_size=50, shuffle=True)\n",
        "dataloader_valid = DataLoader(valid_dataset, batch_size=200, shuffle=True)\n",
        "\n",
        "dataloader_train_full_dataset = DataLoader(train_dataset, batch_size=800, shuffle=False)\n",
        "\n",
        "for idx, sample in enumerate(dataloader_train):\n",
        "    x = sample['X']\n",
        "    y = sample['y']\n",
        "    print (x.shape, y.shape)\n",
        "    print ('\\n')"
      ],
      "execution_count": 29,
      "outputs": [
        {
          "output_type": "stream",
          "text": [
            "torch.Size([50, 1]) torch.Size([50, 1])\n",
            "\n",
            "\n",
            "torch.Size([50, 1]) torch.Size([50, 1])\n",
            "\n",
            "\n",
            "torch.Size([50, 1]) torch.Size([50, 1])\n",
            "\n",
            "\n",
            "torch.Size([50, 1]) torch.Size([50, 1])\n",
            "\n",
            "\n",
            "torch.Size([50, 1]) torch.Size([50, 1])\n",
            "\n",
            "\n",
            "torch.Size([50, 1]) torch.Size([50, 1])\n",
            "\n",
            "\n",
            "torch.Size([50, 1]) torch.Size([50, 1])\n",
            "\n",
            "\n",
            "torch.Size([50, 1]) torch.Size([50, 1])\n",
            "\n",
            "\n",
            "torch.Size([50, 1]) torch.Size([50, 1])\n",
            "\n",
            "\n",
            "torch.Size([50, 1]) torch.Size([50, 1])\n",
            "\n",
            "\n",
            "torch.Size([50, 1]) torch.Size([50, 1])\n",
            "\n",
            "\n",
            "torch.Size([50, 1]) torch.Size([50, 1])\n",
            "\n",
            "\n",
            "torch.Size([50, 1]) torch.Size([50, 1])\n",
            "\n",
            "\n",
            "torch.Size([50, 1]) torch.Size([50, 1])\n",
            "\n",
            "\n",
            "torch.Size([50, 1]) torch.Size([50, 1])\n",
            "\n",
            "\n",
            "torch.Size([50, 1]) torch.Size([50, 1])\n",
            "\n",
            "\n"
          ],
          "name": "stdout"
        }
      ]
    },
    {
      "cell_type": "markdown",
      "metadata": {
        "id": "UqH3R14DNRzX",
        "colab_type": "text"
      },
      "source": [
        "## Pipeline\n",
        "\n",
        "*   Define the dataloader\n",
        "*   Define the model\n",
        "*   Define the loss function to use\n",
        "*   Define the optimization algorithm (for e.g., SGD)\n",
        "*   For every minibatch:\n",
        "        1.   Clear gradient information from previous iteration\n",
        "        2.   Forward pass through the model and compute the loss\n",
        "        3.   Backpropogate the error to compute the gradient update for each parameter\n",
        "        4.   Update the parameters based on the optimization algorithm\n",
        "*   At certain epoch intervals, evaluate loss over the whole training dataset\n",
        "\n",
        "\n",
        "Here 1 epoch means we have iterated through the whole dataset once.\n",
        "\n",
        "\n",
        "\n",
        "\n",
        "\n",
        "\n",
        "\n"
      ]
    },
    {
      "cell_type": "code",
      "metadata": {
        "id": "iaDqxz-Jm_hZ",
        "colab_type": "code",
        "colab": {
          "base_uri": "https://localhost:8080/",
          "height": 1000
        },
        "outputId": "5ecf255b-f9a7-4d8b-9217-bbc600383cef"
      },
      "source": [
        "## That looks good. But how do we train NNs with SGD exactly?\n",
        "\n",
        "# We need a model, a loss function and an optimizer!\n",
        "\n",
        "model = MyNeuralNet(n_feature, n_label)\n",
        "loss = nn.MSELoss(reduction='mean')\n",
        "learning_rate = 1e-2\n",
        "opt = optim.SGD(model.parameters(), lr=learning_rate)\n",
        "\n",
        "# How many times should we go over the whole dataset?\n",
        "epochs = 10000\n",
        "\n",
        "# an empty list to collect the training loss\n",
        "J_train_all = []\n",
        "\n",
        "for i in range(epochs):\n",
        "    for _, sample in enumerate(dataloader_train):\n",
        "        # set model to training mode\n",
        "        model.train()\n",
        "        # clear gradients information from the previous iteration\n",
        "        opt.zero_grad()\n",
        "        # read out features and labels from the mini-batch\n",
        "        x = sample['X']\n",
        "        y = sample['y']\n",
        "\n",
        "        # predict the labels using the model\n",
        "        y_hat = model(x)\n",
        "        # compute the loss \n",
        "        J = loss(y_hat, y)\n",
        "        # compute the gradients\n",
        "        J.backward()\n",
        "        # update the parameters using the optimizer\n",
        "        opt.step()\n",
        "\n",
        "    # You might want to check the training loss from time to time...\n",
        "    if i % 100 == 0:\n",
        "        # set the model to evaluation mode\n",
        "        model.eval()\n",
        "        # we don't really need to compute the gradients here\n",
        "        # so temporally turn it off to accelerate the computation\n",
        "        for _, sample in enumerate(dataloader_train_full_dataset):\n",
        "          with torch.no_grad():\n",
        "            J_train = loss(model(sample['X']), sample['y'])\n",
        "            J_train_all.append(J_train)\n",
        "            print (J_train.numpy()) \n",
        "            # print() is ugly and slows down the code.\n",
        "            # Pro tips: Google the tqdm library and learn how to show a nicer training progress bar!  "
      ],
      "execution_count": 30,
      "outputs": [
        {
          "output_type": "stream",
          "text": [
            "2.8587973\n",
            "1.6232458\n",
            "1.5743178\n",
            "1.5474051\n",
            "1.5354781\n",
            "1.5420908\n",
            "1.4893681\n",
            "1.4589444\n",
            "1.3439937\n",
            "1.045675\n",
            "0.72757345\n",
            "0.75082093\n",
            "0.5032976\n",
            "0.32847324\n",
            "0.223801\n",
            "0.54065585\n",
            "0.14263591\n",
            "0.10886481\n",
            "0.12771277\n",
            "0.082812995\n",
            "0.113879964\n",
            "0.11081605\n",
            "0.13922301\n",
            "0.12047455\n",
            "0.17498459\n",
            "0.057826042\n",
            "0.06478011\n",
            "0.045820598\n",
            "0.086898334\n",
            "0.06655147\n",
            "0.0620248\n",
            "0.057011474\n",
            "0.06904147\n",
            "0.05135393\n",
            "0.041064754\n",
            "0.03633069\n",
            "0.052026976\n",
            "0.03455872\n",
            "0.043388873\n",
            "0.033042785\n",
            "0.028397545\n",
            "0.041264657\n",
            "0.03023205\n",
            "0.06482603\n",
            "0.042795688\n",
            "0.043456372\n",
            "0.026684677\n",
            "0.037032742\n",
            "0.028441291\n",
            "0.027252084\n",
            "0.05540625\n",
            "0.03157682\n",
            "0.068325624\n",
            "0.026621666\n",
            "0.04021101\n",
            "0.030762134\n",
            "0.030713983\n",
            "0.024078537\n",
            "0.02682843\n",
            "0.027045818\n",
            "0.028104734\n",
            "0.026501188\n",
            "0.030300906\n",
            "0.03125201\n",
            "0.0333232\n",
            "0.027071673\n",
            "0.023568764\n",
            "0.027347213\n",
            "0.036345087\n",
            "0.032790154\n",
            "0.023497388\n",
            "0.050495178\n",
            "0.035294037\n",
            "0.025369566\n",
            "0.0345532\n",
            "0.038159396\n",
            "0.030931616\n",
            "0.02846987\n",
            "0.025756793\n",
            "0.04217402\n",
            "0.02801683\n",
            "0.026621949\n",
            "0.023386667\n",
            "0.029594056\n",
            "0.028846778\n",
            "0.022982093\n",
            "0.03518907\n",
            "0.026667915\n",
            "0.023315303\n",
            "0.02336824\n",
            "0.02411677\n",
            "0.028893005\n",
            "0.03921179\n",
            "0.023776645\n",
            "0.026256537\n",
            "0.028259598\n",
            "0.026423108\n",
            "0.023525571\n",
            "0.024583483\n",
            "0.029803079\n"
          ],
          "name": "stdout"
        }
      ]
    },
    {
      "cell_type": "code",
      "metadata": {
        "id": "uOXmHEA6puXa",
        "colab_type": "code",
        "colab": {
          "base_uri": "https://localhost:8080/",
          "height": 283
        },
        "outputId": "621e447e-bcab-4e55-96cd-df7094580e28"
      },
      "source": [
        "## Plot the loss curve\n",
        "\n",
        "plt.plot(np.arange(0, epochs,100), J_train_all)\n",
        "plt.grid()\n",
        "plt.xlabel('Epochs')\n",
        "plt.ylabel('Training loss');"
      ],
      "execution_count": 34,
      "outputs": [
        {
          "output_type": "display_data",
          "data": {
            "image/png": "[encoded data removed]",
            "text/plain": [
              "<Figure size 432x288 with 1 Axes>"
            ]
          },
          "metadata": {
            "tags": [],
            "needs_background": "dark"
          }
        }
      ]
    },
    {
      "cell_type": "code",
      "metadata": {
        "id": "hA1ShHBNoZ79",
        "colab_type": "code",
        "colab": {
          "base_uri": "https://localhost:8080/",
          "height": 279
        },
        "outputId": "97fc3bda-2ea0-45c2-a6e0-0f2a6cc77983"
      },
      "source": [
        "model.eval()\n",
        "with torch.no_grad():\n",
        "  for _, sample in enumerate(dataloader_valid):\n",
        "    y_hat = model(sample['X'])\n",
        "    \n",
        "    plt.xlabel('x')\n",
        "    plt.ylabel('y')\n",
        "    plt.scatter(sample['X'].numpy(), sample['y'].numpy(), marker='o', label='ground truth')\n",
        "    plt.scatter(sample['X'].numpy(), y_hat.numpy(), marker='x', label='predicted')\n",
        "    plt.grid()\n",
        "    plt.legend();"
      ],
      "execution_count": 33,
      "outputs": [
        {
          "output_type": "display_data",
          "data": {
            "image/png": "[encoded data removed]",
            "text/plain": [
              "<Figure size 432x288 with 1 Axes>"
            ]
          },
          "metadata": {
            "tags": [],
            "needs_background": "dark"
          }
        }
      ]
    },
    {
      "cell_type": "code",
      "metadata": {
        "id": "BIeRdrFsnsyO",
        "colab_type": "code",
        "colab": {}
      },
      "source": [
        ""
      ],
      "execution_count": null,
      "outputs": []
    }
  ]
}