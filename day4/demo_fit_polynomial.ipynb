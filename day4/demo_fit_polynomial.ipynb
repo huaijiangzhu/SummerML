{
  "nbformat": 4,
  "nbformat_minor": 0,
  "metadata": {
    "colab": {
      "name": "Lab_Fit_Polynomial.ipynb",
      "provenance": [],
      "collapsed_sections": [],
      "include_colab_link": true
    },
    "kernelspec": {
      "display_name": "Python 3",
      "language": "python",
      "name": "python3"
    },
    "language_info": {
      "codemirror_mode": {
        "name": "ipython",
        "version": 3
      },
      "file_extension": ".py",
      "mimetype": "text/x-python",
      "name": "python",
      "nbconvert_exporter": "python",
      "pygments_lexer": "ipython3",
      "version": "3.7.4"
    }
  },
  "cells": [
    {
      "cell_type": "markdown",
      "metadata": {
        "id": "view-in-github",
        "colab_type": "text"
      },
      "source": [
        "<a href=\"https://colab.research.google.com/github/huaijiangzhu/SummerML/blob/master/day4/demo_fit_polynomial.ipynb\" target=\"_parent\"><img src=\"https://colab.research.google.com/assets/colab-badge.svg\" alt=\"Open In Colab\"/></a>"
      ]
    },
    {
      "cell_type": "markdown",
      "metadata": {
        "colab_type": "text",
        "id": "N2NAXNEpSTcj"
      },
      "source": [
        "# Fit a Polynomial\n",
        "\n",
        "- You are given the data set below with x and y values.\n",
        "\n",
        "- Try to fit the data using a polynomial with a certain degree.\n",
        "\n",
        "- Calculate mean square error between the sample y and your predicted y.\n",
        "\n",
        "- Try different polynomial degree and see if you can improve the mse.\n",
        "\n",
        "- Plot your polynomial over the data points"
      ]
    },
    {
      "cell_type": "code",
      "metadata": {
        "id": "wSar4Pz6giXO",
        "colab_type": "code",
        "colab": {}
      },
      "source": [
        "import pandas as pd\n",
        "import matplotlib\n",
        "import matplotlib.pyplot as plt"
      ],
      "execution_count": null,
      "outputs": []
    },
    {
      "cell_type": "code",
      "metadata": {
        "colab_type": "code",
        "id": "2ny81cLMSE_M",
        "colab": {
          "base_uri": "https://localhost:8080/",
          "height": 282
        },
        "outputId": "de3483e5-c120-48e4-e7f6-29a15dd7ec0a"
      },
      "source": [
        "url = 'https://raw.githubusercontent.com/huaijiangzhu/SummerML/master/day3/polyfit_data.csv'\n",
        "df = pd.read_csv(url)\n",
        "x = df['x'].values.reshape(-1,1)\n",
        "y = df['y'].values.reshape(-1,1)\n",
        "plt.plot(x,y,'o')"
      ],
      "execution_count": null,
      "outputs": [
        {
          "output_type": "execute_result",
          "data": {
            "text/plain": [
              "[<matplotlib.lines.Line2D at 0x7f2d352c8748>]"
            ]
          },
          "metadata": {
            "tags": []
          },
          "execution_count": 2
        },
        {
          "output_type": "display_data",
          "data": {
            "image/png": "[encoded data removed]",
            "text/plain": [
              "<Figure size 432x288 with 1 Axes>"
            ]
          },
          "metadata": {
            "tags": [],
            "needs_background": "light"
          }
        }
      ]
    },
    {
      "cell_type": "code",
      "metadata": {
        "colab_type": "code",
        "id": "XwuideM0SQyo",
        "colab": {}
      },
      "source": [
        ""
      ],
      "execution_count": null,
      "outputs": []
    }
  ]
}