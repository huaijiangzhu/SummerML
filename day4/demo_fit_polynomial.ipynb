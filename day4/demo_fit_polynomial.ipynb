{
  "nbformat": 4,
  "nbformat_minor": 0,
  "metadata": {
    "colab": {
      "name": "Lab_Fit_Polynomial.ipynb",
      "provenance": [],
      "collapsed_sections": [],
      "include_colab_link": true
    },
    "kernelspec": {
      "display_name": "Python 3",
      "language": "python",
      "name": "python3"
    },
    "language_info": {
      "codemirror_mode": {
        "name": "ipython",
        "version": 3
      },
      "file_extension": ".py",
      "mimetype": "text/x-python",
      "name": "python",
      "nbconvert_exporter": "python",
      "pygments_lexer": "ipython3",
      "version": "3.7.4"
    }
  },
  "cells": [
    {
      "cell_type": "markdown",
      "metadata": {
        "id": "view-in-github",
        "colab_type": "text"
      },
      "source": [
        "<a href=\"https://colab.research.google.com/github/huaijiangzhu/SummerML/blob/master/day4/demo_fit_polynomial.ipynb\" target=\"_parent\"><img src=\"https://colab.research.google.com/assets/colab-badge.svg\" alt=\"Open In Colab\"/></a>"
      ]
    },
    {
      "cell_type": "markdown",
      "metadata": {
        "colab_type": "text",
        "id": "N2NAXNEpSTcj"
      },
      "source": [
        "# Fit a Polynomial\n",
        "\n",
        "- You are given the data set below with x and y values.\n",
        "\n",
        "- Try to fit the data using a polynomial with a certain degree.\n",
        "\n",
        "- Calculate mean square error between the sample y and your predicted y.\n",
        "\n",
        "- Try different polynomial degree and see if you can improve the mse.\n",
        "\n",
        "- Plot your polynomial over the data points"
      ]
    },
    {
      "cell_type": "code",
      "metadata": {
        "id": "wSar4Pz6giXO",
        "colab_type": "code",
        "colab": {}
      },
      "source": [
        "import pandas as pd\n",
        "import matplotlib\n",
        "import matplotlib.pyplot as plt"
      ],
      "execution_count": 1,
      "outputs": []
    },
    {
      "cell_type": "code",
      "metadata": {
        "colab_type": "code",
        "id": "2ny81cLMSE_M",
        "colab": {
          "base_uri": "https://localhost:8080/",
          "height": 282
        },
        "outputId": "865aa399-f292-41b8-dc25-27be739693c1"
      },
      "source": [
        "url = 'https://raw.githubusercontent.com/huaijiangzhu/SummerML/master/day4/polyfit_data.csv'\n",
        "df = pd.read_csv(url)\n",
        "x = df['x'].values\n",
        "y = df['y'].values\n",
        "plt.plot(x,y,'o')"
      ],
      "execution_count": 2,
      "outputs": [
        {
          "output_type": "execute_result",
          "data": {
            "text/plain": [
              "[<matplotlib.lines.Line2D at 0x7f148aa4a6d8>]"
            ]
          },
          "metadata": {
            "tags": []
          },
          "execution_count": 2
        },
        {
          "output_type": "display_data",
          "data": {
            "image/png": "[encoded data removed]",
            "text/plain": [
              "<Figure size 432x288 with 1 Axes>"
            ]
          },
          "metadata": {
            "tags": [],
            "needs_background": "light"
          }
        }
      ]
    },
    {
      "cell_type": "markdown",
      "metadata": {
        "id": "TPWqdpUceh6k",
        "colab_type": "text"
      },
      "source": [
        "## Solution (NumPy)"
      ]
    },
    {
      "cell_type": "code",
      "metadata": {
        "colab_type": "code",
        "id": "XwuideM0SQyo",
        "colab": {
          "base_uri": "https://localhost:8080/",
          "height": 282
        },
        "outputId": "72d99d13-7770-46a4-bd5a-df6312b54dab"
      },
      "source": [
        "import numpy as np\n",
        "\n",
        "degree = 4\n",
        "weights = np.polyfit(x.reshape(-1,), y.reshape(-1,), degree)\n",
        "\n",
        "model = np.poly1d(weights)\n",
        "\n",
        "yhat = model(x)\n",
        "\n",
        "mse = np.mean((y-yhat)**2)\n",
        "print('Polynomial degree = {}    '.format(degree), 'mse = {}'.format(mse))\n",
        "\n",
        "xline = np.linspace(np.min(x), np.max(x), 100)\n",
        "yline = model(xline)\n",
        "plt.plot(xline,yline,'b');\n",
        "plt.plot(x,y,'o');"
      ],
      "execution_count": 3,
      "outputs": [
        {
          "output_type": "stream",
          "text": [
            "Polynomial degree = 4     mse = 0.03167588766531584\n"
          ],
          "name": "stdout"
        },
        {
          "output_type": "display_data",
          "data": {
            "image/png": "[encoded data removed]",
            "text/plain": [
              "<Figure size 432x288 with 1 Axes>"
            ]
          },
          "metadata": {
            "tags": [],
            "needs_background": "light"
          }
        }
      ]
    },
    {
      "cell_type": "markdown",
      "metadata": {
        "id": "YGiodWxhepm5",
        "colab_type": "text"
      },
      "source": [
        "## Solution (scikit-learn)"
      ]
    },
    {
      "cell_type": "code",
      "metadata": {
        "id": "fhnNe8XoenAb",
        "colab_type": "code",
        "colab": {
          "base_uri": "https://localhost:8080/",
          "height": 282
        },
        "outputId": "1f9e66e6-4062-4099-b783-ba737d11250d"
      },
      "source": [
        "from sklearn import linear_model\n",
        "\n",
        "def design_matrix(x, M):\n",
        "    x = x.reshape(-1,1)\n",
        "    bias_col = np.ones((x.shape[0], 1))\n",
        "    PhiX = bias_col\n",
        "    for i in np.arange(1, M+1):\n",
        "        PhiX = np.hstack([PhiX, x**i])\n",
        "    return PhiX\n",
        "\n",
        "X = design_matrix(x, degree)\n",
        "# fitting the model\n",
        "reg = linear_model.LinearRegression(fit_intercept=False)\n",
        "reg.fit(X, y)\n",
        "w = reg.coef_\n",
        "\n",
        "# training error\n",
        "yhat = reg.predict(X)\n",
        "mse = np.mean((y-yhat)**2)\n",
        "print('Polynomial degree = {}    '.format(degree), 'mse = {}'.format(mse))\n",
        "plt.plot(xline,reg.predict(design_matrix(xline, degree)),'b');\n",
        "plt.plot(x,y,'o');"
      ],
      "execution_count": 4,
      "outputs": [
        {
          "output_type": "stream",
          "text": [
            "Polynomial degree = 4     mse = 0.03167588766531582\n"
          ],
          "name": "stdout"
        },
        {
          "output_type": "display_data",
          "data": {
            "image/png": "[encoded data removed]",
            "text/plain": [
              "<Figure size 432x288 with 1 Axes>"
            ]
          },
          "metadata": {
            "tags": [],
            "needs_background": "light"
          }
        }
      ]
    },
    {
      "cell_type": "code",
      "metadata": {
        "id": "GawADqAfgIEX",
        "colab_type": "code",
        "colab": {}
      },
      "source": [
        ""
      ],
      "execution_count": 4,
      "outputs": []
    }
  ]
}