{
  "nbformat": 4,
  "nbformat_minor": 0,
  "metadata": {
    "kernelspec": {
      "display_name": "Python 3",
      "language": "python",
      "name": "python3"
    },
    "language_info": {
      "codemirror_mode": {
        "name": "ipython",
        "version": 3
      },
      "file_extension": ".py",
      "mimetype": "text/x-python",
      "name": "python",
      "nbconvert_exporter": "python",
      "pygments_lexer": "ipython3",
      "version": "3.7.2"
    },
    "colab": {
      "name": "lab_overfitting_regularization.ipynb",
      "provenance": []
    }
  },
  "cells": [
    {
      "cell_type": "markdown",
      "metadata": {
        "id": "iNK0ITS8hXrV",
        "colab_type": "text"
      },
      "source": [
        "# Demo: Overfitting, Weight-Regularization"
      ]
    },
    {
      "cell_type": "code",
      "metadata": {
        "id": "KcSnaL94hXrV",
        "colab_type": "code",
        "colab": {
          "base_uri": "https://localhost:8080/",
          "height": 283
        },
        "outputId": "a64d6bbe-36c5-4011-e39f-a97f151d1775"
      },
      "source": [
        "import numpy as np\n",
        "import matplotlib\n",
        "import matplotlib.pyplot as plt\n",
        "%matplotlib inline\n",
        "\n",
        "nsamp = 25 # number of samples taken\n",
        "p = np.array([5,1,-2,-.5]) # true coefficients\n",
        "var = 0.1 # noise variance\n",
        "\n",
        "# we'll take a set of measurements uniformly\n",
        "x = np.linspace(-1,1,nsamp)\n",
        "y_true = np.polyval(p,x)\n",
        "# noisy measurement, ym. use sqrt(var) as numpy normal standard deviation\n",
        "y = y_true + np.random.normal(0, np.sqrt(var), nsamp)\n",
        "\n",
        "plt.plot(x,y_true)\n",
        "# we can force a scatter plot in plt.plot by making the third argument 'o'\n",
        "plt.plot(x,y,'ob',markeredgecolor='black');\n",
        "plt.grid();\n",
        "plt.xlabel('x')\n",
        "plt.ylabel('y')\n",
        "plt.xlim([-1,1])\n",
        "plt.ylim([-3,4])\n",
        "plt.legend(['True Process, y_true','Noisy Measurement, y']);"
      ],
      "execution_count": 1,
      "outputs": [
        {
          "output_type": "display_data",
          "data": {
            "image/png": "[encoded data removed]",
            "text/plain": [
              "<Figure size 432x288 with 1 Axes>"
            ]
          },
          "metadata": {
            "tags": [],
            "needs_background": "light"
          }
        }
      ]
    },
    {
      "cell_type": "code",
      "metadata": {
        "id": "syyXCKIhhXrb",
        "colab_type": "code",
        "colab": {}
      },
      "source": [
        "# train test validation split\n",
        "ntrain = 15\n",
        "nval = 5\n",
        "ntest = 5\n",
        "\n",
        "inds = np.random.permutation(nsamp)\n",
        "\n",
        "train_choices = inds[:ntrain]\n",
        "val_choices = inds[ntrain:ntrain+nval]\n",
        "test_choices = inds[ntrain+nval:]\n",
        "\n",
        "xtrain, ytrain = x[train_choices], y[train_choices]\n",
        "xval, yval     = x[val_choices], y[val_choices]\n",
        "xtest, ytest   = x[test_choices], y[test_choices]"
      ],
      "execution_count": 2,
      "outputs": []
    },
    {
      "cell_type": "code",
      "metadata": {
        "id": "wTKUe2lehXrd",
        "colab_type": "code",
        "colab": {
          "base_uri": "https://localhost:8080/",
          "height": 34
        },
        "outputId": "d35937d0-b2fc-4b64-b99b-989aebb655cc"
      },
      "source": [
        "# forming the design matrix\n",
        "# features x, model order M\n",
        "\n",
        "def design_matrix(x, M):\n",
        "    x = x.reshape(-1,1)\n",
        "    bias_col = np.ones((x.shape[0], 1))\n",
        "    PhiX = bias_col\n",
        "    for i in np.arange(1, M+1):\n",
        "        PhiX = np.hstack([PhiX, x ** i])\n",
        "    return PhiX\n",
        "\n",
        "\n",
        "M = 25\n",
        "Xtrain = design_matrix(xtrain, M)\n",
        "print(Xtrain.shape)"
      ],
      "execution_count": 3,
      "outputs": [
        {
          "output_type": "stream",
          "text": [
            "(15, 26)\n"
          ],
          "name": "stdout"
        }
      ]
    },
    {
      "cell_type": "code",
      "metadata": {
        "id": "OaQtjOPHhXrf",
        "colab_type": "code",
        "colab": {
          "base_uri": "https://localhost:8080/",
          "height": 782
        },
        "outputId": "78dbde94-e417-450a-c72e-802a9b507598"
      },
      "source": [
        "from sklearn import linear_model\n",
        "\n",
        "# fitting the model\n",
        "reg = linear_model.LinearRegression(fit_intercept=False)\n",
        "reg.fit(Xtrain, ytrain)\n",
        "w = reg.coef_\n",
        "\n",
        "# training error\n",
        "yhat = reg.predict(Xtrain)\n",
        "RMSE = np.sqrt( np.mean((ytrain-yhat)**2) )\n",
        "print(\"Train RMSE = %.4f\" % RMSE)\n",
        "\n",
        "# test error\n",
        "Xtest = design_matrix(xtest, M)\n",
        "yhat = reg.predict(Xtest)\n",
        "RMSE = np.sqrt( np.mean((ytest-yhat)**2) )\n",
        "print(\"Test RMSE = %.4f\" % RMSE)\n",
        "\n",
        "# plotting\n",
        "x_line = np.linspace(-1,1,500).reshape(-1,1)\n",
        "X_line = design_matrix(x_line, M)\n",
        "y_line = reg.predict(X_line)\n",
        "\n",
        "plt.figure()\n",
        "plt.plot(x_line, y_line)\n",
        "plt.plot(xtrain,ytrain,'o',markeredgecolor='black')\n",
        "plt.plot(xtest,ytest,'o',markeredgecolor='black')\n",
        "# plt.xlim([-1,1])\n",
        "# plt.ylim([-3,3])\n",
        "plt.legend(['Model','Train Points', 'Test Points'])\n",
        "plt.show()\n",
        "\n",
        "print(\"w = \")\n",
        "with np.printoptions(precision=2, suppress=True):\n",
        "    print(w.reshape(-1,1))"
      ],
      "execution_count": 4,
      "outputs": [
        {
          "output_type": "stream",
          "text": [
            "Train RMSE = 0.0000\n",
            "Test RMSE = 119.0419\n"
          ],
          "name": "stdout"
        },
        {
          "output_type": "display_data",
          "data": {
            "image/png": "[encoded data removed]",
            "text/plain": [
              "<Figure size 432x288 with 1 Axes>"
            ]
          },
          "metadata": {
            "tags": [],
            "needs_background": "light"
          }
        },
        {
          "output_type": "stream",
          "text": [
            "w = \n",
            "[[   -0.54]\n",
            " [   -3.49]\n",
            " [   -2.9 ]\n",
            " [   77.01]\n",
            " [  180.23]\n",
            " [ -994.52]\n",
            " [-2295.3 ]\n",
            " [ 3820.52]\n",
            " [ 8910.18]\n",
            " [-3171.32]\n",
            " [-7860.71]\n",
            " [-1282.96]\n",
            " [-5952.58]\n",
            " [ -880.04]\n",
            " [  616.01]\n",
            " [ -705.93]\n",
            " [ 4188.85]\n",
            " [  140.55]\n",
            " [ 4591.93]\n",
            " [ 1334.71]\n",
            " [ 3382.44]\n",
            " [ 2431.3 ]\n",
            " [ 1735.49]\n",
            " [ 3229.14]\n",
            " [  219.24]\n",
            " [ 3719.67]]\n"
          ],
          "name": "stdout"
        }
      ]
    },
    {
      "cell_type": "code",
      "metadata": {
        "id": "KJAgZ3wshXri",
        "colab_type": "code",
        "colab": {
          "base_uri": "https://localhost:8080/",
          "height": 780
        },
        "outputId": "86574d27-07b6-436f-b5eb-6bcf6222fd64"
      },
      "source": [
        "# weight based regularization\n",
        "# Lasso: L1 norm regularizer\n",
        "# Ridge: L2 norm regularizer\n",
        "\n",
        "# fitting the model\n",
        "# reg = linear_model.Lasso(alpha=.02, fit_intercept=False)\n",
        "reg = linear_model.Ridge(alpha=.05, fit_intercept=False)\n",
        "\n",
        "reg.fit(Xtrain,ytrain)\n",
        "w = reg.coef_\n",
        "\n",
        "# training error\n",
        "yhat = reg.predict(Xtrain)\n",
        "RMSE = np.sqrt( np.mean((ytrain-yhat)**2) )\n",
        "print(\"Train RMSE = %.4f\" % RMSE)\n",
        "\n",
        "# validation error\n",
        "Xval = design_matrix(xval, M)\n",
        "yhat = reg.predict(Xval)\n",
        "RMSE = np.sqrt( np.mean((yval-yhat)**2) )\n",
        "print(\"Val RMSE = %.4f\" % RMSE)\n",
        "\n",
        "# plotting\n",
        "x_line = np.linspace(-1,1,500).reshape(-1,1)\n",
        "X_line = design_matrix(x_line, M)\n",
        "y_line = reg.predict(X_line)\n",
        "\n",
        "plt.figure()\n",
        "plt.plot(x_line, y_line)\n",
        "plt.plot(xtrain,ytrain,'o',markeredgecolor='black')\n",
        "plt.plot(xtest,ytest,'o',markeredgecolor='black')\n",
        "plt.plot(xval,yval,'o',markeredgecolor='black')\n",
        "# plt.xlim([-1,1])\n",
        "# plt.ylim([-3,3])\n",
        "plt.legend(['Model','Train Points', 'Test Points', 'Val Points'])\n",
        "plt.show()\n",
        "\n",
        "print(\"w = \")\n",
        "with np.printoptions(precision=2, suppress=True):\n",
        "    print(w.reshape(-1,1))"
      ],
      "execution_count": 5,
      "outputs": [
        {
          "output_type": "stream",
          "text": [
            "Train RMSE = 0.2557\n",
            "Val RMSE = 1.2464\n"
          ],
          "name": "stdout"
        },
        {
          "output_type": "display_data",
          "data": {
            "image/png": "[encoded data removed]",
            "text/plain": [
              "<Figure size 432x288 with 1 Axes>"
            ]
          },
          "metadata": {
            "tags": [],
            "needs_background": "light"
          }
        },
        {
          "output_type": "stream",
          "text": [
            "w = \n",
            "[[-0.51]\n",
            " [-1.45]\n",
            " [ 0.67]\n",
            " [ 2.92]\n",
            " [ 0.13]\n",
            " [ 1.76]\n",
            " [ 0.13]\n",
            " [ 0.88]\n",
            " [ 0.17]\n",
            " [ 0.4 ]\n",
            " [ 0.18]\n",
            " [ 0.15]\n",
            " [ 0.18]\n",
            " [ 0.03]\n",
            " [ 0.16]\n",
            " [-0.04]\n",
            " [ 0.15]\n",
            " [-0.08]\n",
            " [ 0.14]\n",
            " [-0.1 ]\n",
            " [ 0.14]\n",
            " [-0.11]\n",
            " [ 0.13]\n",
            " [-0.11]\n",
            " [ 0.13]\n",
            " [-0.12]]\n"
          ],
          "name": "stdout"
        }
      ]
    },
    {
      "cell_type": "code",
      "metadata": {
        "id": "6Wi5nRAOhXrk",
        "colab_type": "code",
        "colab": {
          "base_uri": "https://localhost:8080/",
          "height": 34
        },
        "outputId": "e7c3d35b-1235-484b-8066-df4242da03bb"
      },
      "source": [
        "# test error\n",
        "Xtest = design_matrix(xtest, M)\n",
        "yhat = reg.predict(Xtest)\n",
        "RMSE = np.sqrt(np.mean((ytest-yhat)**2))\n",
        "print(\"Test RMSE = %.4f\" % RMSE)"
      ],
      "execution_count": 6,
      "outputs": [
        {
          "output_type": "stream",
          "text": [
            "Test RMSE = 0.4004\n"
          ],
          "name": "stdout"
        }
      ]
    }
  ]
}