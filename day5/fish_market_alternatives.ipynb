{
  "nbformat": 4,
  "nbformat_minor": 0,
  "metadata": {
    "kernelspec": {
      "display_name": "Python 3",
      "language": "python",
      "name": "python3"
    },
    "language_info": {
      "codemirror_mode": {
        "name": "ipython",
        "version": 3
      },
      "file_extension": ".py",
      "mimetype": "text/x-python",
      "name": "python",
      "nbconvert_exporter": "python",
      "pygments_lexer": "ipython3",
      "version": "3.7.2"
    },
    "colab": {
      "name": "fish_market.ipynb",
      "provenance": [],
      "collapsed_sections": [],
      "include_colab_link": true
    }
  },
  "cells": [
    {
      "cell_type": "markdown",
      "metadata": {
        "id": "view-in-github",
        "colab_type": "text"
      },
      "source": [
        "<a href=\"https://colab.research.google.com/github/huaijiangzhu/SummerML/blob/master/day5/fish_market_alternatives.ipynb\" target=\"_parent\"><img src=\"https://colab.research.google.com/assets/colab-badge.svg\" alt=\"Open In Colab\"/></a>"
      ]
    },
    {
      "cell_type": "code",
      "metadata": {
        "id": "EjOoKJazwe0W",
        "colab_type": "code",
        "colab": {}
      },
      "source": [
        "import numpy as np\n",
        "import pandas as pd\n",
        "import matplotlib.pyplot as plt\n",
        "from sklearn.linear_model import LinearRegression, Ridge, Lasso\n",
        "plt.rc_context({'axes.edgecolor':'white', 'xtick.color':'white', 'axes.labelcolor':'white', 'ytick.color':'white'});"
      ],
      "execution_count": null,
      "outputs": []
    },
    {
      "cell_type": "code",
      "metadata": {
        "id": "KR-q6CIawe0a",
        "colab_type": "code",
        "colab": {}
      },
      "source": [
        "feature = pd.read_csv('https://raw.githubusercontent.com/huaijiangzhu/SummerML/master/day5/fish_market_feature.csv')\n",
        "label = pd.read_csv('https://raw.githubusercontent.com/huaijiangzhu/SummerML/master/day5/fish_market_label.csv')"
      ],
      "execution_count": null,
      "outputs": []
    },
    {
      "cell_type": "code",
      "metadata": {
        "id": "ghV_wUD2we0f",
        "colab_type": "code",
        "colab": {}
      },
      "source": [
        "from sklearn.model_selection import train_test_split\n",
        "from sklearn import preprocessing\n",
        "X = feature.values\n",
        "y = label.values\n",
        "X_train, X_val, y_train, y_val = train_test_split(X, y, test_size=0.01, random_state=0)\n",
        "\n",
        "X_test = pd.read_csv('https://raw.githubusercontent.com/huaijiangzhu/SummerML/master/day5/fish_market_test_feature.csv').values\n",
        "y_test = pd.read_csv('https://raw.githubusercontent.com/huaijiangzhu/SummerML/master/day5/fish_market_test_label.csv').values"
      ],
      "execution_count": null,
      "outputs": []
    },
    {
      "cell_type": "code",
      "metadata": {
        "id": "zGZ-pfdSD1wx",
        "colab_type": "code",
        "colab": {}
      },
      "source": [
        "def print_and_plot(y_pred, y):\n",
        "    MAE = np.mean(np.abs(y_pred - y))\n",
        "    RMSE = np.sqrt(np.mean((y_pred - y)**2))\n",
        "    print ('The RMSE is {:0.2f}'.format(RMSE))\n",
        "    print ('The MAE is {:0.2f}'.format(MAE))\n",
        "    plt.plot(y_pred, 'o', label='predicted')\n",
        "    plt.plot(y, 'o', label='ground truth')\n",
        "    plt.legend(loc='upper left');"
      ],
      "execution_count": null,
      "outputs": []
    },
    {
      "cell_type": "markdown",
      "metadata": {
        "id": "yUmOXzhHBZXE",
        "colab_type": "text"
      },
      "source": [
        "## Ridge linear regression without feature engineering"
      ]
    },
    {
      "cell_type": "code",
      "metadata": {
        "id": "HrcwaoOiw15-",
        "colab_type": "code",
        "colab": {
          "base_uri": "https://localhost:8080/",
          "height": 299
        },
        "outputId": "5fae52c5-14e9-4c51-9c0a-14243aedcd95"
      },
      "source": [
        "model = Ridge(alpha=10)\n",
        "model.fit(X_train, y_train)\n",
        "\n",
        "# If a prediction is negative, set it to zero\n",
        "y_hat = np.maximum(model.predict(X_test), 0)\n",
        "print_and_plot(y_hat, y_test)"
      ],
      "execution_count": null,
      "outputs": [
        {
          "output_type": "stream",
          "text": [
            "The RMSE is 80.17\n",
            "The MAE is 62.12\n"
          ],
          "name": "stdout"
        },
        {
          "output_type": "display_data",
          "data": {
            "image/png": "[encoded data removed]",
            "text/plain": [
              "<Figure size 432x288 with 1 Axes>"
            ]
          },
          "metadata": {
            "tags": [],
            "needs_background": "dark"
          }
        }
      ]
    },
    {
      "cell_type": "markdown",
      "metadata": {
        "id": "ikDCSyItFLzS",
        "colab_type": "text"
      },
      "source": [
        "## With polynomial feature transformation"
      ]
    },
    {
      "cell_type": "code",
      "metadata": {
        "id": "EzikvBGHBK4M",
        "colab_type": "code",
        "colab": {
          "base_uri": "https://localhost:8080/",
          "height": 299
        },
        "outputId": "3c96cdcf-f28a-4883-de0c-d1b0818951a1"
      },
      "source": [
        "from sklearn.preprocessing import PolynomialFeatures\n",
        "\n",
        "poly = PolynomialFeatures(3)\n",
        "PhiX_train = poly.fit_transform(X_train)\n",
        "PhiX_test = poly.fit_transform(X_test)\n",
        "\n",
        "model = Ridge(1e2)\n",
        "model.fit(PhiX_train, y_train)\n",
        "y_hat = model.predict(PhiX_test)\n",
        "print_and_plot(y_hat, y_test)"
      ],
      "execution_count": null,
      "outputs": [
        {
          "output_type": "stream",
          "text": [
            "The RMSE is 54.30\n",
            "The MAE is 34.81\n"
          ],
          "name": "stdout"
        },
        {
          "output_type": "display_data",
          "data": {
            "image/png": "[encoded data removed]",
            "text/plain": [
              "<Figure size 432x288 with 1 Axes>"
            ]
          },
          "metadata": {
            "tags": [],
            "needs_background": "dark"
          }
        }
      ]
    },
    {
      "cell_type": "markdown",
      "metadata": {
        "id": "cHxpeQfKQ9PQ",
        "colab_type": "text"
      },
      "source": [
        "### With RBF feature transformation"
      ]
    },
    {
      "cell_type": "code",
      "metadata": {
        "id": "jvEPWYQoJ3mT",
        "colab_type": "code",
        "colab": {
          "base_uri": "https://localhost:8080/",
          "height": 299
        },
        "outputId": "ed2bb44a-15ff-4ae2-d001-92f20425b57f"
      },
      "source": [
        "from itertools import product\n",
        "\n",
        "def rbf_transformation(X, X_train, s=1e-3):\n",
        "    N = X.shape[0]\n",
        "    N_train = X_train.shape[0]\n",
        "    DXX = np.zeros((N, N_train))\n",
        "    KXX = np.zeros((N, N_train))\n",
        "\n",
        "    for i,j in product(range(N), range(N_train)):\n",
        "        DXX[i, j] = np.linalg.norm(X[i] - X_train[j])**2\n",
        "        \n",
        "    for i,j in product(range(N), range(N_train)):\n",
        "        KXX[i, j] = np.exp(-0.5*s*DXX[i, j])\n",
        "\n",
        "    return KXX\n",
        "\n",
        "PhiX_train = rbf_transformation(X_train, X_train)\n",
        "PhiX_test = rbf_transformation(X_test, X_train)\n",
        "\n",
        "model = Ridge(alpha=1e-6)\n",
        "model.fit(PhiX_train, y_train)\n",
        "y_hat = model.predict(PhiX_test)\n",
        "print_and_plot(y_hat, y_test)"
      ],
      "execution_count": null,
      "outputs": [
        {
          "output_type": "stream",
          "text": [
            "The RMSE is 50.42\n",
            "The MAE is 30.79\n"
          ],
          "name": "stdout"
        },
        {
          "output_type": "display_data",
          "data": {
            "image/png": "[encoded data removed]",
            "text/plain": [
              "<Figure size 432x288 with 1 Axes>"
            ]
          },
          "metadata": {
            "tags": [],
            "needs_background": "dark"
          }
        }
      ]
    },
    {
      "cell_type": "markdown",
      "metadata": {
        "id": "zi_DTPrrW5Wq",
        "colab_type": "text"
      },
      "source": [
        "### Leave-one-out cross-validation"
      ]
    },
    {
      "cell_type": "code",
      "metadata": {
        "id": "P2ebQ0l6YeZz",
        "colab_type": "code",
        "colab": {
          "base_uri": "https://localhost:8080/",
          "height": 34
        },
        "outputId": "0b3ee403-fc1f-4ded-a32f-8b4fa2a66aed"
      },
      "source": [
        "N = X.shape[0]\n",
        "MAE = 0\n",
        "poly = PolynomialFeatures(3)\n",
        "model = Ridge(alpha=1e2)\n",
        "\n",
        "for n in range(N):\n",
        "    X_val = X[n:n+1, :]\n",
        "    y_val = y[n:n+1, :]\n",
        "    X_train = np.delete(X, n, 0)\n",
        "    y_train = np.delete(y, n, 0)\n",
        "\n",
        "    PhiX_train = poly.fit_transform(X_train)\n",
        "    PhiX_val = poly.fit_transform(X_val)\n",
        "\n",
        "    model.fit(PhiX_train, y_train)\n",
        "    y_hat = model.predict(PhiX_val)\n",
        "\n",
        "    MAE += np.mean(np.abs(y_hat - y_val))\n",
        "\n",
        "MAE = MAE/N\n",
        "print ('Leave-one-out MAE for poly feature is: {:0.2f}'.format(MAE))"
      ],
      "execution_count": null,
      "outputs": [
        {
          "output_type": "stream",
          "text": [
            "Leave-one-out MAE for poly feature is: 35.11\n"
          ],
          "name": "stdout"
        }
      ]
    },
    {
      "cell_type": "code",
      "metadata": {
        "id": "FLis2TmPuozC",
        "colab_type": "code",
        "colab": {
          "base_uri": "https://localhost:8080/",
          "height": 34
        },
        "outputId": "f1d41a09-d89c-46e6-fe57-e1fa382117d2"
      },
      "source": [
        "N = X.shape[0]\n",
        "MAE = 0\n",
        "s = 1e-3\n",
        "model = Ridge(alpha=1e-6)\n",
        "\n",
        "for n in range(N):\n",
        "    X_val = X[n:n+1, :]\n",
        "    y_val = y[n:n+1, :]\n",
        "    X_train = np.delete(X, n, 0)\n",
        "    y_train = np.delete(y, n, 0)\n",
        "\n",
        "    PhiX_train = rbf_transformation(X_train, X_train, s)\n",
        "    PhiX_val = rbf_transformation(X_val, X_train, s)\n",
        "\n",
        "    model.fit(PhiX_train, y_train)\n",
        "    y_hat = model.predict(PhiX_val)\n",
        "\n",
        "    MAE += np.mean(np.abs(y_hat - y_val))\n",
        "\n",
        "MAE = MAE/N\n",
        "print ('Leave-one-out MAE for RBF feature is: {:0.2f}'.format(MAE))"
      ],
      "execution_count": null,
      "outputs": [
        {
          "output_type": "stream",
          "text": [
            "Leave-one-out MAE for RBF feature is: 28.13\n"
          ],
          "name": "stdout"
        }
      ]
    },
    {
      "cell_type": "code",
      "metadata": {
        "id": "hIDVsgCzP36x",
        "colab_type": "code",
        "colab": {}
      },
      "source": [
        ""
      ],
      "execution_count": null,
      "outputs": []
    }
  ]
}