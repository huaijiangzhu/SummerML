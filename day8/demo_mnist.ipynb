{
  "nbformat": 4,
  "nbformat_minor": 0,
  "metadata": {
    "colab": {
      "name": "demo_mnist.ipynb",
      "provenance": []
    },
    "kernelspec": {
      "name": "python3",
      "display_name": "Python 3"
    },
    "accelerator": "GPU"
  },
  "cells": [
    {
      "cell_type": "code",
      "metadata": {
        "id": "FQSbBzkvoend",
        "colab_type": "code",
        "colab": {}
      },
      "source": [
        "import torch\n",
        "import torch.nn as nn\n",
        "import torch.nn.functional as F\n",
        "import torch.optim as optim\n",
        "from torchvision import datasets, transforms, utils\n",
        "from torch.optim.lr_scheduler import StepLR\n",
        "import matplotlib.pyplot as plt\n",
        "import numpy as np"
      ],
      "execution_count": null,
      "outputs": []
    },
    {
      "cell_type": "code",
      "metadata": {
        "id": "VTBrQvZtolAv",
        "colab_type": "code",
        "colab": {}
      },
      "source": [
        "def use_gpu():\n",
        "    torch.set_default_tensor_type(torch.cuda.FloatTensor if torch.cuda.is_available() \n",
        "                                                         else torch.FloatTensor)\n",
        "use_gpu()"
      ],
      "execution_count": null,
      "outputs": []
    },
    {
      "cell_type": "code",
      "metadata": {
        "id": "eIfTuPLNoo9F",
        "colab_type": "code",
        "colab": {}
      },
      "source": [
        "def train(model, train_loader, optimizer, epoch):\n",
        "    model.train()\n",
        "    for batch_idx, (data, target) in enumerate(train_loader):\n",
        "        optimizer.zero_grad()\n",
        "        output = model(data)\n",
        "        loss = criterion(output, target)\n",
        "        loss.backward()\n",
        "        optimizer.step()\n",
        "    print('Train Epoch: {}, Loss: {:.3f}'.format(epoch, loss.item()))\n",
        "\n",
        "\n",
        "def test(model, test_loader):\n",
        "    model.eval()\n",
        "    test_loss = 0\n",
        "    correct = 0\n",
        "    total = len(test_loader.dataset)\n",
        "    with torch.no_grad():\n",
        "        for data, target in test_loader:\n",
        "            output = model(data)\n",
        "            test_loss += criterion(output, target).item()  # sum up batch loss\n",
        "            pred = output.argmax(dim=1, keepdim=True)  # get the index of the max log-probability\n",
        "            correct += pred.eq(target.view_as(pred)).sum().item()\n",
        "\n",
        "    test_loss /= len(test_loader.dataset)\n",
        "\n",
        "    print('Average loss: {:.3f}, Test Acc: {:.3f} ({}/{})'.format(test_loss, 100.*correct/total, correct, total))"
      ],
      "execution_count": null,
      "outputs": []
    },
    {
      "cell_type": "code",
      "metadata": {
        "id": "xY2FeMjppD48",
        "colab_type": "code",
        "colab": {}
      },
      "source": [
        "batch_size = 64\n",
        "test_batch_size = 1000\n",
        "criterion = nn.CrossEntropyLoss()"
      ],
      "execution_count": null,
      "outputs": []
    },
    {
      "cell_type": "code",
      "metadata": {
        "id": "yoDGaDLMoqly",
        "colab_type": "code",
        "colab": {}
      },
      "source": [
        "trainset = datasets.MNIST('../data', train=True, download=True, transform=transforms.Compose([transforms.ToTensor()]))\n",
        "testset = datasets.MNIST('../data', train=False, transform=transforms.Compose([transforms.ToTensor()]))"
      ],
      "execution_count": null,
      "outputs": []
    },
    {
      "cell_type": "code",
      "metadata": {
        "id": "25YL1yFMpBV5",
        "colab_type": "code",
        "colab": {}
      },
      "source": [
        "train_loader = torch.utils.data.DataLoader(trainset,batch_size=batch_size, shuffle=True)\n",
        "test_loader = torch.utils.data.DataLoader(testset,batch_size=test_batch_size, shuffle=False)"
      ],
      "execution_count": null,
      "outputs": []
    },
    {
      "cell_type": "code",
      "metadata": {
        "id": "7b1poBx9pJG8",
        "colab_type": "code",
        "colab": {
          "base_uri": "https://localhost:8080/",
          "height": 155
        },
        "outputId": "3ff2fad9-bc83-4b1c-e97a-753ea4844ad8"
      },
      "source": [
        "def imshow(image):\n",
        "    np_image = image.numpy()\n",
        "    plt.imshow(np.transpose(np_image,(1,2,0)))\n",
        "    plt.show()\n",
        "\n",
        "images,labels = next(iter(train_loader))\n",
        "imshow(utils.make_grid(images[0:4]))\n",
        "print(' '.join(str(labels[j].cpu().numpy()) for j in range(4)))"
      ],
      "execution_count": null,
      "outputs": [
        {
          "output_type": "display_data",
          "data": {
            "image/png": "[encoded data removed]",
            "text/plain": [
              "<Figure size 432x288 with 1 Axes>"
            ]
          },
          "metadata": {
            "tags": [],
            "needs_background": "light"
          }
        },
        {
          "output_type": "stream",
          "text": [
            "2 2 4 0\n"
          ],
          "name": "stdout"
        }
      ]
    },
    {
      "cell_type": "code",
      "metadata": {
        "id": "JEb_1WlJt7ek",
        "colab_type": "code",
        "colab": {
          "base_uri": "https://localhost:8080/",
          "height": 727
        },
        "outputId": "a76a16c5-88b7-4d07-8c20-47183d272d34"
      },
      "source": [
        "epochs = 20\n",
        "class Net_CNN(nn.Module):\n",
        "    def __init__(self):\n",
        "        super(Net_CNN, self).__init__()\n",
        "        self.conv1 = nn.Conv2d(1, 32, 3, 1) # (n_channels, number_filter, filter_size, stride)\n",
        "        self.conv2 = nn.Conv2d(32, 64, 3, 1)\n",
        "        self.fc1 = nn.Linear(9216, 128)\n",
        "        self.fc2 = nn.Linear(128, 10)\n",
        "\n",
        "    def forward(self, x):\n",
        "        if torch.cuda.is_available():\n",
        "            x = x.to(device=\"cuda\")\n",
        "        x = self.conv1(x)\n",
        "        x = F.relu(x)\n",
        "        x = self.conv2(x)\n",
        "        x = F.relu(x)\n",
        "        x = F.max_pool2d(x, 2)\n",
        "        x = torch.flatten(x, 1)\n",
        "        x = self.fc1(x)\n",
        "        x = F.relu(x)\n",
        "        output = self.fc2(x)\n",
        "        return output\n",
        "\n",
        "model = Net_CNN()\n",
        "learning_rate = 1e-3\n",
        "optimizer = optim.Adam(model.parameters(), lr=learning_rate)\n",
        "for epoch in range(1, epochs + 1):\n",
        "    train(model, train_loader, optimizer, epoch)\n",
        "    test(model, test_loader)"
      ],
      "execution_count": null,
      "outputs": [
        {
          "output_type": "stream",
          "text": [
            "Train Epoch: 1, Loss: 0.154\n",
            "Average loss: 0.000, Test Acc: 98.320 (9832/10000)\n",
            "Train Epoch: 2, Loss: 0.020\n",
            "Average loss: 0.000, Test Acc: 98.900 (9890/10000)\n",
            "Train Epoch: 3, Loss: 0.034\n",
            "Average loss: 0.000, Test Acc: 98.770 (9877/10000)\n",
            "Train Epoch: 4, Loss: 0.034\n",
            "Average loss: 0.000, Test Acc: 98.980 (9898/10000)\n",
            "Train Epoch: 5, Loss: 0.003\n",
            "Average loss: 0.000, Test Acc: 98.910 (9891/10000)\n",
            "Train Epoch: 6, Loss: 0.011\n",
            "Average loss: 0.000, Test Acc: 98.920 (9892/10000)\n",
            "Train Epoch: 7, Loss: 0.016\n",
            "Average loss: 0.000, Test Acc: 98.980 (9898/10000)\n",
            "Train Epoch: 8, Loss: 0.000\n",
            "Average loss: 0.000, Test Acc: 98.970 (9897/10000)\n",
            "Train Epoch: 9, Loss: 0.001\n",
            "Average loss: 0.000, Test Acc: 98.680 (9868/10000)\n",
            "Train Epoch: 10, Loss: 0.000\n",
            "Average loss: 0.000, Test Acc: 98.900 (9890/10000)\n",
            "Train Epoch: 11, Loss: 0.000\n",
            "Average loss: 0.000, Test Acc: 98.760 (9876/10000)\n",
            "Train Epoch: 12, Loss: 0.000\n",
            "Average loss: 0.000, Test Acc: 99.190 (9919/10000)\n",
            "Train Epoch: 13, Loss: 0.001\n",
            "Average loss: 0.000, Test Acc: 98.940 (9894/10000)\n",
            "Train Epoch: 14, Loss: 0.000\n",
            "Average loss: 0.000, Test Acc: 98.890 (9889/10000)\n",
            "Train Epoch: 15, Loss: 0.001\n",
            "Average loss: 0.000, Test Acc: 98.900 (9890/10000)\n",
            "Train Epoch: 16, Loss: 0.000\n",
            "Average loss: 0.000, Test Acc: 98.970 (9897/10000)\n",
            "Train Epoch: 17, Loss: 0.007\n",
            "Average loss: 0.000, Test Acc: 98.530 (9853/10000)\n",
            "Train Epoch: 18, Loss: 0.000\n",
            "Average loss: 0.000, Test Acc: 98.690 (9869/10000)\n",
            "Train Epoch: 19, Loss: 0.000\n",
            "Average loss: 0.000, Test Acc: 98.970 (9897/10000)\n",
            "Train Epoch: 20, Loss: 0.000\n",
            "Average loss: 0.000, Test Acc: 98.980 (9898/10000)\n"
          ],
          "name": "stdout"
        }
      ]
    },
    {
      "cell_type": "code",
      "metadata": {
        "id": "ChnLyDUerPnd",
        "colab_type": "code",
        "colab": {
          "base_uri": "https://localhost:8080/",
          "height": 727
        },
        "outputId": "6544c83d-70da-4410-e201-1e3c6e058737"
      },
      "source": [
        "epochs = 20\n",
        "class Net_with_dropout(nn.Module):\n",
        "    def __init__(self):\n",
        "        super(Net_with_dropout, self).__init__()\n",
        "        self.conv1 = nn.Conv2d(1, 32, 3, 1)\n",
        "        self.conv2 = nn.Conv2d(32, 64, 3, 1)\n",
        "        self.dropout1 = nn.Dropout2d(0.25)\n",
        "        self.dropout2 = nn.Dropout2d(0.5)\n",
        "        self.fc1 = nn.Linear(9216, 128)\n",
        "        self.fc2 = nn.Linear(128, 10)\n",
        "\n",
        "    def forward(self, x):\n",
        "        if torch.cuda.is_available():\n",
        "            x = x.to(device=\"cuda\")\n",
        "        x = self.conv1(x)\n",
        "        x = F.relu(x)\n",
        "        x = self.conv2(x)\n",
        "        x = F.relu(x)\n",
        "        x = F.max_pool2d(x, 2)\n",
        "        \n",
        "        x = self.dropout1(x)\n",
        "        \n",
        "        x = torch.flatten(x, 1)\n",
        "\n",
        "        x = self.fc1(x)\n",
        "        x = F.relu(x)\n",
        "        x = self.dropout2(x)\n",
        "        \n",
        "        output = self.fc2(x)\n",
        "        return output\n",
        "\n",
        "model = Net_with_dropout()\n",
        "learning_rate = 1e-3\n",
        "optimizer = optim.Adam(model.parameters(), lr=learning_rate)\n",
        "for epoch in range(1, epochs + 1):\n",
        "    train(model, train_loader, optimizer, epoch)\n",
        "    test(model, test_loader)"
      ],
      "execution_count": null,
      "outputs": [
        {
          "output_type": "stream",
          "text": [
            "Train Epoch: 1, Loss: 0.139\n",
            "Average loss: 0.000, Test Acc: 98.060 (9806/10000)\n",
            "Train Epoch: 2, Loss: 0.122\n",
            "Average loss: 0.000, Test Acc: 98.660 (9866/10000)\n",
            "Train Epoch: 3, Loss: 0.051\n",
            "Average loss: 0.000, Test Acc: 98.830 (9883/10000)\n",
            "Train Epoch: 4, Loss: 0.038\n",
            "Average loss: 0.000, Test Acc: 98.890 (9889/10000)\n",
            "Train Epoch: 5, Loss: 0.156\n",
            "Average loss: 0.000, Test Acc: 99.060 (9906/10000)\n",
            "Train Epoch: 6, Loss: 0.023\n",
            "Average loss: 0.000, Test Acc: 99.130 (9913/10000)\n",
            "Train Epoch: 7, Loss: 0.010\n",
            "Average loss: 0.000, Test Acc: 98.980 (9898/10000)\n",
            "Train Epoch: 8, Loss: 0.019\n",
            "Average loss: 0.000, Test Acc: 99.080 (9908/10000)\n",
            "Train Epoch: 9, Loss: 0.163\n",
            "Average loss: 0.000, Test Acc: 99.220 (9922/10000)\n",
            "Train Epoch: 10, Loss: 0.003\n",
            "Average loss: 0.000, Test Acc: 99.110 (9911/10000)\n",
            "Train Epoch: 11, Loss: 0.153\n",
            "Average loss: 0.000, Test Acc: 99.300 (9930/10000)\n",
            "Train Epoch: 12, Loss: 0.000\n",
            "Average loss: 0.000, Test Acc: 99.090 (9909/10000)\n",
            "Train Epoch: 13, Loss: 0.007\n",
            "Average loss: 0.000, Test Acc: 99.180 (9918/10000)\n",
            "Train Epoch: 14, Loss: 0.020\n",
            "Average loss: 0.000, Test Acc: 99.130 (9913/10000)\n",
            "Train Epoch: 15, Loss: 0.000\n",
            "Average loss: 0.000, Test Acc: 99.200 (9920/10000)\n",
            "Train Epoch: 16, Loss: 0.032\n",
            "Average loss: 0.000, Test Acc: 99.140 (9914/10000)\n",
            "Train Epoch: 17, Loss: 0.001\n",
            "Average loss: 0.000, Test Acc: 99.310 (9931/10000)\n",
            "Train Epoch: 18, Loss: 0.075\n",
            "Average loss: 0.000, Test Acc: 99.260 (9926/10000)\n",
            "Train Epoch: 19, Loss: 0.000\n",
            "Average loss: 0.000, Test Acc: 99.200 (9920/10000)\n",
            "Train Epoch: 20, Loss: 0.007\n",
            "Average loss: 0.000, Test Acc: 99.180 (9918/10000)\n"
          ],
          "name": "stdout"
        }
      ]
    },
    {
      "cell_type": "code",
      "metadata": {
        "id": "pcurqJpXsNaf",
        "colab_type": "code",
        "colab": {}
      },
      "source": [
        ""
      ],
      "execution_count": null,
      "outputs": []
    }
  ]
}