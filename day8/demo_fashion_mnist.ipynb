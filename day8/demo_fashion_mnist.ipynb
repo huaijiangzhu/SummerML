{
  "nbformat": 4,
  "nbformat_minor": 0,
  "metadata": {
    "kernelspec": {
      "display_name": "Python 3",
      "language": "python",
      "name": "python3"
    },
    "language_info": {
      "codemirror_mode": {
        "name": "ipython",
        "version": 3
      },
      "file_extension": ".py",
      "mimetype": "text/x-python",
      "name": "python",
      "nbconvert_exporter": "python",
      "pygments_lexer": "ipython3",
      "version": "3.7.4"
    },
    "colab": {
      "name": "demo_fashion_mnist.ipynb",
      "provenance": []
    },
    "accelerator": "GPU"
  },
  "cells": [
    {
      "cell_type": "code",
      "metadata": {
        "id": "Km3bg5yoBpZL",
        "colab_type": "code",
        "colab": {}
      },
      "source": [
        "import torch\n",
        "import torch.nn as nn\n",
        "import torch.nn.functional as F\n",
        "import torch.optim as optim\n",
        "from torchvision import datasets, transforms, utils\n",
        "from torch.optim.lr_scheduler import StepLR\n",
        "import matplotlib.pyplot as plt\n",
        "import numpy as np"
      ],
      "execution_count": 1,
      "outputs": []
    },
    {
      "cell_type": "code",
      "metadata": {
        "id": "7rVfP5OXI9Jp",
        "colab_type": "code",
        "colab": {}
      },
      "source": [
        "def use_gpu():\n",
        "    torch.set_default_tensor_type(torch.cuda.FloatTensor if torch.cuda.is_available() \n",
        "                                                         else torch.FloatTensor)\n",
        "use_gpu()"
      ],
      "execution_count": 2,
      "outputs": []
    },
    {
      "cell_type": "code",
      "metadata": {
        "id": "CeQBnRUYBpZS",
        "colab_type": "code",
        "colab": {}
      },
      "source": [
        "def train(model, train_loader, optimizer, epoch):\n",
        "    model.train()\n",
        "    for batch_idx, (data, target) in enumerate(train_loader):\n",
        "        optimizer.zero_grad()\n",
        "        output = model(data)\n",
        "        loss = criterion(output, target)\n",
        "        loss.backward()\n",
        "        optimizer.step()\n",
        "    print('Train Epoch: {}, Loss: {:.3f}'.format(epoch, loss.item()))\n",
        "\n",
        "\n",
        "def test(model, test_loader):\n",
        "    model.eval()\n",
        "    test_loss = 0\n",
        "    correct = 0\n",
        "    total = len(test_loader.dataset)\n",
        "    with torch.no_grad():\n",
        "        for data, target in test_loader:\n",
        "            output = model(data)\n",
        "            test_loss += criterion(output, target).item()  # sum up batch loss\n",
        "            pred = output.argmax(dim=1, keepdim=True)  # get the index of the max log-probability\n",
        "            correct += pred.eq(target.view_as(pred)).sum().item()\n",
        "\n",
        "    test_loss /= len(test_loader.dataset)\n",
        "\n",
        "    print('Average loss: {:.3f}, Test Acc: {:.3f} ({}/{})'.format(test_loss, 100.*correct/total, correct, total))\n"
      ],
      "execution_count": 3,
      "outputs": []
    },
    {
      "cell_type": "code",
      "metadata": {
        "id": "2ORxdQ5MGbsQ",
        "colab_type": "code",
        "colab": {}
      },
      "source": [
        "batch_size = 64\n",
        "test_batch_size = 1000\n",
        "epochs = 10\n",
        "criterion = nn.CrossEntropyLoss()\n",
        "\n",
        "trainset = datasets.FashionMNIST('../data', train=True, download=True,\n",
        "                   transform=transforms.Compose([\n",
        "                       transforms.ToTensor()\n",
        "                   ]))\n",
        "testset = datasets.FashionMNIST('../data', train=False, transform=transforms.Compose([\n",
        "                       transforms.ToTensor()\n",
        "                   ]))\n",
        "train_loader = torch.utils.data.DataLoader(trainset,batch_size=batch_size, shuffle=True)\n",
        "test_loader = torch.utils.data.DataLoader(testset,batch_size=test_batch_size, shuffle=True)"
      ],
      "execution_count": 4,
      "outputs": []
    },
    {
      "cell_type": "code",
      "metadata": {
        "id": "lE5LgoPNGkNW",
        "colab_type": "code",
        "colab": {
          "base_uri": "https://localhost:8080/",
          "height": 155
        },
        "outputId": "6e252b6f-9ff9-48a9-fda7-f49aea47aa8a"
      },
      "source": [
        "classes = ('T-shirt','Trouser','Pullover','Dress','Coat','Sandal','Shirt',\n",
        "            'Sneaker','Bag','Ankle Boot')\n",
        "\n",
        "def imshow(image):\n",
        "    np_image = image.numpy()\n",
        "    plt.imshow(np.transpose(np_image,(1,2,0)))\n",
        "    plt.show()\n",
        "\n",
        "images,labels = next(iter(train_loader))\n",
        "imshow(utils.make_grid(images[0:4]))\n",
        "print(' '.join(classes[labels[j]] for j in range(4)))"
      ],
      "execution_count": 5,
      "outputs": [
        {
          "output_type": "display_data",
          "data": {
            "image/png": "[encoded data removed]",
            "text/plain": [
              "<Figure size 432x288 with 1 Axes>"
            ]
          },
          "metadata": {
            "tags": [],
            "needs_background": "light"
          }
        },
        {
          "output_type": "stream",
          "text": [
            "Bag Trouser Sandal Coat\n"
          ],
          "name": "stdout"
        }
      ]
    },
    {
      "cell_type": "code",
      "metadata": {
        "id": "xFMvTH5_BpZa",
        "colab_type": "code",
        "colab": {
          "base_uri": "https://localhost:8080/",
          "height": 357
        },
        "outputId": "4969643e-6ee0-4d26-b356-607732b6f760"
      },
      "source": [
        "class MLP(nn.Module):\n",
        "    def __init__(self):\n",
        "        super().__init__()\n",
        "        self.dense_layers = nn.Sequential(\n",
        "                     nn.Flatten(),\n",
        "                     nn.Linear(784, 128),\n",
        "                     nn.ReLU(),\n",
        "                     nn.Linear(128, 10)\n",
        "        )\n",
        "\n",
        "    def forward(self, x):\n",
        "        if torch.cuda.is_available():\n",
        "            x = x.to(device=\"cuda\")\n",
        "        out = self.dense_layers(x)\n",
        "        return out\n",
        "\n",
        "model = MLP()\n",
        "learning_rate = 1e-3\n",
        "optimizer = optim.Adam(model.parameters(), lr=learning_rate)\n",
        "for epoch in range(1, epochs + 1):\n",
        "    train(model, train_loader, optimizer, epoch)\n",
        "    test(model, test_loader)"
      ],
      "execution_count": 6,
      "outputs": [
        {
          "output_type": "stream",
          "text": [
            "Train Epoch: 1, Loss: 0.373\n",
            "Average loss: 0.000, Test Acc: 84.380 (8438/10000)\n",
            "Train Epoch: 2, Loss: 0.338\n",
            "Average loss: 0.000, Test Acc: 85.530 (8553/10000)\n",
            "Train Epoch: 3, Loss: 0.357\n",
            "Average loss: 0.000, Test Acc: 86.500 (8650/10000)\n",
            "Train Epoch: 4, Loss: 0.127\n",
            "Average loss: 0.000, Test Acc: 86.430 (8643/10000)\n",
            "Train Epoch: 5, Loss: 0.289\n",
            "Average loss: 0.000, Test Acc: 87.150 (8715/10000)\n",
            "Train Epoch: 6, Loss: 0.181\n",
            "Average loss: 0.000, Test Acc: 87.360 (8736/10000)\n",
            "Train Epoch: 7, Loss: 0.158\n",
            "Average loss: 0.000, Test Acc: 88.150 (8815/10000)\n",
            "Train Epoch: 8, Loss: 0.380\n",
            "Average loss: 0.000, Test Acc: 88.320 (8832/10000)\n",
            "Train Epoch: 9, Loss: 0.328\n",
            "Average loss: 0.000, Test Acc: 88.140 (8814/10000)\n",
            "Train Epoch: 10, Loss: 0.268\n",
            "Average loss: 0.000, Test Acc: 88.240 (8824/10000)\n"
          ],
          "name": "stdout"
        }
      ]
    },
    {
      "cell_type": "code",
      "metadata": {
        "id": "zxo5IqPvBpZd",
        "colab_type": "code",
        "colab": {
          "base_uri": "https://localhost:8080/",
          "height": 357
        },
        "outputId": "17e8e5bc-a03d-4c4f-e935-7d8bd5e885f3"
      },
      "source": [
        "class CNN(nn.Module):\n",
        "    def __init__(self):\n",
        "        super().__init__()\n",
        "        self.conv_1 = nn.Conv2d(in_channels=1, out_channels=4, kernel_size=(8, 8))\n",
        "        self.conv_2 = nn.Conv2d(in_channels=4, out_channels=16, kernel_size=(4, 4))\n",
        "        self.relu = nn.ReLU()\n",
        "        self.flatten = nn.Flatten()\n",
        "        self.fc = nn.Linear(9*9*16, 128)\n",
        "        self.fc2 = nn.Linear(128, 10)\n",
        "\n",
        "    def forward(self, x):\n",
        "        if torch.cuda.is_available():\n",
        "            x = x.to(device=\"cuda\")\n",
        "        x = F.relu(self.conv_1(x))\n",
        "        x = F.relu(self.conv_2(x))\n",
        "        x = F.max_pool2d(x, 2)\n",
        "        x = self.flatten(x)\n",
        "        x = F.relu(self.fc(x))\n",
        "        out = self.fc2(x)\n",
        "        return out\n",
        "\n",
        "model = CNN()\n",
        "learning_rate = 1e-3\n",
        "optimizer = optim.Adam(model.parameters(), lr=learning_rate)\n",
        "for epoch in range(1, epochs + 1):\n",
        "    train(model, train_loader, optimizer, epoch)\n",
        "    test(model, test_loader)\n"
      ],
      "execution_count": 9,
      "outputs": [
        {
          "output_type": "stream",
          "text": [
            "Train Epoch: 1, Loss: 0.581\n",
            "Average loss: 0.000, Test Acc: 82.110 (8211/10000)\n",
            "Train Epoch: 2, Loss: 0.792\n",
            "Average loss: 0.000, Test Acc: 86.280 (8628/10000)\n",
            "Train Epoch: 3, Loss: 0.404\n",
            "Average loss: 0.000, Test Acc: 87.800 (8780/10000)\n",
            "Train Epoch: 4, Loss: 0.620\n",
            "Average loss: 0.000, Test Acc: 88.160 (8816/10000)\n",
            "Train Epoch: 5, Loss: 0.147\n",
            "Average loss: 0.000, Test Acc: 89.280 (8928/10000)\n",
            "Train Epoch: 6, Loss: 0.231\n",
            "Average loss: 0.000, Test Acc: 89.270 (8927/10000)\n",
            "Train Epoch: 7, Loss: 0.338\n",
            "Average loss: 0.000, Test Acc: 88.980 (8898/10000)\n",
            "Train Epoch: 8, Loss: 0.197\n",
            "Average loss: 0.000, Test Acc: 89.280 (8928/10000)\n",
            "Train Epoch: 9, Loss: 0.112\n",
            "Average loss: 0.000, Test Acc: 89.650 (8965/10000)\n",
            "Train Epoch: 10, Loss: 0.178\n",
            "Average loss: 0.000, Test Acc: 89.960 (8996/10000)\n"
          ],
          "name": "stdout"
        }
      ]
    },
    {
      "cell_type": "code",
      "metadata": {
        "id": "iLfxg0IJRAUW",
        "colab_type": "code",
        "colab": {}
      },
      "source": [
        ""
      ],
      "execution_count": 7,
      "outputs": []
    }
  ]
}