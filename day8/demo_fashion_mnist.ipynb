{
 "cells": [
  {
   "cell_type": "code",
   "execution_count": 1,
   "metadata": {},
   "outputs": [],
   "source": [
    "import torch\n",
    "import torch.nn as nn\n",
    "import torch.nn.functional as F\n",
    "import torch.optim as optim\n",
    "from torchvision import datasets, transforms, utils\n",
    "from torch.optim.lr_scheduler import StepLR\n",
    "import matplotlib.pyplot as plt\n",
    "import numpy as np"
   ]
  },
  {
   "cell_type": "code",
   "execution_count": 2,
   "metadata": {},
   "outputs": [],
   "source": [
    "batch_size = 64\n",
    "test_batch_size = 1000\n",
    "epochs = 14\n",
    "lr = 1\n",
    "gamma = 0.7\n",
    "criterion = nn.CrossEntropyLoss()"
   ]
  },
  {
   "cell_type": "code",
   "execution_count": 3,
   "metadata": {},
   "outputs": [],
   "source": [
    "def train(model, train_loader, optimizer, epoch):\n",
    "    model.train()\n",
    "    for batch_idx, (data, target) in enumerate(train_loader):\n",
    "        optimizer.zero_grad()\n",
    "        output = model(data)\n",
    "        loss = criterion(output, target)\n",
    "        loss.backward()\n",
    "        optimizer.step()\n",
    "    print('Train Epoch: {}, Loss: {:.3f}'.format(epoch, loss.item()))\n",
    "\n",
    "\n",
    "def test(model, test_loader):\n",
    "    model.eval()\n",
    "    test_loss = 0\n",
    "    correct = 0\n",
    "    total = len(test_loader.dataset)\n",
    "    with torch.no_grad():\n",
    "        for data, target in test_loader:\n",
    "            output = model(data)\n",
    "            test_loss += criterion(output, target).item()  # sum up batch loss\n",
    "            pred = output.argmax(dim=1, keepdim=True)  # get the index of the max log-probability\n",
    "            correct += pred.eq(target.view_as(pred)).sum().item()\n",
    "\n",
    "    test_loss /= len(test_loader.dataset)\n",
    "\n",
    "    print('Average loss: {:.3f}, Test Acc: {:.3f} ({}/{})'.format(test_loss, 100.*correct/total, correct, total))\n"
   ]
  },
  {
   "cell_type": "code",
   "execution_count": 4,
   "metadata": {},
   "outputs": [],
   "source": [
    "trainset = datasets.FashionMNIST('../data', train=True, download=True,\n",
    "                   transform=transforms.Compose([\n",
    "                       transforms.ToTensor()\n",
    "                   ]))\n",
    "testset = datasets.FashionMNIST('../data', train=False, transform=transforms.Compose([\n",
    "                       transforms.ToTensor()\n",
    "                   ]))\n",
    "train_loader = torch.utils.data.DataLoader(trainset,batch_size=batch_size, shuffle=True)\n",
    "test_loader = torch.utils.data.DataLoader(testset,batch_size=test_batch_size, shuffle=True)"
   ]
  },
  {
   "cell_type": "code",
   "execution_count": 5,
   "metadata": {},
   "outputs": [
    {
     "data": {
      "image/png": "[encoded data removed]",
      "text/plain": [
       "<Figure size 432x288 with 1 Axes>"
      ]
     },
     "metadata": {
      "needs_background": "light"
     },
     "output_type": "display_data"
    },
    {
     "name": "stdout",
     "output_type": "stream",
     "text": [
      "Pullover Shirt Dress Shirt\n"
     ]
    }
   ],
   "source": [
    "classes = ('T-shirt','Trouser','Pullover','Dress','Coat','Sandal','Shirt',\n",
    "            'Sneaker','Bag','Ankle Boot')\n",
    "\n",
    "def imshow(image):\n",
    "    np_image = image.numpy()\n",
    "    plt.imshow(np.transpose(np_image,(1,2,0)))\n",
    "    plt.show()\n",
    "\n",
    "images,labels = next(iter(train_loader))\n",
    "imshow(utils.make_grid(images[0:4]))\n",
    "print(' '.join(classes[labels[j]] for j in range(4)))"
   ]
  },
  {
   "cell_type": "code",
   "execution_count": 6,
   "metadata": {},
   "outputs": [
    {
     "name": "stdout",
     "output_type": "stream",
     "text": [
      "Train Epoch: 1, Loss: 0.562\n",
      "Average loss: 0.000, Test Acc: 84.170 (8417/10000)\n",
      "Train Epoch: 2, Loss: 0.381\n",
      "Average loss: 0.000, Test Acc: 84.320 (8432/10000)\n",
      "Train Epoch: 3, Loss: 0.201\n",
      "Average loss: 0.000, Test Acc: 86.020 (8602/10000)\n",
      "Train Epoch: 4, Loss: 0.235\n",
      "Average loss: 0.000, Test Acc: 86.490 (8649/10000)\n",
      "Train Epoch: 5, Loss: 0.185\n",
      "Average loss: 0.000, Test Acc: 87.400 (8740/10000)\n",
      "Train Epoch: 6, Loss: 0.239\n",
      "Average loss: 0.000, Test Acc: 88.000 (8800/10000)\n",
      "Train Epoch: 7, Loss: 0.360\n",
      "Average loss: 0.000, Test Acc: 88.130 (8813/10000)\n",
      "Train Epoch: 8, Loss: 0.252\n",
      "Average loss: 0.000, Test Acc: 88.200 (8820/10000)\n",
      "Train Epoch: 9, Loss: 0.164\n",
      "Average loss: 0.000, Test Acc: 88.210 (8821/10000)\n",
      "Train Epoch: 10, Loss: 0.246\n",
      "Average loss: 0.000, Test Acc: 88.420 (8842/10000)\n",
      "Train Epoch: 11, Loss: 0.228\n",
      "Average loss: 0.000, Test Acc: 88.350 (8835/10000)\n",
      "Train Epoch: 12, Loss: 0.173\n",
      "Average loss: 0.000, Test Acc: 88.410 (8841/10000)\n",
      "Train Epoch: 13, Loss: 0.154\n",
      "Average loss: 0.000, Test Acc: 88.450 (8845/10000)\n",
      "Train Epoch: 14, Loss: 0.272\n",
      "Average loss: 0.000, Test Acc: 88.570 (8857/10000)\n"
     ]
    }
   ],
   "source": [
    "class dense_Net(nn.Module):\n",
    "    def __init__(self):\n",
    "        super(dense_Net, self).__init__()\n",
    "        self.dense_layers = nn.Sequential(\n",
    "                     nn.Flatten(),\n",
    "                     nn.Linear(784,128),\n",
    "                     nn.ReLU(),\n",
    "                     nn.Linear(128,10)\n",
    "        )\n",
    "\n",
    "    def forward(self, x):\n",
    "        out = self.dense_layers(x)\n",
    "        return out\n",
    "\n",
    "model = dense_Net()\n",
    "optimizer = optim.Adadelta(model.parameters(), lr=lr)\n",
    "\n",
    "scheduler = StepLR(optimizer, step_size=1, gamma=gamma)\n",
    "for epoch in range(1, epochs + 1):\n",
    "    train(model, train_loader, optimizer, epoch)\n",
    "    test(model, test_loader)\n",
    "    scheduler.step()"
   ]
  },
  {
   "cell_type": "code",
   "execution_count": 8,
   "metadata": {},
   "outputs": [
    {
     "name": "stdout",
     "output_type": "stream",
     "text": [
      "Train Epoch: 1, Loss: 0.275\n",
      "Average loss: 0.000, Test Acc: 84.930 (8493/10000)\n",
      "Train Epoch: 2, Loss: 0.362\n",
      "Average loss: 0.000, Test Acc: 87.130 (8713/10000)\n",
      "Train Epoch: 3, Loss: 0.117\n",
      "Average loss: 0.000, Test Acc: 88.330 (8833/10000)\n",
      "Train Epoch: 4, Loss: 0.359\n",
      "Average loss: 0.000, Test Acc: 89.100 (8910/10000)\n",
      "Train Epoch: 5, Loss: 0.296\n",
      "Average loss: 0.000, Test Acc: 89.280 (8928/10000)\n",
      "Train Epoch: 6, Loss: 0.165\n",
      "Average loss: 0.000, Test Acc: 89.580 (8958/10000)\n",
      "Train Epoch: 7, Loss: 0.162\n",
      "Average loss: 0.000, Test Acc: 89.680 (8968/10000)\n",
      "Train Epoch: 8, Loss: 0.057\n",
      "Average loss: 0.000, Test Acc: 89.730 (8973/10000)\n",
      "Train Epoch: 9, Loss: 0.190\n",
      "Average loss: 0.000, Test Acc: 90.120 (9012/10000)\n",
      "Train Epoch: 10, Loss: 0.279\n",
      "Average loss: 0.000, Test Acc: 89.990 (8999/10000)\n",
      "Train Epoch: 11, Loss: 0.465\n",
      "Average loss: 0.000, Test Acc: 89.970 (8997/10000)\n",
      "Train Epoch: 12, Loss: 0.135\n",
      "Average loss: 0.000, Test Acc: 90.080 (9008/10000)\n",
      "Train Epoch: 13, Loss: 0.110\n",
      "Average loss: 0.000, Test Acc: 90.110 (9011/10000)\n",
      "Train Epoch: 14, Loss: 0.167\n",
      "Average loss: 0.000, Test Acc: 90.040 (9004/10000)\n"
     ]
    }
   ],
   "source": [
    "class cnn_Net(nn.Module):\n",
    "    def __init__(self):\n",
    "        super(cnn_Net, self).__init__()\n",
    "        self.conv_1 = nn.Conv2d(1, 4, 4, padding=1,stride=2)\n",
    "        self.conv_2 = nn.Conv2d(4, 16, 4, padding=1,stride=2)\n",
    "        self.relu = nn.ReLU()\n",
    "        self.flatten = nn.Flatten()\n",
    "        self.linear1 = nn.Linear(49*16,128)\n",
    "        self.output = nn.Linear(128,10)\n",
    "\n",
    "    def forward(self, x):\n",
    "        x = F.relu(self.conv_1(x))\n",
    "        x = F.relu(self.conv_2(x))\n",
    "        x = self.flatten(x)\n",
    "        x = F.relu(self.linear1(x))\n",
    "        out = self.output(x)\n",
    "        return out\n",
    "model = cnn_Net()\n",
    "optimizer = optim.Adadelta(model.parameters(), lr=lr)\n",
    "\n",
    "scheduler = StepLR(optimizer, step_size=1, gamma=gamma)\n",
    "for epoch in range(1, epochs + 1):\n",
    "    train(model, train_loader, optimizer, epoch)\n",
    "    test(model, test_loader)\n",
    "    scheduler.step()"
   ]
  },
  {
   "cell_type": "code",
   "execution_count": null,
   "metadata": {},
   "outputs": [],
   "source": []
  },
  {
   "cell_type": "code",
   "execution_count": null,
   "metadata": {},
   "outputs": [],
   "source": []
  }
 ],
 "metadata": {
  "kernelspec": {
   "display_name": "Python 3",
   "language": "python",
   "name": "python3"
  },
  "language_info": {
   "codemirror_mode": {
    "name": "ipython",
    "version": 3
   },
   "file_extension": ".py",
   "mimetype": "text/x-python",
   "name": "python",
   "nbconvert_exporter": "python",
   "pygments_lexer": "ipython3",
   "version": "3.7.4"
  }
 },
 "nbformat": 4,
 "nbformat_minor": 2
}

