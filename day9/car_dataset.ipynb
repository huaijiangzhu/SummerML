{
  "nbformat": 4,
  "nbformat_minor": 0,
  "metadata": {
    "colab": {
      "name": "car_dataset.ipynb",
      "provenance": []
    },
    "kernelspec": {
      "name": "python3",
      "display_name": "Python 3"
    }
  },
  "cells": [
    {
      "cell_type": "code",
      "metadata": {
        "id": "bKG-fTsglbE8",
        "colab_type": "code",
        "colab": {}
      },
      "source": [
        "import torch\n",
        "import torch.nn as nn\n",
        "import torch.optim as optim\n",
        "\n",
        "import scipy.io as sio  # for loading matfile\n",
        "import numpy as np\n",
        "import cv2\n",
        "import random\n",
        "import glob"
      ],
      "execution_count": null,
      "outputs": []
    },
    {
      "cell_type": "markdown",
      "metadata": {
        "id": "7s2ZfeNXlpJ9",
        "colab_type": "text"
      },
      "source": [
        "## Data Preprocessing"
      ]
    },
    {
      "cell_type": "code",
      "metadata": {
        "id": "KRiOX4vnlurA",
        "colab_type": "code",
        "colab": {
          "base_uri": "https://localhost:8080/",
          "height": 212
        },
        "outputId": "9cf38d53-648b-4b6d-cd79-bf0e6a05fd7b"
      },
      "source": [
        "!wget --no-check-certificate \\\n",
        "  http://imagenet.stanford.edu/internal/car196/car_ims.tgz \\\n",
        "  -O /tmp/car_ims.tgz"
      ],
      "execution_count": null,
      "outputs": [
        {
          "output_type": "stream",
          "text": [
            "--2020-07-02 13:09:13--  http://imagenet.stanford.edu/internal/car196/car_ims.tgz\n",
            "Resolving imagenet.stanford.edu (imagenet.stanford.edu)... 171.64.68.16\n",
            "Connecting to imagenet.stanford.edu (imagenet.stanford.edu)|171.64.68.16|:80... connected.\n",
            "HTTP request sent, awaiting response... 200 OK\n",
            "Length: 1956628579 (1.8G) [application/x-gzip]\n",
            "Saving to: ‘/tmp/car_ims.tgz’\n",
            "\n",
            "/tmp/car_ims.tgz    100%[===================>]   1.82G  8.02MB/s    in 2m 35s  \n",
            "\n",
            "2020-07-02 13:11:49 (12.0 MB/s) - ‘/tmp/car_ims.tgz’ saved [1956628579/1956628579]\n",
            "\n"
          ],
          "name": "stdout"
        }
      ]
    },
    {
      "cell_type": "code",
      "metadata": {
        "id": "XpfmMzT-pfmn",
        "colab_type": "code",
        "colab": {
          "base_uri": "https://localhost:8080/",
          "height": 212
        },
        "outputId": "f142770e-15d6-4f85-c45a-d1ed0d980975"
      },
      "source": [
        "!wget --no-check-certificate \\\n",
        "  http://imagenet.stanford.edu/internal/car196/cars_annos.mat \\\n",
        "  -O /tmp/cars_annos.mat\n"
      ],
      "execution_count": null,
      "outputs": [
        {
          "output_type": "stream",
          "text": [
            "--2020-07-02 13:12:33--  http://imagenet.stanford.edu/internal/car196/cars_annos.mat\n",
            "Resolving imagenet.stanford.edu (imagenet.stanford.edu)... 171.64.68.16\n",
            "Connecting to imagenet.stanford.edu (imagenet.stanford.edu)|171.64.68.16|:80... connected.\n",
            "HTTP request sent, awaiting response... 200 OK\n",
            "Length: 394471 (385K) [text/plain]\n",
            "Saving to: ‘/tmp/cars_annos.mat’\n",
            "\n",
            "/tmp/cars_annos.mat 100%[===================>] 385.23K   707KB/s    in 0.5s    \n",
            "\n",
            "2020-07-02 13:12:34 (707 KB/s) - ‘/tmp/cars_annos.mat’ saved [394471/394471]\n",
            "\n"
          ],
          "name": "stdout"
        }
      ]
    },
    {
      "cell_type": "code",
      "metadata": {
        "id": "0u8NxhkRudNF",
        "colab_type": "code",
        "colab": {
          "base_uri": "https://localhost:8080/",
          "height": 212
        },
        "outputId": "5ea446da-1247-41b7-b2de-9812923c5f77"
      },
      "source": [
        "!wget --no-check-certificate \\\n",
        "  http://imagenet.stanford.edu/internal/car196/cars_test_annos_withlabels.mat \\\n",
        "  -O /tmp/cars_annos.mat\n"
      ],
      "execution_count": null,
      "outputs": [
        {
          "output_type": "stream",
          "text": [
            "--2020-07-02 13:32:08--  http://imagenet.stanford.edu/internal/car196/cars_test_annos_withlabels.mat\n",
            "Resolving imagenet.stanford.edu (imagenet.stanford.edu)... 171.64.68.16\n",
            "Connecting to imagenet.stanford.edu (imagenet.stanford.edu)|171.64.68.16|:80... connected.\n",
            "HTTP request sent, awaiting response... 200 OK\n",
            "Length: 185758 (181K) [text/plain]\n",
            "Saving to: ‘/tmp/cars_annos.mat’\n",
            "\n",
            "/tmp/cars_annos.mat 100%[===================>] 181.40K   456KB/s    in 0.4s    \n",
            "\n",
            "2020-07-02 13:32:08 (456 KB/s) - ‘/tmp/cars_annos.mat’ saved [185758/185758]\n",
            "\n"
          ],
          "name": "stdout"
        }
      ]
    },
    {
      "cell_type": "code",
      "metadata": {
        "id": "ykyGwi6_pStE",
        "colab_type": "code",
        "colab": {}
      },
      "source": [
        "import os\n",
        "import tarfile\n",
        "\n",
        "local_tar = '/tmp/car_ims.tgz'\n",
        "\n",
        "my_tar = tarfile.open(local_tar)\n",
        "my_tar.extractall('/tmp')\n",
        "my_tar.close()"
      ],
      "execution_count": null,
      "outputs": []
    },
    {
      "cell_type": "code",
      "metadata": {
        "id": "2p-6fcqcxO1_",
        "colab_type": "code",
        "colab": {}
      },
      "source": [
        ""
      ],
      "execution_count": null,
      "outputs": []
    },
    {
      "cell_type": "code",
      "metadata": {
        "id": "itSvgtoBvdWR",
        "colab_type": "code",
        "colab": {}
      },
      "source": [
        "def save_train_data(fnames, labels,bboxes):\n",
        "    src_folder ='/tmp/car_ims/'\n",
        "    num_samples = len(fnames)\n",
        "\n",
        "    train_split = 0.8\n",
        "    num_train = int(round(num_samples * train_split))\n",
        "    train_indexes = random.sample(range(num_samples), num_train)\n",
        "\n",
        "    for i in range(num_samples):\n",
        "        fname = fnames[i]\n",
        "        label = labels[i]\n",
        "        (x1, y1, x2, y2) = bboxes[i]\n",
        "        src_path = os.path.join(src_folder, fname)\n",
        "        src_image = cv2.imread(src_path)\n",
        "        height, width = src_image.shape[:2]\n",
        "\n",
        "        # margins of 16 pixels (Crop image according to a given bounding box)\n",
        "        margin = 16\n",
        "        x1 = max(0, x1 - margin)\n",
        "        y1 = max(0, y1 - margin)\n",
        "        x2 = min(x2 + margin, width)\n",
        "        y2 = min(y2 + margin, height)\n",
        "\n",
        "        if i in train_indexes:\n",
        "            dst_folder = '/tmp/car_ims/train/'\n",
        "        else:\n",
        "            dst_folder = '/tmp/car_ims/valid/'\n",
        "\n",
        "        dst_path = os.path.join(dst_folder, label)\n",
        "        if not os.path.exists(dst_path):\n",
        "            os.makedirs(dst_path)\n",
        "        dst_path = os.path.join(dst_path, fname)\n",
        "        dst_image = src_image[y1:y2, x1:x2]\n",
        "\n",
        "        cv2.imwrite(dst_path, dst_image)"
      ],
      "execution_count": null,
      "outputs": []
    },
    {
      "cell_type": "code",
      "metadata": {
        "id": "ReWrPBIa1tpC",
        "colab_type": "code",
        "colab": {}
      },
      "source": [
        ""
      ],
      "execution_count": null,
      "outputs": []
    },
    {
      "cell_type": "code",
      "metadata": {
        "id": "XPIixrh5sDUt",
        "colab_type": "code",
        "colab": {
          "base_uri": "https://localhost:8080/",
          "height": 230
        },
        "outputId": "aecc814d-2b74-453f-9954-d033332e7fc0"
      },
      "source": [
        "car_annotation= sio.loadmat('/tmp/cars_annos.mat')\n",
        "\n",
        "annotations = car_annotation['annotations']\n",
        "annotations = np.transpose(annotations)\n",
        "\n",
        "fnames = []\n",
        "class_ids = []\n",
        "labels = []\n",
        "bboxes  = []\n",
        "\n",
        "for annotation in annotations:\n",
        "  bbox_x1 = annotation[0][0][0][0]\n",
        "  bbox_y1 = annotation[0][1][0][0]\n",
        "  bbox_x2 = annotation[0][2][0][0]\n",
        "  bbox_y2 = annotation[0][3][0][0]\n",
        "\n",
        "  class_id = annotation[0][4][0][0]\n",
        "  bboxes.append((bbox_x1, bbox_y1, bbox_x2, bbox_y2))\n",
        "  labels.append(f'{class_id:06}')\n",
        "\n",
        "  file_name = str(0)+annotation[0][5][0]\n",
        "  class_ids.append(class_id)\n",
        "  fnames.append(file_name)\n",
        "\n",
        "labels_count = np.unique(class_ids).shape[0]\n",
        "print(np.unique(class_ids))\n",
        "print('The number of different cars is %d' % labels_count)"
      ],
      "execution_count": null,
      "outputs": [
        {
          "output_type": "stream",
          "text": [
            "[  1   2   3   4   5   6   7   8   9  10  11  12  13  14  15  16  17  18\n",
            "  19  20  21  22  23  24  25  26  27  28  29  30  31  32  33  34  35  36\n",
            "  37  38  39  40  41  42  43  44  45  46  47  48  49  50  51  52  53  54\n",
            "  55  56  57  58  59  60  61  62  63  64  65  66  67  68  69  70  71  72\n",
            "  73  74  75  76  77  78  79  80  81  82  83  84  85  86  87  88  89  90\n",
            "  91  92  93  94  95  96  97  98  99 100 101 102 103 104 105 106 107 108\n",
            " 109 110 111 112 113 114 115 116 117 118 119 120 121 122 123 124 125 126\n",
            " 127 128 129 130 131 132 133 134 135 136 137 138 139 140 141 142 143 144\n",
            " 145 146 147 148 149 150 151 152 153 154 155 156 157 158 159 160 161 162\n",
            " 163 164 165 166 167 168 169 170 171 172 173 174 175 176 177 178 179 180\n",
            " 181 182 183 184 185 186 187 188 189 190 191 192 193 194 195 196]\n",
            "The number of different cars is 196\n"
          ],
          "name": "stdout"
        }
      ]
    },
    {
      "cell_type": "code",
      "metadata": {
        "id": "dYnUFWqxxoGH",
        "colab_type": "code",
        "colab": {}
      },
      "source": [
        "save_train_data(fnames, labels, bboxes)"
      ],
      "execution_count": null,
      "outputs": []
    },
    {
      "cell_type": "code",
      "metadata": {
        "id": "j6ZJr02Xqmfu",
        "colab_type": "code",
        "colab": {
          "base_uri": "https://localhost:8080/",
          "height": 54
        },
        "outputId": "78c648fa-885e-4bfa-b10e-bee3dd04ff7b"
      },
      "source": [
        "print(glob.glob(\"/tmp/car_ims/train/*\"))\n",
        "print(glob.glob(\"/tmp/car_ims/valid/*\"))"
      ],
      "execution_count": null,
      "outputs": [
        {
          "output_type": "stream",
          "text": [
            "['/tmp/car_ims/train/000095', '/tmp/car_ims/train/000145', '/tmp/car_ims/train/000016', '/tmp/car_ims/train/000178', '/tmp/car_ims/train/000015', '/tmp/car_ims/train/000127', '/tmp/car_ims/train/000162', '/tmp/car_ims/train/000116', '/tmp/car_ims/train/000152', '/tmp/car_ims/train/000113', '/tmp/car_ims/train/000041', '/tmp/car_ims/train/000112', '/tmp/car_ims/train/000173', '/tmp/car_ims/train/000058', '/tmp/car_ims/train/000085', '/tmp/car_ims/train/000005', '/tmp/car_ims/train/000011', '/tmp/car_ims/train/000034', '/tmp/car_ims/train/000018', '/tmp/car_ims/train/000060', '/tmp/car_ims/train/000102', '/tmp/car_ims/train/000177', '/tmp/car_ims/train/000156', '/tmp/car_ims/train/000068', '/tmp/car_ims/train/000135', '/tmp/car_ims/train/000062', '/tmp/car_ims/train/000129', '/tmp/car_ims/train/000009', '/tmp/car_ims/train/000196', '/tmp/car_ims/train/000128', '/tmp/car_ims/train/000169', '/tmp/car_ims/train/000161', '/tmp/car_ims/train/000027', '/tmp/car_ims/train/000061', '/tmp/car_ims/train/000055', '/tmp/car_ims/train/000020', '/tmp/car_ims/train/000165', '/tmp/car_ims/train/000119', '/tmp/car_ims/train/000091', '/tmp/car_ims/train/000140', '/tmp/car_ims/train/000037', '/tmp/car_ims/train/000105', '/tmp/car_ims/train/000194', '/tmp/car_ims/train/000099', '/tmp/car_ims/train/000114', '/tmp/car_ims/train/000115', '/tmp/car_ims/train/000193', '/tmp/car_ims/train/000067', '/tmp/car_ims/train/000180', '/tmp/car_ims/train/000049', '/tmp/car_ims/train/000078', '/tmp/car_ims/train/000070', '/tmp/car_ims/train/000148', '/tmp/car_ims/train/000084', '/tmp/car_ims/train/000155', '/tmp/car_ims/train/000181', '/tmp/car_ims/train/000158', '/tmp/car_ims/train/000123', '/tmp/car_ims/train/000122', '/tmp/car_ims/train/000030', '/tmp/car_ims/train/000006', '/tmp/car_ims/train/000100', '/tmp/car_ims/train/000023', '/tmp/car_ims/train/000191', '/tmp/car_ims/train/000163', '/tmp/car_ims/train/000082', '/tmp/car_ims/train/000184', '/tmp/car_ims/train/000083', '/tmp/car_ims/train/000059', '/tmp/car_ims/train/000118', '/tmp/car_ims/train/000189', '/tmp/car_ims/train/000088', '/tmp/car_ims/train/000164', '/tmp/car_ims/train/000130', '/tmp/car_ims/train/000045', '/tmp/car_ims/train/000144', '/tmp/car_ims/train/000110', '/tmp/car_ims/train/000154', '/tmp/car_ims/train/000157', '/tmp/car_ims/train/000103', '/tmp/car_ims/train/000002', '/tmp/car_ims/train/000134', '/tmp/car_ims/train/000074', '/tmp/car_ims/train/000029', '/tmp/car_ims/train/000004', '/tmp/car_ims/train/000168', '/tmp/car_ims/train/000146', '/tmp/car_ims/train/000182', '/tmp/car_ims/train/000007', '/tmp/car_ims/train/000166', '/tmp/car_ims/train/000138', '/tmp/car_ims/train/000052', '/tmp/car_ims/train/000022', '/tmp/car_ims/train/000040', '/tmp/car_ims/train/000149', '/tmp/car_ims/train/000094', '/tmp/car_ims/train/000048', '/tmp/car_ims/train/000063', '/tmp/car_ims/train/000064', '/tmp/car_ims/train/000192', '/tmp/car_ims/train/000036', '/tmp/car_ims/train/000188', '/tmp/car_ims/train/000089', '/tmp/car_ims/train/000069', '/tmp/car_ims/train/000096', '/tmp/car_ims/train/000098', '/tmp/car_ims/train/000056', '/tmp/car_ims/train/000151', '/tmp/car_ims/train/000038', '/tmp/car_ims/train/000021', '/tmp/car_ims/train/000190', '/tmp/car_ims/train/000176', '/tmp/car_ims/train/000160', '/tmp/car_ims/train/000017', '/tmp/car_ims/train/000097', '/tmp/car_ims/train/000175', '/tmp/car_ims/train/000183', '/tmp/car_ims/train/000050', '/tmp/car_ims/train/000072', '/tmp/car_ims/train/000001', '/tmp/car_ims/train/000141', '/tmp/car_ims/train/000167', '/tmp/car_ims/train/000076', '/tmp/car_ims/train/000033', '/tmp/car_ims/train/000195', '/tmp/car_ims/train/000053', '/tmp/car_ims/train/000124', '/tmp/car_ims/train/000125', '/tmp/car_ims/train/000087', '/tmp/car_ims/train/000111', '/tmp/car_ims/train/000106', '/tmp/car_ims/train/000014', '/tmp/car_ims/train/000080', '/tmp/car_ims/train/000150', '/tmp/car_ims/train/000031', '/tmp/car_ims/train/000008', '/tmp/car_ims/train/000003', '/tmp/car_ims/train/000092', '/tmp/car_ims/train/000159', '/tmp/car_ims/train/000186', '/tmp/car_ims/train/000109', '/tmp/car_ims/train/000057', '/tmp/car_ims/train/000051', '/tmp/car_ims/train/000107', '/tmp/car_ims/train/000093', '/tmp/car_ims/train/000170', '/tmp/car_ims/train/000054', '/tmp/car_ims/train/000142', '/tmp/car_ims/train/000179', '/tmp/car_ims/train/000079', '/tmp/car_ims/train/000046', '/tmp/car_ims/train/000143', '/tmp/car_ims/train/000075', '/tmp/car_ims/train/000121', '/tmp/car_ims/train/000077', '/tmp/car_ims/train/000136', '/tmp/car_ims/train/000043', '/tmp/car_ims/train/000019', '/tmp/car_ims/train/000028', '/tmp/car_ims/train/000187', '/tmp/car_ims/train/000117', '/tmp/car_ims/train/000132', '/tmp/car_ims/train/000104', '/tmp/car_ims/train/000137', '/tmp/car_ims/train/000026', '/tmp/car_ims/train/000032', '/tmp/car_ims/train/000065', '/tmp/car_ims/train/000024', '/tmp/car_ims/train/000120', '/tmp/car_ims/train/000081', '/tmp/car_ims/train/000047', '/tmp/car_ims/train/000153', '/tmp/car_ims/train/000071', '/tmp/car_ims/train/000090', '/tmp/car_ims/train/000025', '/tmp/car_ims/train/000013', '/tmp/car_ims/train/000139', '/tmp/car_ims/train/000039', '/tmp/car_ims/train/000101', '/tmp/car_ims/train/000185', '/tmp/car_ims/train/000066', '/tmp/car_ims/train/000044', '/tmp/car_ims/train/000073', '/tmp/car_ims/train/000108', '/tmp/car_ims/train/000147', '/tmp/car_ims/train/000012', '/tmp/car_ims/train/000172', '/tmp/car_ims/train/000035', '/tmp/car_ims/train/000126', '/tmp/car_ims/train/000174', '/tmp/car_ims/train/000086', '/tmp/car_ims/train/000010', '/tmp/car_ims/train/000171', '/tmp/car_ims/train/000131', '/tmp/car_ims/train/000133', '/tmp/car_ims/train/000042']\n"
          ],
          "name": "stdout"
        }
      ]
    },
    {
      "cell_type": "code",
      "metadata": {
        "id": "RiXOSI7mq2rC",
        "colab_type": "code",
        "colab": {}
      },
      "source": [
        ""
      ],
      "execution_count": null,
      "outputs": []
    }
  ]
}