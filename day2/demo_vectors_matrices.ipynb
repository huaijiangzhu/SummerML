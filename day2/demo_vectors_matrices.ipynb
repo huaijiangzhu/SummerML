{
 "cells": [
  {
   "cell_type": "markdown",
   "metadata": {
    "colab_type": "text",
    "id": "3d768K37k4Th"
   },
   "source": [
    "# Vectors and Matrices\n",
    "## In NumPy\n",
    "These code blocks go along with the Day1.pdf lecture slides"
   ]
  },
  {
   "cell_type": "markdown",
   "metadata": {
    "colab_type": "text",
    "id": "ykbMIef0lVP4"
   },
   "source": [
    "Add two Python list together does not do vector addition..."
   ]
  },
  {
   "cell_type": "code",
   "execution_count": 1,
   "metadata": {
    "colab": {
     "base_uri": "https://localhost:8080/",
     "height": 35
    },
    "colab_type": "code",
    "id": "Kx0NMp4xk4Tj",
    "outputId": "168cfe9c-8c80-4630-9d5f-b19c33a5fb6f"
   },
   "outputs": [
    {
     "name": "stdout",
     "output_type": "stream",
     "text": [
      "v + u =  [3, 6, 0, -5, 1, 5, 2, 9]\n"
     ]
    }
   ],
   "source": [
    "u = [1,5,2,9] \n",
    "v = [3,6,0,-5]\n",
    "print(\"v + u = \", v + u)"
   ]
  },
  {
   "cell_type": "markdown",
   "metadata": {
    "colab_type": "text",
    "id": "gVUUa1xOk4Tn"
   },
   "source": [
    "Fortunately, people have provided open-source packages for linear algebra operations in Python"
   ]
  },
  {
   "cell_type": "code",
   "execution_count": 2,
   "metadata": {
    "colab": {},
    "colab_type": "code",
    "id": "CcAoekkLk4To"
   },
   "outputs": [],
   "source": [
    "import numpy as np"
   ]
  },
  {
   "cell_type": "markdown",
   "metadata": {
    "colab_type": "text",
    "id": "6ZEPCF7Hk4Tq"
   },
   "source": [
    "## Vectors"
   ]
  },
  {
   "cell_type": "code",
   "execution_count": 6,
   "metadata": {
    "colab": {
     "base_uri": "https://localhost:8080/",
     "height": 121
    },
    "colab_type": "code",
    "id": "WJnQAOAJk4Tr",
    "outputId": "805e69be-4117-4116-dc84-640c6f7906d4"
   },
   "outputs": [
    {
     "name": "stdout",
     "output_type": "stream",
     "text": [
      "v+u =  [ 4 11  2  4]\n",
      "3v =  [ 3 15  6 27]\n",
      "u dot v =  -12\n",
      "Or u dot v =  -12\n",
      "sqrt(v dot v) = 10.54\n",
      "||v|| = 10.54\n"
     ]
    }
   ],
   "source": [
    "\n",
    "v = np.array([1,5,2,9])\n",
    "u = np.array([3,6,0,-5])\n",
    "\n",
    "# vector addition\n",
    "print(\"v+u = \", v+u)\n",
    "\n",
    "# vector scaling\n",
    "print(\"3v = \", 3*v)\n",
    "\n",
    "# Dot-Product\n",
    "print(\"u dot v = \", np.dot(u,v))\n",
    "print('Or u dot v = ', u.dot(v))\n",
    "\n",
    "# Length / L2 Norm of a vector\n",
    "print(\"sqrt(v dot v) = %.2f\" % np.sqrt(np.dot(v,v)))\n",
    "print(\"||v|| = %.2f\" % np.linalg.norm(v))"
   ]
  },
  {
   "cell_type": "markdown",
   "metadata": {
    "colab_type": "text",
    "id": "wiRZKWP5md-S"
   },
   "source": [
    "## Pause for lecture"
   ]
  },
  {
   "cell_type": "markdown",
   "metadata": {
    "colab_type": "text",
    "id": "ULJ0MNmkk4Tu"
   },
   "source": [
    "## Matrices"
   ]
  },
  {
   "cell_type": "code",
   "execution_count": 17,
   "metadata": {
    "colab": {
     "base_uri": "https://localhost:8080/",
     "height": 173
    },
    "colab_type": "code",
    "id": "f-o8cWNck4Tv",
    "outputId": "264805b0-54a1-4950-baa8-12bbe731ef45"
   },
   "outputs": [
    {
     "name": "stdout",
     "output_type": "stream",
     "text": [
      "M =  (2, 3)\n",
      "[[  1   9 -12]\n",
      " [ 15  -2   0]]\n",
      "A+B = \n",
      " [[ 1  9]\n",
      " [ 9 12]]\n",
      "aB = \n",
      " [[ 0 40]\n",
      " [35 55]]\n"
     ]
    }
   ],
   "source": [
    "M = np.array([ [1,9,-12], [15, -2, 0] ])\n",
    "print(\"M = \", M.shape)\n",
    "print(M)\n",
    "\n",
    "# matrix addition\n",
    "A = np.array([ [1, 1], [2, 1] ])\n",
    "B = np.array([ [0, 8], [7, 11] ])\n",
    "print(\"A+B = \\n\", A+B) # '\\n' is the newline character\n",
    "\n",
    "# matrix scaling\n",
    "a = 5\n",
    "print(\"aB = \\n\", a*B)"
   ]
  },
  {
   "cell_type": "markdown",
   "metadata": {
    "colab_type": "text",
    "id": "VvKPUxQAk4Tx"
   },
   "source": [
    "## More about Matrices"
   ]
  },
  {
   "cell_type": "code",
   "execution_count": 23,
   "metadata": {
    "colab": {
     "base_uri": "https://localhost:8080/",
     "height": 329
    },
    "colab_type": "code",
    "id": "0lMpTVk8k4Ty",
    "outputId": "eae3886e-ee01-41f1-acf6-964fe959dff6"
   },
   "outputs": [
    {
     "name": "stdout",
     "output_type": "stream",
     "text": [
      "shapes of A and M: (2, 2) (2, 3)\n",
      "C1 = \n",
      " [[ 16   7 -12]\n",
      " [ 17  16 -24]]\n",
      "C2 = \n",
      " [[ 16   7 -12]\n",
      " [ 17  16 -24]]\n",
      "M^T = \n",
      " [[  1  15]\n",
      " [  9  -2]\n",
      " [-12   0]]\n",
      "M^T = \n",
      " [[  1  15]\n",
      " [  9  -2]\n",
      " [-12   0]]\n",
      "A^-1 = \n",
      " [[-1.  1.]\n",
      " [ 2. -1.]]\n"
     ]
    }
   ],
   "source": [
    "# matrix multiplicaiton\n",
    "print(\"shapes of A and M:\", A.shape, M.shape)\n",
    "C1 = np.matmul(A, M)\n",
    "C2 = A.dot(M)\n",
    "print(\"C1 = \\n\", C1)\n",
    "print(\"C2 = \\n\", C2)\n",
    "\n",
    "# matrix transpose\n",
    "print(\"M^T = \\n\", np.transpose(M))\n",
    "print(\"M^T = \\n\", M.transpose())\n",
    "\n",
    "\n",
    "# matrix inverse\n",
    "print(\"A^-1 = \\n\", np.linalg.inv(A))"
   ]
  },
  {
   "cell_type": "markdown",
   "metadata": {
    "colab_type": "text",
    "id": "5LnHpZF2k4T0"
   },
   "source": [
    "## Vectors and Matrices"
   ]
  },
  {
   "cell_type": "code",
   "execution_count": 26,
   "metadata": {
    "colab": {
     "base_uri": "https://localhost:8080/",
     "height": 433
    },
    "colab_type": "code",
    "id": "9bU1KEexk4T0",
    "outputId": "6c59b681-7c97-45e8-9684-da671f5e613a"
   },
   "outputs": [
    {
     "name": "stdout",
     "output_type": "stream",
     "text": [
      "v (4,)  =  [1 5 2 9]\n",
      "row vector v (1, 4)  =  [[1 5 2 9]]\n",
      "col vector v (4, 1)  = \n",
      " [[1]\n",
      " [5]\n",
      " [2]\n",
      " [9]]\n",
      "u (2,)  = \n",
      " [1 2]\n",
      "A (3, 2)  = \n",
      " [[2 0]\n",
      " [0 1]\n",
      " [1 1]]\n",
      "Au = \n",
      " [2 2 3]\n",
      "u (2, 1)  = \n",
      " [[1]\n",
      " [2]]\n",
      "Au = \n",
      " [[2]\n",
      " [2]\n",
      " [3]]\n",
      "v dot v = [[111]]\n",
      "shape of vdotv (1, 1)\n"
     ]
    }
   ],
   "source": [
    "v = np.array([1,5,2,9])\n",
    "\n",
    "# v\n",
    "print(\"v\", v.shape, \" = \", v)\n",
    "\n",
    "# row vector v\n",
    "v = v.reshape(1,-1) # shape -1 in np.reshape means value is infered\n",
    "print(\"row vector v\", v.shape, \" = \",  v) \n",
    "\n",
    "# column vector v\n",
    "v = v.reshape(-1,1)\n",
    "print(\"col vector v\", v.shape, \" = \\n\",  v) \n",
    "\n",
    "# matrix vector multiplication\n",
    "A = np.array([[2,0],[0,1],[1,1]])\n",
    "u = np.array([1,2])\n",
    "print(\"u\", u.shape, \" = \\n\", u)\n",
    "print(\"A\", A.shape, \" = \\n\", A)\n",
    "\n",
    "print(\"Au = \\n\", A.dot(u))\n",
    "\n",
    "u = u.reshape(-1,1)\n",
    "print(\"u\", u.shape, \" = \\n\", u)\n",
    "print(\"Au = \\n\", A.dot(u))\n",
    "\n",
    "\n",
    "# inner product as matrix multiplication\n",
    "vdotv = np.matmul(np.transpose(v), v)\n",
    "print(\"v dot v =\", vdotv)\n",
    "print(\"shape of vdotv\", vdotv.shape)"
   ]
  },
  {
   "cell_type": "markdown",
   "metadata": {
    "colab_type": "text",
    "id": "ZvdTCz-GqBMs"
   },
   "source": [
    "## Calculate the exercises done in the morning, compare the results!"
   ]
  },
  {
   "cell_type": "code",
   "execution_count": 27,
   "metadata": {
    "colab": {},
    "colab_type": "code",
    "id": "VQ2ZVtKbnij9"
   },
   "outputs": [],
   "source": [
    "## To do"
   ]
  },
  {
   "cell_type": "code",
   "execution_count": null,
   "metadata": {
    "colab": {},
    "colab_type": "code",
    "id": "PcH9-QH0qLXs"
   },
   "outputs": [],
   "source": []
  }
 ],
 "metadata": {
  "colab": {
   "name": "demo_vectors_matrices.ipynb",
   "provenance": []
  },
  "kernelspec": {
   "display_name": "Python 3",
   "language": "python",
   "name": "python3"
  },
  "language_info": {
   "codemirror_mode": {
    "name": "ipython",
    "version": 3
   },
   "file_extension": ".py",
   "mimetype": "text/x-python",
   "name": "python",
   "nbconvert_exporter": "python",
   "pygments_lexer": "ipython3",
   "version": "3.7.2"
  }
 },
 "nbformat": 4,
 "nbformat_minor": 1
}
