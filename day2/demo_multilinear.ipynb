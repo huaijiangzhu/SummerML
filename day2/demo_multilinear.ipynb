{
  "nbformat": 4,
  "nbformat_minor": 0,
  "metadata": {
    "colab": {
      "name": "Day2_Student.ipynb",
      "provenance": [],
      "collapsed_sections": [
        "vKrhN7KoDRi1"
      ]
    },
    "kernelspec": {
      "display_name": "Python 3",
      "language": "python",
      "name": "python3"
    },
    "language_info": {
      "codemirror_mode": {
        "name": "ipython",
        "version": 3
      },
      "file_extension": ".py",
      "mimetype": "text/x-python",
      "name": "python",
      "nbconvert_exporter": "python",
      "pygments_lexer": "ipython3",
      "version": "3.7.0"
    }
  },
  "cells": [
    {
      "cell_type": "markdown",
      "metadata": {
        "colab_type": "text",
        "id": "w78DOASLWcCD"
      },
      "source": [
        "# *Demo*: Multivariable Regression on Boston Housing Data"
      ]
    },
    {
      "cell_type": "markdown",
      "metadata": {
        "colab_type": "text",
        "id": "JRrZ5gJhX2Hk"
      },
      "source": [
        "Code that should already have come before...\n",
        "\n",
        "Let's read in the data and see what it looks like..."
      ]
    },
    {
      "cell_type": "code",
      "metadata": {
        "colab_type": "code",
        "id": "iDw4tjflX1C1",
        "colab": {
          "base_uri": "https://localhost:8080/",
          "height": 54
        },
        "outputId": "d71eb231-f1b7-4f30-9760-4731cf5d64ae"
      },
      "source": [
        "import pandas as pd\n",
        "import numpy as np\n",
        "\n",
        "names =['CRIM', 'ZN', 'INDUS', 'CHAS', 'NOX', 'RM', 'AGE',  'DIS', 'RAD', 'TAX', 'PTRATIO', 'B', 'LSTAT', 'PRICE']\n",
        "\n",
        "df = pd.read_csv('https://archive.ics.uci.edu/ml/machine-learning-databases/housing/housing.data', \n",
        "                 header=None, delim_whitespace=True, names=names, na_values='?')\n",
        "\n",
        "df.head(6)  # print the first six samples\n",
        "\n",
        "\"\"\"\n",
        "Attribute Information:\n",
        "    1.  CRIM      per capita crime rate by town\n",
        "    2.  ZN        proportion of residential land zoned for lots over \n",
        "                  25,000 sq.ft.\n",
        "    3.  INDUS     proportion of non-retail business acres per town\n",
        "    4.  CHAS      Charles River dummy variable (= 1 if tract bounds \n",
        "                  river; 0 otherwise)\n",
        "    5.  NOX       nitric oxides concentration (parts per 10 million)\n",
        "    6.  RM        average number of rooms per dwelling\n",
        "    7.  AGE       proportion of owner-occupied units built prior to 1940\n",
        "    8.  DIS       weighted distances to five Boston employment centres\n",
        "    9.  RAD       index of accessibility to radial highways\n",
        "    10. TAX       full-value property-tax rate per $10,000\n",
        "    11. PTRATIO   pupil-teacher ratio by town\n",
        "    12. B         1000(Bk - 0.63)^2 where Bk is the proportion of blocks by town\n",
        "    13. LSTAT     % lower status of the population\n",
        "    14. MEDV      Median value of owner-occupied homes in $1000's\n",
        "\"\"\""
      ],
      "execution_count": 1,
      "outputs": [
        {
          "output_type": "execute_result",
          "data": {
            "text/plain": [
              "\"\\nAttribute Information:\\n    1.  CRIM      per capita crime rate by town\\n    2.  ZN        proportion of residential land zoned for lots over \\n                  25,000 sq.ft.\\n    3.  INDUS     proportion of non-retail business acres per town\\n    4.  CHAS      Charles River dummy variable (= 1 if tract bounds \\n                  river; 0 otherwise)\\n    5.  NOX       nitric oxides concentration (parts per 10 million)\\n    6.  RM        average number of rooms per dwelling\\n    7.  AGE       proportion of owner-occupied units built prior to 1940\\n    8.  DIS       weighted distances to five Boston employment centres\\n    9.  RAD       index of accessibility to radial highways\\n    10. TAX       full-value property-tax rate per $10,000\\n    11. PTRATIO   pupil-teacher ratio by town\\n    12. B         1000(Bk - 0.63)^2 where Bk is the proportion of blocks by town\\n    13. LSTAT     % lower status of the population\\n    14. MEDV      Median value of owner-occupied homes in $1000's\\n\""
            ]
          },
          "metadata": {
            "tags": []
          },
          "execution_count": 1
        }
      ]
    },
    {
      "cell_type": "markdown",
      "metadata": {
        "colab_type": "text",
        "id": "3_jtITf0KLkf"
      },
      "source": [
        "## Forming the Design Matrix\n",
        "\n",
        "We want to put our features into feature vectors (stacked into a design matrix). Here we check the difference between the numpy and pandas datatype, and see the importance of using ```df['feature'].values``` to get a numpy array returned."
      ]
    },
    {
      "cell_type": "code",
      "metadata": {
        "colab_type": "code",
        "id": "LTKzw2raPlZj",
        "colab": {
          "base_uri": "https://localhost:8080/",
          "height": 119
        },
        "outputId": "29404bc1-c857-4655-96f0-484b1df0c0d0"
      },
      "source": [
        "features = df.columns.tolist()\n",
        "features.remove('PRICE')\n",
        "\n",
        "x = df[features[0]]\n",
        "xn = df[features[0]].values\n",
        "\n",
        "print(features)\n",
        "print(x[:3]) # pandas datatype\n",
        "print(xn[:3]) # numpy array"
      ],
      "execution_count": 2,
      "outputs": [
        {
          "output_type": "stream",
          "text": [
            "['CRIM', 'ZN', 'INDUS', 'CHAS', 'NOX', 'RM', 'AGE', 'DIS', 'RAD', 'TAX', 'PTRATIO', 'B', 'LSTAT']\n",
            "0    0.00632\n",
            "1    0.02731\n",
            "2    0.02729\n",
            "Name: CRIM, dtype: float64\n",
            "[0.00632 0.02731 0.02729]\n"
          ],
          "name": "stdout"
        }
      ]
    },
    {
      "cell_type": "markdown",
      "metadata": {
        "colab_type": "text",
        "id": "jhjwussDaUHG"
      },
      "source": [
        "Treat all the features as a vector, $\\mathbf{x}$, and stack the samples in a $N$ by $D$ matrix, $X$, where $N$ is the number of samples and $D$ is the number of features."
      ]
    },
    {
      "cell_type": "code",
      "metadata": {
        "colab_type": "code",
        "id": "jS5abEJGZWEp",
        "colab": {
          "base_uri": "https://localhost:8080/",
          "height": 34
        },
        "outputId": "efee75ec-8a74-4fde-96b6-3d62787e2716"
      },
      "source": [
        "X = df[features].values\n",
        "print(X.shape)"
      ],
      "execution_count": 11,
      "outputs": [
        {
          "output_type": "stream",
          "text": [
            "(506, 13)\n"
          ],
          "name": "stdout"
        }
      ]
    },
    {
      "cell_type": "code",
      "metadata": {
        "id": "okBuUq7iY02B",
        "colab_type": "code",
        "colab": {
          "base_uri": "https://localhost:8080/",
          "height": 34
        },
        "outputId": "5f008720-f7df-4228-b762-78fc34185e46"
      },
      "source": [
        "bias_term = np.ones((X.shape[0],1))\n",
        "X = np.hstack([bias_term, X])\n",
        "print(X.shape)"
      ],
      "execution_count": 12,
      "outputs": [
        {
          "output_type": "stream",
          "text": [
            "(506, 14)\n"
          ],
          "name": "stdout"
        }
      ]
    },
    {
      "cell_type": "markdown",
      "metadata": {
        "colab_type": "text",
        "id": "My_yW7qiLhMd"
      },
      "source": [
        "## LS Solution\n",
        "using numpy and scikit module"
      ]
    },
    {
      "cell_type": "code",
      "metadata": {
        "id": "fCgBwDJaY02E",
        "colab_type": "code",
        "colab": {
          "base_uri": "https://localhost:8080/",
          "height": 272
        },
        "outputId": "f714e82d-06b5-41db-cf77-96bd1b80a7ef"
      },
      "source": [
        "y = df['PRICE'].values.reshape(-1,1)\n",
        "\n",
        "w = np.linalg.lstsq(X,y, rcond=-1)[0]\n",
        "\n",
        "with np.printoptions(precision=3, suppress=True):\n",
        "    print(w)\n",
        "\n",
        "yhat = X.dot(w)\n",
        "\n",
        "MSE = np.mean( (y-yhat)**2 )\n",
        "print(\"MSE = %.3f\" % MSE)"
      ],
      "execution_count": 13,
      "outputs": [
        {
          "output_type": "stream",
          "text": [
            "[[ 36.459]\n",
            " [ -0.108]\n",
            " [  0.046]\n",
            " [  0.021]\n",
            " [  2.687]\n",
            " [-17.767]\n",
            " [  3.81 ]\n",
            " [  0.001]\n",
            " [ -1.476]\n",
            " [  0.306]\n",
            " [ -0.012]\n",
            " [ -0.953]\n",
            " [  0.009]\n",
            " [ -0.525]]\n",
            "MSE = 21.895\n"
          ],
          "name": "stdout"
        }
      ]
    },
    {
      "cell_type": "code",
      "metadata": {
        "colab_type": "code",
        "id": "GtTB6MU6cqP1",
        "colab": {
          "base_uri": "https://localhost:8080/",
          "height": 34
        },
        "outputId": "a27be46f-16b6-47c9-95de-5fbf7277d3b5"
      },
      "source": [
        "from sklearn.linear_model import LinearRegression\n",
        "\n",
        "y = df['PRICE'].values.reshape(-1,1)\n",
        "\n",
        "regr = LinearRegression(fit_intercept=False)\n",
        "regr.fit(X, y)\n",
        "yhat = regr.predict(X)\n",
        "\n",
        "w = regr.coef_\n",
        "\n",
        "MSE = np.mean( (y-yhat)**2 )\n",
        "print(\"MSE = %.3f\" % MSE)"
      ],
      "execution_count": 14,
      "outputs": [
        {
          "output_type": "stream",
          "text": [
            "MSE = 21.895\n"
          ],
          "name": "stdout"
        }
      ]
    },
    {
      "cell_type": "markdown",
      "metadata": {
        "colab_type": "text",
        "id": "FYgRc8uKMszW"
      },
      "source": [
        "Print the first values of the ground truth and model predictions to get a feel for our LS solution."
      ]
    },
    {
      "cell_type": "code",
      "metadata": {
        "colab_type": "code",
        "id": "57Ox9Cfxfsi6",
        "colab": {
          "base_uri": "https://localhost:8080/",
          "height": 187
        },
        "outputId": "d8dc742a-3879-4b7e-eb64-a7a4c4af2629"
      },
      "source": [
        "Y = np.hstack([y, yhat])\n",
        "with np.printoptions(precision=2):\n",
        "    print(Y[:10,:])"
      ],
      "execution_count": 15,
      "outputs": [
        {
          "output_type": "stream",
          "text": [
            "[[24.   30.  ]\n",
            " [21.6  25.03]\n",
            " [34.7  30.57]\n",
            " [33.4  28.61]\n",
            " [36.2  27.94]\n",
            " [28.7  25.26]\n",
            " [22.9  23.  ]\n",
            " [27.1  19.54]\n",
            " [16.5  11.52]\n",
            " [18.9  18.92]]\n"
          ],
          "name": "stdout"
        }
      ]
    }
  ]
}