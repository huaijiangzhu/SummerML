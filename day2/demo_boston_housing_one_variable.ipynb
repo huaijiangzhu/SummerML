{
  "nbformat": 4,
  "nbformat_minor": 0,
  "metadata": {
    "colab": {
      "name": "Boston_Housing_One_Variable.ipynb",
      "provenance": [],
      "collapsed_sections": []
    },
    "kernelspec": {
      "display_name": "Python 3",
      "language": "python",
      "name": "python3"
    },
    "language_info": {
      "codemirror_mode": {
        "name": "ipython",
        "version": 3
      },
      "file_extension": ".py",
      "mimetype": "text/x-python",
      "name": "python",
      "nbconvert_exporter": "python",
      "pygments_lexer": "ipython3",
      "version": "3.7.0"
    }
  },
  "cells": [
    {
      "cell_type": "code",
      "metadata": {
        "colab_type": "code",
        "id": "7ySvcVJHBHvG",
        "colab": {
          "base_uri": "https://localhost:8080/",
          "height": 54
        },
        "outputId": "981e545b-da9b-4829-d13c-b1c00d1a27f0"
      },
      "source": [
        "import pandas as pd\n",
        "import numpy as np\n",
        "\n",
        "names = ['CRIM','ZN','INDUS','CHAS','NOX','RM','AGE','DIS','RAD','TAX','PTRATIO','B','LSTAT','PRICE']\n",
        "\n",
        "df = pd.read_csv('https://archive.ics.uci.edu/ml/machine-learning-databases/housing/housing.data',\n",
        "                header=None, names=names , delim_whitespace = True, na_values='?')\n",
        "\n",
        "df.head(5)\n",
        "\n",
        "\"\"\"\n",
        "Attribute Information:\n",
        "    1.  CRIM      per capita crime rate by town\n",
        "    2.  ZN        proportion of residential land zoned for lots over \n",
        "                  25,000 sq.ft.\n",
        "    3.  INDUS     proportion of non-retail business acres per town\n",
        "    4.  CHAS      Charles River dummy variable (= 1 if tract bounds \n",
        "                  river; 0 otherwise)\n",
        "    5.  NOX       nitric oxides concentration (parts per 10 million)\n",
        "    6.  RM        average number of rooms per dwelling\n",
        "    7.  AGE       proportion of owner-occupied units built prior to 1940\n",
        "    8.  DIS       weighted distances to five Boston employment centres\n",
        "    9.  RAD       index of accessibility to radial highways\n",
        "    10. TAX       full-value property-tax rate per $10,000\n",
        "    11. PTRATIO   pupil-teacher ratio by town\n",
        "    12. B         1000(Bk - 0.63)^2 where Bk is the proportion of blocks by town\n",
        "    13. LSTAT     % lower status of the population\n",
        "    14. MEDV      Median value of owner-occupied homes in $1000's\n",
        "\"\"\"\n",
        "\n"
      ],
      "execution_count": 1,
      "outputs": [
        {
          "output_type": "execute_result",
          "data": {
            "text/plain": [
              "\"\\nAttribute Information:\\n    1.  CRIM      per capita crime rate by town\\n    2.  ZN        proportion of residential land zoned for lots over \\n                  25,000 sq.ft.\\n    3.  INDUS     proportion of non-retail business acres per town\\n    4.  CHAS      Charles River dummy variable (= 1 if tract bounds \\n                  river; 0 otherwise)\\n    5.  NOX       nitric oxides concentration (parts per 10 million)\\n    6.  RM        average number of rooms per dwelling\\n    7.  AGE       proportion of owner-occupied units built prior to 1940\\n    8.  DIS       weighted distances to five Boston employment centres\\n    9.  RAD       index of accessibility to radial highways\\n    10. TAX       full-value property-tax rate per $10,000\\n    11. PTRATIO   pupil-teacher ratio by town\\n    12. B         1000(Bk - 0.63)^2 where Bk is the proportion of blocks by town\\n    13. LSTAT     % lower status of the population\\n    14. MEDV      Median value of owner-occupied homes in $1000's\\n\""
            ]
          },
          "metadata": {
            "tags": []
          },
          "execution_count": 1
        }
      ]
    },
    {
      "cell_type": "code",
      "metadata": {
        "colab_type": "code",
        "id": "jxpcppEWDj6c",
        "colab": {
          "base_uri": "https://localhost:8080/",
          "height": 34
        },
        "outputId": "29ad5c04-d249-4e6d-e5c1-7c210e553e24"
      },
      "source": [
        "print(df.shape)"
      ],
      "execution_count": 2,
      "outputs": [
        {
          "output_type": "stream",
          "text": [
            "(506, 14)\n"
          ],
          "name": "stdout"
        }
      ]
    },
    {
      "cell_type": "code",
      "metadata": {
        "colab_type": "code",
        "id": "DnClZNwpEms6",
        "colab": {}
      },
      "source": [
        "y = df['PRICE'].values\n",
        "x = df['RM'].values"
      ],
      "execution_count": 3,
      "outputs": []
    },
    {
      "cell_type": "code",
      "metadata": {
        "colab_type": "code",
        "id": "eb1dMMhXFUqx",
        "colab": {
          "base_uri": "https://localhost:8080/",
          "height": 279
        },
        "outputId": "db15243f-a4f4-488b-d361-c07ed62d43e8"
      },
      "source": [
        "import matplotlib.pyplot as plt\n",
        "\n",
        "plt.plot(x,y,'o')\n",
        "plt.xlabel('Average Number of Rooms')\n",
        "plt.ylabel('Price')\n",
        "plt.grid()"
      ],
      "execution_count": 4,
      "outputs": [
        {
          "output_type": "display_data",
          "data": {
            "image/png": "[encoded data removed]",
            "text/plain": [
              "<Figure size 432x288 with 1 Axes>"
            ]
          },
          "metadata": {
            "tags": [],
            "needs_background": "light"
          }
        }
      ]
    },
    {
      "cell_type": "markdown",
      "metadata": {
        "id": "AgOsOzRXTbIP",
        "colab_type": "text"
      },
      "source": [
        "# Guess a line to fit the data"
      ]
    },
    {
      "cell_type": "code",
      "metadata": {
        "colab_type": "code",
        "id": "luFvmrCzF5Wx",
        "colab": {
          "base_uri": "https://localhost:8080/",
          "height": 279
        },
        "outputId": "314b4b5d-407f-477b-c3a0-01a1a3500621"
      },
      "source": [
        "\n",
        "w1 = 9\n",
        "w0 = -30\n",
        "xplt = np.linspace(3,9,100)\n",
        "yplt = w1*xplt + w0\n",
        "plt.plot(x,y,'o')    # Plot the data points\n",
        "\n",
        "plt.plot(xplt,yplt,'-',linewidth=3)  # Plot the line\n",
        "plt.xlabel('Average number of rooms in a region')\n",
        "plt.ylabel('Price')\n",
        "plt.grid()\n"
      ],
      "execution_count": 5,
      "outputs": [
        {
          "output_type": "display_data",
          "data": {
            "image/png": "[encoded data removed]",
            "text/plain": [
              "<Figure size 432x288 with 1 Axes>"
            ]
          },
          "metadata": {
            "tags": [],
            "needs_background": "light"
          }
        }
      ]
    },
    {
      "cell_type": "code",
      "metadata": {
        "id": "7Q_0kRCadgbd",
        "colab_type": "code",
        "colab": {
          "base_uri": "https://localhost:8080/",
          "height": 282
        },
        "outputId": "39384adb-58be-4c3f-8126-3431b629f291"
      },
      "source": [
        "## Other possible guesses\n",
        "\n",
        "yplt2=9.1*xplt -34.67\n",
        "yplt3=12.5*xplt-53\n",
        "plt.plot(x,y,'o') \n",
        "plt.plot(xplt,yplt2,'-',linewidth=3,label='yplt2') \n",
        "plt.plot(xplt,yplt3,'-',linewidth=3,label='yplt3') \n",
        "plt.legend()"
      ],
      "execution_count": 6,
      "outputs": [
        {
          "output_type": "execute_result",
          "data": {
            "text/plain": [
              "<matplotlib.legend.Legend at 0x7f24166a5eb8>"
            ]
          },
          "metadata": {
            "tags": []
          },
          "execution_count": 6
        },
        {
          "output_type": "display_data",
          "data": {
            "image/png": "[encoded data removed]",
            "text/plain": [
              "<Figure size 432x288 with 1 Axes>"
            ]
          },
          "metadata": {
            "tags": [],
            "needs_background": "light"
          }
        }
      ]
    },
    {
      "cell_type": "markdown",
      "metadata": {
        "colab_type": "text",
        "id": "_k2ftd_WPxu8"
      },
      "source": [
        "# Calculate the Mean Squared Error (MSE) and Mean Absolute Error (MAE) to determine goodness of fit"
      ]
    },
    {
      "cell_type": "code",
      "metadata": {
        "colab_type": "code",
        "id": "PNaAngOcIoZ0",
        "colab": {
          "base_uri": "https://localhost:8080/",
          "height": 85
        },
        "outputId": "1acd7aef-162d-407c-e928-b6800288b6c5"
      },
      "source": [
        "yhat1 = 9*x-30\n",
        "yhat2 = 9.1*x-34.67\n",
        "yhat3 = 12.5*x-53\n",
        "yhat4 = 10.5*x-43\n",
        "\n",
        "# Mean Squared Error\n",
        "\n",
        "MSE1 = np.mean((y-yhat1)**2)\n",
        "MSE2 = np.mean((y-yhat2)**2)\n",
        "MSE3 = np.mean((y-yhat3)**2)\n",
        "MSE4 = np.mean((y-yhat4)**2)\n",
        "\n",
        "print(MSE1)\n",
        "print(MSE2)\n",
        "print(MSE3)\n",
        "print(MSE4)\n",
        "\n",
        "\n"
      ],
      "execution_count": 7,
      "outputs": [
        {
          "output_type": "stream",
          "text": [
            "59.83774942094861\n",
            "43.600713565355726\n",
            "58.4404171813241\n",
            "44.77113069515811\n"
          ],
          "name": "stdout"
        }
      ]
    },
    {
      "cell_type": "code",
      "metadata": {
        "id": "WhvseoAl_Rk-",
        "colab_type": "code",
        "colab": {
          "base_uri": "https://localhost:8080/",
          "height": 34
        },
        "outputId": "afc0f1a2-6375-453b-96c0-3a6bc8d0a889"
      },
      "source": [
        "np.abs(-2)"
      ],
      "execution_count": 8,
      "outputs": [
        {
          "output_type": "execute_result",
          "data": {
            "text/plain": [
              "2"
            ]
          },
          "metadata": {
            "tags": []
          },
          "execution_count": 8
        }
      ]
    },
    {
      "cell_type": "code",
      "metadata": {
        "id": "uY9I4qUE_VOg",
        "colab_type": "code",
        "colab": {
          "base_uri": "https://localhost:8080/",
          "height": 34
        },
        "outputId": "6774ff78-4c64-4a9d-e49f-2d1b3eff9e1e"
      },
      "source": [
        "np.abs(np.array([-1,-2,3]))"
      ],
      "execution_count": 9,
      "outputs": [
        {
          "output_type": "execute_result",
          "data": {
            "text/plain": [
              "array([1, 2, 3])"
            ]
          },
          "metadata": {
            "tags": []
          },
          "execution_count": 9
        }
      ]
    },
    {
      "cell_type": "code",
      "metadata": {
        "colab_type": "code",
        "id": "M1WqSyyvSP2l",
        "colab": {
          "base_uri": "https://localhost:8080/",
          "height": 68
        },
        "outputId": "e1e82d39-b9c1-40ca-8b56-d1a69ed2458a"
      },
      "source": [
        "# Mean Aboslute Error\n",
        "MAE1 = np.mean(np.abs(y-yhat1))\n",
        "MAE2 = np.mean(np.abs(y-yhat2))\n",
        "MAE3 = np.mean(np.abs(y-yhat3))\n",
        "print(MAE1)\n",
        "print(MAE2)\n",
        "print(MAE3)"
      ],
      "execution_count": 10,
      "outputs": [
        {
          "output_type": "stream",
          "text": [
            "5.807100790513834\n",
            "4.448047628458498\n",
            "5.315242094861659\n"
          ],
          "name": "stdout"
        }
      ]
    },
    {
      "cell_type": "markdown",
      "metadata": {
        "id": "A35PuWAs_MrW",
        "colab_type": "text"
      },
      "source": [
        "## Computing MSE with non-vectorized vs vectorized code"
      ]
    },
    {
      "cell_type": "code",
      "metadata": {
        "id": "Lyf2aIna_yCq",
        "colab_type": "code",
        "colab": {}
      },
      "source": [
        "## For simplicity, let us use only first 10 samples\n",
        "\n",
        "N = 10\n",
        "df = df.head(N)"
      ],
      "execution_count": 11,
      "outputs": []
    },
    {
      "cell_type": "code",
      "metadata": {
        "id": "spwSNOgs_1kA",
        "colab_type": "code",
        "colab": {
          "base_uri": "https://localhost:8080/",
          "height": 410
        },
        "outputId": "780f0165-8403-413b-b64c-06a06b4eda89"
      },
      "source": [
        "print ('df is an object of ', type(df))\n",
        "print ('\\n')\n",
        "df"
      ],
      "execution_count": 12,
      "outputs": [
        {
          "output_type": "stream",
          "text": [
            "df is an object of  <class 'pandas.core.frame.DataFrame'>\n",
            "\n",
            "\n"
          ],
          "name": "stdout"
        },
        {
          "output_type": "execute_result",
          "data": {
            "text/html": [
              "<div>\n",
              "<style scoped>\n",
              "    .dataframe tbody tr th:only-of-type {\n",
              "        vertical-align: middle;\n",
              "    }\n",
              "\n",
              "    .dataframe tbody tr th {\n",
              "        vertical-align: top;\n",
              "    }\n",
              "\n",
              "    .dataframe thead th {\n",
              "        text-align: right;\n",
              "    }\n",
              "</style>\n",
              "<table border=\"1\" class=\"dataframe\">\n",
              "  <thead>\n",
              "    <tr style=\"text-align: right;\">\n",
              "      <th></th>\n",
              "      <th>CRIM</th>\n",
              "      <th>ZN</th>\n",
              "      <th>INDUS</th>\n",
              "      <th>CHAS</th>\n",
              "      <th>NOX</th>\n",
              "      <th>RM</th>\n",
              "      <th>AGE</th>\n",
              "      <th>DIS</th>\n",
              "      <th>RAD</th>\n",
              "      <th>TAX</th>\n",
              "      <th>PTRATIO</th>\n",
              "      <th>B</th>\n",
              "      <th>LSTAT</th>\n",
              "      <th>PRICE</th>\n",
              "    </tr>\n",
              "  </thead>\n",
              "  <tbody>\n",
              "    <tr>\n",
              "      <th>0</th>\n",
              "      <td>0.00632</td>\n",
              "      <td>18.0</td>\n",
              "      <td>2.31</td>\n",
              "      <td>0</td>\n",
              "      <td>0.538</td>\n",
              "      <td>6.575</td>\n",
              "      <td>65.2</td>\n",
              "      <td>4.0900</td>\n",
              "      <td>1</td>\n",
              "      <td>296.0</td>\n",
              "      <td>15.3</td>\n",
              "      <td>396.90</td>\n",
              "      <td>4.98</td>\n",
              "      <td>24.0</td>\n",
              "    </tr>\n",
              "    <tr>\n",
              "      <th>1</th>\n",
              "      <td>0.02731</td>\n",
              "      <td>0.0</td>\n",
              "      <td>7.07</td>\n",
              "      <td>0</td>\n",
              "      <td>0.469</td>\n",
              "      <td>6.421</td>\n",
              "      <td>78.9</td>\n",
              "      <td>4.9671</td>\n",
              "      <td>2</td>\n",
              "      <td>242.0</td>\n",
              "      <td>17.8</td>\n",
              "      <td>396.90</td>\n",
              "      <td>9.14</td>\n",
              "      <td>21.6</td>\n",
              "    </tr>\n",
              "    <tr>\n",
              "      <th>2</th>\n",
              "      <td>0.02729</td>\n",
              "      <td>0.0</td>\n",
              "      <td>7.07</td>\n",
              "      <td>0</td>\n",
              "      <td>0.469</td>\n",
              "      <td>7.185</td>\n",
              "      <td>61.1</td>\n",
              "      <td>4.9671</td>\n",
              "      <td>2</td>\n",
              "      <td>242.0</td>\n",
              "      <td>17.8</td>\n",
              "      <td>392.83</td>\n",
              "      <td>4.03</td>\n",
              "      <td>34.7</td>\n",
              "    </tr>\n",
              "    <tr>\n",
              "      <th>3</th>\n",
              "      <td>0.03237</td>\n",
              "      <td>0.0</td>\n",
              "      <td>2.18</td>\n",
              "      <td>0</td>\n",
              "      <td>0.458</td>\n",
              "      <td>6.998</td>\n",
              "      <td>45.8</td>\n",
              "      <td>6.0622</td>\n",
              "      <td>3</td>\n",
              "      <td>222.0</td>\n",
              "      <td>18.7</td>\n",
              "      <td>394.63</td>\n",
              "      <td>2.94</td>\n",
              "      <td>33.4</td>\n",
              "    </tr>\n",
              "    <tr>\n",
              "      <th>4</th>\n",
              "      <td>0.06905</td>\n",
              "      <td>0.0</td>\n",
              "      <td>2.18</td>\n",
              "      <td>0</td>\n",
              "      <td>0.458</td>\n",
              "      <td>7.147</td>\n",
              "      <td>54.2</td>\n",
              "      <td>6.0622</td>\n",
              "      <td>3</td>\n",
              "      <td>222.0</td>\n",
              "      <td>18.7</td>\n",
              "      <td>396.90</td>\n",
              "      <td>5.33</td>\n",
              "      <td>36.2</td>\n",
              "    </tr>\n",
              "    <tr>\n",
              "      <th>5</th>\n",
              "      <td>0.02985</td>\n",
              "      <td>0.0</td>\n",
              "      <td>2.18</td>\n",
              "      <td>0</td>\n",
              "      <td>0.458</td>\n",
              "      <td>6.430</td>\n",
              "      <td>58.7</td>\n",
              "      <td>6.0622</td>\n",
              "      <td>3</td>\n",
              "      <td>222.0</td>\n",
              "      <td>18.7</td>\n",
              "      <td>394.12</td>\n",
              "      <td>5.21</td>\n",
              "      <td>28.7</td>\n",
              "    </tr>\n",
              "    <tr>\n",
              "      <th>6</th>\n",
              "      <td>0.08829</td>\n",
              "      <td>12.5</td>\n",
              "      <td>7.87</td>\n",
              "      <td>0</td>\n",
              "      <td>0.524</td>\n",
              "      <td>6.012</td>\n",
              "      <td>66.6</td>\n",
              "      <td>5.5605</td>\n",
              "      <td>5</td>\n",
              "      <td>311.0</td>\n",
              "      <td>15.2</td>\n",
              "      <td>395.60</td>\n",
              "      <td>12.43</td>\n",
              "      <td>22.9</td>\n",
              "    </tr>\n",
              "    <tr>\n",
              "      <th>7</th>\n",
              "      <td>0.14455</td>\n",
              "      <td>12.5</td>\n",
              "      <td>7.87</td>\n",
              "      <td>0</td>\n",
              "      <td>0.524</td>\n",
              "      <td>6.172</td>\n",
              "      <td>96.1</td>\n",
              "      <td>5.9505</td>\n",
              "      <td>5</td>\n",
              "      <td>311.0</td>\n",
              "      <td>15.2</td>\n",
              "      <td>396.90</td>\n",
              "      <td>19.15</td>\n",
              "      <td>27.1</td>\n",
              "    </tr>\n",
              "    <tr>\n",
              "      <th>8</th>\n",
              "      <td>0.21124</td>\n",
              "      <td>12.5</td>\n",
              "      <td>7.87</td>\n",
              "      <td>0</td>\n",
              "      <td>0.524</td>\n",
              "      <td>5.631</td>\n",
              "      <td>100.0</td>\n",
              "      <td>6.0821</td>\n",
              "      <td>5</td>\n",
              "      <td>311.0</td>\n",
              "      <td>15.2</td>\n",
              "      <td>386.63</td>\n",
              "      <td>29.93</td>\n",
              "      <td>16.5</td>\n",
              "    </tr>\n",
              "    <tr>\n",
              "      <th>9</th>\n",
              "      <td>0.17004</td>\n",
              "      <td>12.5</td>\n",
              "      <td>7.87</td>\n",
              "      <td>0</td>\n",
              "      <td>0.524</td>\n",
              "      <td>6.004</td>\n",
              "      <td>85.9</td>\n",
              "      <td>6.5921</td>\n",
              "      <td>5</td>\n",
              "      <td>311.0</td>\n",
              "      <td>15.2</td>\n",
              "      <td>386.71</td>\n",
              "      <td>17.10</td>\n",
              "      <td>18.9</td>\n",
              "    </tr>\n",
              "  </tbody>\n",
              "</table>\n",
              "</div>"
            ],
            "text/plain": [
              "      CRIM    ZN  INDUS  CHAS    NOX  ...    TAX  PTRATIO       B  LSTAT  PRICE\n",
              "0  0.00632  18.0   2.31     0  0.538  ...  296.0     15.3  396.90   4.98   24.0\n",
              "1  0.02731   0.0   7.07     0  0.469  ...  242.0     17.8  396.90   9.14   21.6\n",
              "2  0.02729   0.0   7.07     0  0.469  ...  242.0     17.8  392.83   4.03   34.7\n",
              "3  0.03237   0.0   2.18     0  0.458  ...  222.0     18.7  394.63   2.94   33.4\n",
              "4  0.06905   0.0   2.18     0  0.458  ...  222.0     18.7  396.90   5.33   36.2\n",
              "5  0.02985   0.0   2.18     0  0.458  ...  222.0     18.7  394.12   5.21   28.7\n",
              "6  0.08829  12.5   7.87     0  0.524  ...  311.0     15.2  395.60  12.43   22.9\n",
              "7  0.14455  12.5   7.87     0  0.524  ...  311.0     15.2  396.90  19.15   27.1\n",
              "8  0.21124  12.5   7.87     0  0.524  ...  311.0     15.2  386.63  29.93   16.5\n",
              "9  0.17004  12.5   7.87     0  0.524  ...  311.0     15.2  386.71  17.10   18.9\n",
              "\n",
              "[10 rows x 14 columns]"
            ]
          },
          "metadata": {
            "tags": []
          },
          "execution_count": 12
        }
      ]
    },
    {
      "cell_type": "code",
      "metadata": {
        "colab_type": "code",
        "id": "5fN5dJ_b8sY7",
        "colab": {
          "base_uri": "https://localhost:8080/",
          "height": 68
        },
        "outputId": "45bd6667-be92-4f4a-83b4-76338fc8ebef"
      },
      "source": [
        "# we want to use the average number of rooms to predict the housing price\n",
        "# we need to extract the data from df and convert them to numpy arrays\n",
        "\n",
        "x = df['RM'].values # feature\n",
        "y = df['PRICE'].values # label\n",
        "print ('both x and y are now objects of', type(x))\n",
        "\n",
        "# let's print out the values of x and y\n",
        "print ('x = ', x)\n",
        "print ('y = ', y)\n"
      ],
      "execution_count": 13,
      "outputs": [
        {
          "output_type": "stream",
          "text": [
            "both x and y are now objects of <class 'numpy.ndarray'>\n",
            "x =  [6.575 6.421 7.185 6.998 7.147 6.43  6.012 6.172 5.631 6.004]\n",
            "y =  [24.  21.6 34.7 33.4 36.2 28.7 22.9 27.1 16.5 18.9]\n"
          ],
          "name": "stdout"
        }
      ]
    },
    {
      "cell_type": "code",
      "metadata": {
        "id": "UgIvevrc_gZf",
        "colab_type": "code",
        "colab": {
          "base_uri": "https://localhost:8080/",
          "height": 34
        },
        "outputId": "fadd68ef-f933-4408-ac85-a6d924ba2e3a"
      },
      "source": [
        "# Let us evaluate the MSE of the model f(x) = 9*x - 30 on the dataset (x,y)\n",
        "# The non-vectorized code goes like this:\n",
        "\n",
        "sum_of_square_errors = 0\n",
        "for i in range(N):\n",
        "  yhat_i = 9*x[i] - 30\n",
        "  sum_of_square_errors = sum_of_square_errors + (y[i] - yhat_i) ** 2\n",
        "MSE = sum_of_square_errors/N\n",
        "\n",
        "print (MSE)"
      ],
      "execution_count": 14,
      "outputs": [
        {
          "output_type": "stream",
          "text": [
            "11.7182829\n"
          ],
          "name": "stdout"
        }
      ]
    },
    {
      "cell_type": "code",
      "metadata": {
        "id": "zEUBsH8M7TPp",
        "colab_type": "code",
        "colab": {
          "base_uri": "https://localhost:8080/",
          "height": 34
        },
        "outputId": "8d367f11-cc90-4be1-e484-180a5cc90d08"
      },
      "source": [
        "print (x)"
      ],
      "execution_count": 15,
      "outputs": [
        {
          "output_type": "stream",
          "text": [
            "[6.575 6.421 7.185 6.998 7.147 6.43  6.012 6.172 5.631 6.004]\n"
          ],
          "name": "stdout"
        }
      ]
    },
    {
      "cell_type": "code",
      "metadata": {
        "id": "iEzRdp4J7XZ9",
        "colab_type": "code",
        "colab": {
          "base_uri": "https://localhost:8080/",
          "height": 34
        },
        "outputId": "c293ee48-0489-45c5-8537-8fb3a3513362"
      },
      "source": [
        "print (9*x)"
      ],
      "execution_count": 16,
      "outputs": [
        {
          "output_type": "stream",
          "text": [
            "[59.175 57.789 64.665 62.982 64.323 57.87  54.108 55.548 50.679 54.036]\n"
          ],
          "name": "stdout"
        }
      ]
    },
    {
      "cell_type": "code",
      "metadata": {
        "id": "6-7JVEJQ7a5v",
        "colab_type": "code",
        "colab": {
          "base_uri": "https://localhost:8080/",
          "height": 34
        },
        "outputId": "99f7b733-e806-4442-a980-fd306e590c50"
      },
      "source": [
        "print (9*x - 30)"
      ],
      "execution_count": 17,
      "outputs": [
        {
          "output_type": "stream",
          "text": [
            "[29.175 27.789 34.665 32.982 34.323 27.87  24.108 25.548 20.679 24.036]\n"
          ],
          "name": "stdout"
        }
      ]
    },
    {
      "cell_type": "code",
      "metadata": {
        "id": "zZws4QXG7uxj",
        "colab_type": "code",
        "colab": {}
      },
      "source": [
        "ones = np.ones(N)"
      ],
      "execution_count": 18,
      "outputs": []
    },
    {
      "cell_type": "code",
      "metadata": {
        "id": "2KSQeYOO7xgF",
        "colab_type": "code",
        "colab": {
          "base_uri": "https://localhost:8080/",
          "height": 34
        },
        "outputId": "6a98e0e3-6fb7-4056-eed0-ba4884c8ee0b"
      },
      "source": [
        "print (9*x - 30*ones)"
      ],
      "execution_count": 19,
      "outputs": [
        {
          "output_type": "stream",
          "text": [
            "[29.175 27.789 34.665 32.982 34.323 27.87  24.108 25.548 20.679 24.036]\n"
          ],
          "name": "stdout"
        }
      ]
    },
    {
      "cell_type": "code",
      "metadata": {
        "id": "wWsxOIy88GY7",
        "colab_type": "code",
        "colab": {
          "base_uri": "https://localhost:8080/",
          "height": 34
        },
        "outputId": "e82f7876-9c61-47fc-cd0d-c3e8962d0237"
      },
      "source": [
        "print (y)"
      ],
      "execution_count": 20,
      "outputs": [
        {
          "output_type": "stream",
          "text": [
            "[24.  21.6 34.7 33.4 36.2 28.7 22.9 27.1 16.5 18.9]\n"
          ],
          "name": "stdout"
        }
      ]
    },
    {
      "cell_type": "code",
      "metadata": {
        "id": "LT9DeXP9AY4_",
        "colab_type": "code",
        "colab": {
          "base_uri": "https://localhost:8080/",
          "height": 34
        },
        "outputId": "3ce831ed-79c7-46fc-fe23-0a6dc181124e"
      },
      "source": [
        "print ((0.83) ** 2)"
      ],
      "execution_count": 21,
      "outputs": [
        {
          "output_type": "stream",
          "text": [
            "0.6889\n"
          ],
          "name": "stdout"
        }
      ]
    },
    {
      "cell_type": "code",
      "metadata": {
        "id": "shwIH25X8W_u",
        "colab_type": "code",
        "colab": {
          "base_uri": "https://localhost:8080/",
          "height": 34
        },
        "outputId": "19b4b15c-0331-4485-9d35-801de5e461bf"
      },
      "source": [
        "print (np.array([1, 2, 3 ]) ** 2)"
      ],
      "execution_count": 22,
      "outputs": [
        {
          "output_type": "stream",
          "text": [
            "[1 4 9]\n"
          ],
          "name": "stdout"
        }
      ]
    },
    {
      "cell_type": "code",
      "metadata": {
        "id": "3meyMnQ29WqC",
        "colab_type": "code",
        "colab": {
          "base_uri": "https://localhost:8080/",
          "height": 34
        },
        "outputId": "2a8f9cf5-4c34-4bbe-bd94-a8831cdf7d4d"
      },
      "source": [
        "np.mean(np.array([1,2,3]))"
      ],
      "execution_count": 23,
      "outputs": [
        {
          "output_type": "execute_result",
          "data": {
            "text/plain": [
              "2.0"
            ]
          },
          "metadata": {
            "tags": []
          },
          "execution_count": 23
        }
      ]
    },
    {
      "cell_type": "code",
      "metadata": {
        "id": "xhTe7cRDB2zX",
        "colab_type": "code",
        "colab": {
          "base_uri": "https://localhost:8080/",
          "height": 34
        },
        "outputId": "be9c9b44-314f-4ee1-d3e2-cdb1135122c3"
      },
      "source": [
        "# The vectorized code goes like this:\n",
        "\n",
        "yhat = 9*x - 30 # note that x is a vector, hence yhat is also a vector\n",
        "difference = y - yhat # the difference is still a vector\n",
        "z = difference ** 2 # the ** 2 acts on each element of the vector; the result is still a vector\n",
        "MSE = np.mean(z) # np.mean() sums all elements of z and diveded by its size (N=10)\n",
        "print (MSE)"
      ],
      "execution_count": 24,
      "outputs": [
        {
          "output_type": "stream",
          "text": [
            "11.718282900000002\n"
          ],
          "name": "stdout"
        }
      ]
    },
    {
      "cell_type": "code",
      "metadata": {
        "id": "xB-0NycGDM6A",
        "colab_type": "code",
        "colab": {
          "base_uri": "https://localhost:8080/",
          "height": 68
        },
        "outputId": "a02a1c3b-262e-4416-d902-5b5fdc8c0d7a"
      },
      "source": [
        "print (difference)\n",
        "print (difference ** 2)"
      ],
      "execution_count": 25,
      "outputs": [
        {
          "output_type": "stream",
          "text": [
            "[-5.175 -6.189  0.035  0.418  1.877  0.83  -1.208  1.552 -4.179 -5.136]\n",
            "[2.6780625e+01 3.8303721e+01 1.2250000e-03 1.7472400e-01 3.5231290e+00\n",
            " 6.8890000e-01 1.4592640e+00 2.4087040e+00 1.7464041e+01 2.6378496e+01]\n"
          ],
          "name": "stdout"
        }
      ]
    }
  ]
}