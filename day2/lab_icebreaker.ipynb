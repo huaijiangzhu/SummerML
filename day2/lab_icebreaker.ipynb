{
  "nbformat": 4,
  "nbformat_minor": 0,
  "metadata": {
    "colab": {
      "name": "IceBreakerDemo.ipynb",
      "provenance": []
    },
    "kernelspec": {
      "display_name": "Python 3",
      "language": "python",
      "name": "python3"
    },
    "language_info": {
      "codemirror_mode": {
        "name": "ipython",
        "version": 3
      },
      "file_extension": ".py",
      "mimetype": "text/x-python",
      "name": "python",
      "nbconvert_exporter": "python",
      "pygments_lexer": "ipython3",
      "version": "3.7.2"
    }
  },
  "cells": [
    {
      "cell_type": "code",
      "metadata": {
        "colab_type": "code",
        "id": "zXL3u543mvYN",
        "colab": {}
      },
      "source": [
        "import pandas as pd\n",
        "import numpy as np\n",
        "import matplotlib\n",
        "import matplotlib.pyplot as plt"
      ],
      "execution_count": 4,
      "outputs": []
    },
    {
      "cell_type": "code",
      "metadata": {
        "colab_type": "code",
        "id": "W-Tj_d6nnWqw",
        "colab": {}
      },
      "source": [
        "#dataframe - df\n",
        "df = pd.read_csv('https://raw.githubusercontent.com/huaijiangzhu/SummerML/master/day2/Icebreaking_dataset.csv')"
      ],
      "execution_count": 5,
      "outputs": []
    },
    {
      "cell_type": "code",
      "metadata": {
        "colab_type": "code",
        "id": "meCMHRWTnfZW",
        "colab": {
          "base_uri": "https://localhost:8080/",
          "height": 886
        },
        "outputId": "3d69fb7a-2bd7-433f-ef36-b33dde1a8c8a"
      },
      "source": [
        "df = df.dropna()\n",
        "df.head(31)"
      ],
      "execution_count": 6,
      "outputs": [
        {
          "output_type": "execute_result",
          "data": {
            "text/html": [
              "<div>\n",
              "<style scoped>\n",
              "    .dataframe tbody tr th:only-of-type {\n",
              "        vertical-align: middle;\n",
              "    }\n",
              "\n",
              "    .dataframe tbody tr th {\n",
              "        vertical-align: top;\n",
              "    }\n",
              "\n",
              "    .dataframe thead th {\n",
              "        text-align: right;\n",
              "    }\n",
              "</style>\n",
              "<table border=\"1\" class=\"dataframe\">\n",
              "  <thead>\n",
              "    <tr style=\"text-align: right;\">\n",
              "      <th></th>\n",
              "      <th>Name</th>\n",
              "      <th>Grade</th>\n",
              "      <th>City</th>\n",
              "      <th>Movie</th>\n",
              "      <th>IMDB Score</th>\n",
              "      <th>Genre</th>\n",
              "      <th>Coding experience</th>\n",
              "    </tr>\n",
              "  </thead>\n",
              "  <tbody>\n",
              "    <tr>\n",
              "      <th>0</th>\n",
              "      <td>Alexandra Montgomery</td>\n",
              "      <td>9</td>\n",
              "      <td>Anaheim Hills, CA</td>\n",
              "      <td>A Beautiful Day in the Neighborhood</td>\n",
              "      <td>7.3</td>\n",
              "      <td>Drama</td>\n",
              "      <td>2.0</td>\n",
              "    </tr>\n",
              "    <tr>\n",
              "      <th>1</th>\n",
              "      <td>Anthony Ge</td>\n",
              "      <td>10</td>\n",
              "      <td>Northville, MI</td>\n",
              "      <td>The Matrix</td>\n",
              "      <td>8.7</td>\n",
              "      <td>Action</td>\n",
              "      <td>2.0</td>\n",
              "    </tr>\n",
              "    <tr>\n",
              "      <th>2</th>\n",
              "      <td>Ian (Avi) Turok</td>\n",
              "      <td>11</td>\n",
              "      <td>Bronx, NY</td>\n",
              "      <td>The Incredibles</td>\n",
              "      <td>8.0</td>\n",
              "      <td>Animation</td>\n",
              "      <td>2.0</td>\n",
              "    </tr>\n",
              "    <tr>\n",
              "      <th>3</th>\n",
              "      <td>Ben Savel</td>\n",
              "      <td>10</td>\n",
              "      <td>New York, NY</td>\n",
              "      <td>Mission Impossible - Fallout</td>\n",
              "      <td>7.7</td>\n",
              "      <td>Action</td>\n",
              "      <td>2.0</td>\n",
              "    </tr>\n",
              "    <tr>\n",
              "      <th>4</th>\n",
              "      <td>Charlie Ahmad</td>\n",
              "      <td>9</td>\n",
              "      <td>New York, NY</td>\n",
              "      <td>Gladiator</td>\n",
              "      <td>8.5</td>\n",
              "      <td>Action</td>\n",
              "      <td>3.0</td>\n",
              "    </tr>\n",
              "    <tr>\n",
              "      <th>5</th>\n",
              "      <td>Charlie Tharas</td>\n",
              "      <td>9</td>\n",
              "      <td>New York, NY</td>\n",
              "      <td>Pulp Fiction</td>\n",
              "      <td>8.9</td>\n",
              "      <td>Comedy</td>\n",
              "      <td>3.0</td>\n",
              "    </tr>\n",
              "    <tr>\n",
              "      <th>6</th>\n",
              "      <td>Daniel Chuang</td>\n",
              "      <td>10</td>\n",
              "      <td>New York, NY</td>\n",
              "      <td>Inception</td>\n",
              "      <td>8.8</td>\n",
              "      <td>Action</td>\n",
              "      <td>3.0</td>\n",
              "    </tr>\n",
              "    <tr>\n",
              "      <th>7</th>\n",
              "      <td>Dylan Ong</td>\n",
              "      <td>9</td>\n",
              "      <td>Cupertino, CA</td>\n",
              "      <td>John Wick</td>\n",
              "      <td>7.4</td>\n",
              "      <td>Action</td>\n",
              "      <td>3.0</td>\n",
              "    </tr>\n",
              "    <tr>\n",
              "      <th>9</th>\n",
              "      <td>Tahseen Younus</td>\n",
              "      <td>11</td>\n",
              "      <td>Cranston, RI</td>\n",
              "      <td>Ferris Bueller's day off</td>\n",
              "      <td>7.8</td>\n",
              "      <td>Comdey</td>\n",
              "      <td>3.0</td>\n",
              "    </tr>\n",
              "    <tr>\n",
              "      <th>10</th>\n",
              "      <td>Daniel (Zeyang LI)</td>\n",
              "      <td>11</td>\n",
              "      <td>China</td>\n",
              "      <td>The lord of the rings: the return of the king</td>\n",
              "      <td>8.9</td>\n",
              "      <td>Adventure</td>\n",
              "      <td>2.0</td>\n",
              "    </tr>\n",
              "    <tr>\n",
              "      <th>12</th>\n",
              "      <td>Deven Huang</td>\n",
              "      <td>9</td>\n",
              "      <td>Bethany, CT</td>\n",
              "      <td>Thor: Ragnarok</td>\n",
              "      <td>7.9</td>\n",
              "      <td>Action</td>\n",
              "      <td>2.0</td>\n",
              "    </tr>\n",
              "    <tr>\n",
              "      <th>13</th>\n",
              "      <td>Wilson Ting</td>\n",
              "      <td>11</td>\n",
              "      <td>San Ramon, CA</td>\n",
              "      <td>Interstellar</td>\n",
              "      <td>8.6</td>\n",
              "      <td>Adventure</td>\n",
              "      <td>3.5</td>\n",
              "    </tr>\n",
              "    <tr>\n",
              "      <th>14</th>\n",
              "      <td>Nicola Paparella</td>\n",
              "      <td>11</td>\n",
              "      <td>Italy</td>\n",
              "      <td>2001: A space Odyssey</td>\n",
              "      <td>8.3</td>\n",
              "      <td>Sci-fi</td>\n",
              "      <td>4.0</td>\n",
              "    </tr>\n",
              "    <tr>\n",
              "      <th>15</th>\n",
              "      <td>Eric Zhao</td>\n",
              "      <td>10</td>\n",
              "      <td>Basking Ridge, NJ</td>\n",
              "      <td>Crazy Rich Asians</td>\n",
              "      <td>6.9</td>\n",
              "      <td>Romance</td>\n",
              "      <td>1.0</td>\n",
              "    </tr>\n",
              "    <tr>\n",
              "      <th>16</th>\n",
              "      <td>Eduardo Gutierrez</td>\n",
              "      <td>11</td>\n",
              "      <td>Managua, Nicaragua</td>\n",
              "      <td>Avengers: Endgame</td>\n",
              "      <td>8.4</td>\n",
              "      <td>Action</td>\n",
              "      <td>4.0</td>\n",
              "    </tr>\n",
              "    <tr>\n",
              "      <th>17</th>\n",
              "      <td>Arjun Khanna</td>\n",
              "      <td>9</td>\n",
              "      <td>Edison, New Jersey</td>\n",
              "      <td>Home Alone 2</td>\n",
              "      <td>7.6</td>\n",
              "      <td>Comedy</td>\n",
              "      <td>4.0</td>\n",
              "    </tr>\n",
              "    <tr>\n",
              "      <th>18</th>\n",
              "      <td>George Ubertalli</td>\n",
              "      <td>10</td>\n",
              "      <td>Boston, MA</td>\n",
              "      <td>Inception</td>\n",
              "      <td>8.8</td>\n",
              "      <td>Action</td>\n",
              "      <td>4.0</td>\n",
              "    </tr>\n",
              "    <tr>\n",
              "      <th>19</th>\n",
              "      <td>Joaquin Portugal</td>\n",
              "      <td>12</td>\n",
              "      <td>San Jose, CA</td>\n",
              "      <td>La la land</td>\n",
              "      <td>8.0</td>\n",
              "      <td>Fantasy</td>\n",
              "      <td>2.0</td>\n",
              "    </tr>\n",
              "    <tr>\n",
              "      <th>20</th>\n",
              "      <td>Michael Wein</td>\n",
              "      <td>10</td>\n",
              "      <td>Queens, NY</td>\n",
              "      <td>Avengers: Endgame</td>\n",
              "      <td>8.4</td>\n",
              "      <td>Action</td>\n",
              "      <td>2.0</td>\n",
              "    </tr>\n",
              "    <tr>\n",
              "      <th>21</th>\n",
              "      <td>Kishan Kumar</td>\n",
              "      <td>10</td>\n",
              "      <td>Long Island, NY</td>\n",
              "      <td>Elf</td>\n",
              "      <td>6.9</td>\n",
              "      <td>Comedy</td>\n",
              "      <td>3.0</td>\n",
              "    </tr>\n",
              "    <tr>\n",
              "      <th>23</th>\n",
              "      <td>Oliver Marker</td>\n",
              "      <td>11</td>\n",
              "      <td>Brooklyn, NY</td>\n",
              "      <td>Memento</td>\n",
              "      <td>8.4</td>\n",
              "      <td>Thriller</td>\n",
              "      <td>4.0</td>\n",
              "    </tr>\n",
              "    <tr>\n",
              "      <th>24</th>\n",
              "      <td>Oliver Toh</td>\n",
              "      <td>11</td>\n",
              "      <td>Queens, NY</td>\n",
              "      <td>Django Unchained</td>\n",
              "      <td>8.4</td>\n",
              "      <td>Drama</td>\n",
              "      <td>2.0</td>\n",
              "    </tr>\n",
              "    <tr>\n",
              "      <th>25</th>\n",
              "      <td>Riya Mittle</td>\n",
              "      <td>9</td>\n",
              "      <td>Long Island, NY</td>\n",
              "      <td>Harry Potter</td>\n",
              "      <td>8.1</td>\n",
              "      <td>Fantasy</td>\n",
              "      <td>3.0</td>\n",
              "    </tr>\n",
              "    <tr>\n",
              "      <th>26</th>\n",
              "      <td>Ryan. Pitasky</td>\n",
              "      <td>10</td>\n",
              "      <td>OH</td>\n",
              "      <td>The Matrix</td>\n",
              "      <td>8.7</td>\n",
              "      <td>Action</td>\n",
              "      <td>4.5</td>\n",
              "    </tr>\n",
              "    <tr>\n",
              "      <th>27</th>\n",
              "      <td>Zahra Petiwala</td>\n",
              "      <td>11</td>\n",
              "      <td>Kuwait</td>\n",
              "      <td>Inception</td>\n",
              "      <td>8.8</td>\n",
              "      <td>Thriller</td>\n",
              "      <td>4.0</td>\n",
              "    </tr>\n",
              "    <tr>\n",
              "      <th>28</th>\n",
              "      <td>Sophia Purow</td>\n",
              "      <td>11</td>\n",
              "      <td>Hollywood, FL</td>\n",
              "      <td>Home Alone</td>\n",
              "      <td>7.6</td>\n",
              "      <td>Comedy</td>\n",
              "      <td>2.0</td>\n",
              "    </tr>\n",
              "    <tr>\n",
              "      <th>29</th>\n",
              "      <td>Sahej Singh</td>\n",
              "      <td>10</td>\n",
              "      <td>Shrewsbury, MA</td>\n",
              "      <td>Iron Man (2008)</td>\n",
              "      <td>7.9</td>\n",
              "      <td>Action</td>\n",
              "      <td>3.0</td>\n",
              "    </tr>\n",
              "  </tbody>\n",
              "</table>\n",
              "</div>"
            ],
            "text/plain": [
              "                    Name  Grade  ...      Genre Coding experience\n",
              "0   Alexandra Montgomery      9  ...      Drama               2.0\n",
              "1             Anthony Ge     10  ...     Action               2.0\n",
              "2        Ian (Avi) Turok     11  ...  Animation               2.0\n",
              "3              Ben Savel     10  ...     Action               2.0\n",
              "4          Charlie Ahmad      9  ...     Action               3.0\n",
              "5         Charlie Tharas      9  ...     Comedy               3.0\n",
              "6          Daniel Chuang     10  ...     Action               3.0\n",
              "7              Dylan Ong      9  ...     Action               3.0\n",
              "9         Tahseen Younus     11  ...     Comdey               3.0\n",
              "10    Daniel (Zeyang LI)     11  ...  Adventure               2.0\n",
              "12           Deven Huang      9  ...     Action               2.0\n",
              "13           Wilson Ting     11  ...  Adventure               3.5\n",
              "14      Nicola Paparella     11  ...     Sci-fi               4.0\n",
              "15             Eric Zhao     10  ...    Romance               1.0\n",
              "16     Eduardo Gutierrez     11  ...     Action               4.0\n",
              "17          Arjun Khanna      9  ...     Comedy               4.0\n",
              "18      George Ubertalli     10  ...     Action               4.0\n",
              "19      Joaquin Portugal     12  ...    Fantasy               2.0\n",
              "20          Michael Wein     10  ...     Action               2.0\n",
              "21          Kishan Kumar     10  ...     Comedy               3.0\n",
              "23         Oliver Marker     11  ...   Thriller               4.0\n",
              "24            Oliver Toh     11  ...      Drama               2.0\n",
              "25           Riya Mittle      9  ...    Fantasy               3.0\n",
              "26         Ryan. Pitasky     10  ...     Action               4.5\n",
              "27        Zahra Petiwala     11  ...   Thriller               4.0\n",
              "28          Sophia Purow     11  ...     Comedy               2.0\n",
              "29           Sahej Singh     10  ...     Action               3.0\n",
              "\n",
              "[27 rows x 7 columns]"
            ]
          },
          "metadata": {
            "tags": []
          },
          "execution_count": 6
        }
      ]
    },
    {
      "cell_type": "code",
      "metadata": {
        "colab_type": "code",
        "id": "X7b_tjEknqXy",
        "colab": {}
      },
      "source": [
        "names = df['Movie'].values\n",
        "score = df['IMDB Score'].values"
      ],
      "execution_count": 7,
      "outputs": []
    },
    {
      "cell_type": "markdown",
      "metadata": {
        "id": "xkstl8sJK5jX",
        "colab_type": "text"
      },
      "source": [
        "### Plot the IMDB scores for all the movies\n",
        "- Use the [plt.scatter() function](https://matplotlib.org/3.2.1/api/_as_gen/matplotlib.pyplot.scatter.html)\n",
        "- x-axis indicates the name of the movies, y-axis shows the score.\n",
        "- do not forget to put on the labels for the axes."
      ]
    },
    {
      "cell_type": "code",
      "metadata": {
        "id": "EebaW8RPK5jY",
        "colab_type": "code",
        "colab": {
          "base_uri": "https://localhost:8080/",
          "height": 488
        },
        "outputId": "bdb8ccee-a2b8-4cb9-a592-3ff0f524422e"
      },
      "source": [
        "plt.scatter(names, score)\n",
        "plt.xticks(names, rotation = 90)\n",
        "plt.xlabel('Name of the movie')\n",
        "plt.ylabel('IMDB Score');"
      ],
      "execution_count": 17,
      "outputs": [
        {
          "output_type": "display_data",
          "data": {
            "image/png": "[encoded data removed]",
            "text/plain": [
              "<Figure size 432x288 with 1 Axes>"
            ]
          },
          "metadata": {
            "tags": [],
            "needs_background": "light"
          }
        }
      ]
    },
    {
      "cell_type": "markdown",
      "metadata": {
        "id": "yIN8mDZ0K5jb",
        "colab_type": "text"
      },
      "source": [
        "### Plot the number of movies for each genre\n",
        "- Use the [plt.bar() function](https://matplotlib.org/3.2.1/api/_as_gen/matplotlib.pyplot.bar.html)\n",
        "- x-axis indicates the genre, y-axis shows the count for each genre.\n",
        "- do not forget to put on the labels for the axes."
      ]
    },
    {
      "cell_type": "code",
      "metadata": {
        "id": "WYpmipj4K5jb",
        "colab_type": "code",
        "colab": {
          "base_uri": "https://localhost:8080/",
          "height": 339
        },
        "outputId": "1a4324ea-e3e6-43be-ce40-319d94c8369b"
      },
      "source": [
        "# To-do\n",
        "\n",
        "genre = df['Genre'].values\n",
        "\n",
        "modes = np.unique(genre)\n",
        "count = []\n",
        "for m in modes:\n",
        "  count.append(np.sum(genre==m))\n",
        "  \n",
        "plt.bar(modes, count)\n",
        "plt.xlabel('Genre')\n",
        "plt.xticks(modes, rotation = 75)\n",
        "plt.ylabel('Count')"
      ],
      "execution_count": 11,
      "outputs": [
        {
          "output_type": "execute_result",
          "data": {
            "text/plain": [
              "Text(0, 0.5, 'Count')"
            ]
          },
          "metadata": {
            "tags": []
          },
          "execution_count": 11
        },
        {
          "output_type": "display_data",
          "data": {
            "image/png": "[encoded data removed]",
            "text/plain": [
              "<Figure size 432x288 with 1 Axes>"
            ]
          },
          "metadata": {
            "tags": [],
            "needs_background": "light"
          }
        }
      ]
    },
    {
      "cell_type": "markdown",
      "metadata": {
        "id": "VIanecbER2ra",
        "colab_type": "text"
      },
      "source": [
        "### Plot the histogram for the IMDB score\n",
        "- Use [plt.hist() function](https://matplotlib.org/api/_as_gen/matplotlib.pyplot.hist.html)\n",
        "- x-axis indicates the score interval, y-axis shows the number of movies within each score interval\n",
        "- make the interval length 0.5\n",
        "- do not forget to put on the labels for the axes."
      ]
    },
    {
      "cell_type": "code",
      "metadata": {
        "id": "J0WLGlpQS6vg",
        "colab_type": "code",
        "colab": {
          "base_uri": "https://localhost:8080/",
          "height": 296
        },
        "outputId": "7b32147d-dee0-405f-a5b0-78e79df7cf2f"
      },
      "source": [
        "# To-do\n",
        "\n",
        "min_score=np.min(score)\n",
        "max_score=np.max(score)\n",
        "\n",
        "bin_range=np.arange(min_score - 0.5,max_score + 0.5, 0.1)\n",
        "\n",
        "plt.hist(score,bin_range,ec='black')\n",
        "plt.xlabel('Score')\n",
        "plt.ylabel('Number of Movies')"
      ],
      "execution_count": 16,
      "outputs": [
        {
          "output_type": "execute_result",
          "data": {
            "text/plain": [
              "Text(0, 0.5, 'Number of Movies')"
            ]
          },
          "metadata": {
            "tags": []
          },
          "execution_count": 16
        },
        {
          "output_type": "display_data",
          "data": {
            "image/png": "[encoded data removed]",
            "text/plain": [
              "<Figure size 432x288 with 1 Axes>"
            ]
          },
          "metadata": {
            "tags": [],
            "needs_background": "light"
          }
        }
      ]
    },
    {
      "cell_type": "markdown",
      "metadata": {
        "id": "H4J_b57sOg2Z",
        "colab_type": "text"
      },
      "source": [
        "### Calculate the mean and variance of the IMDB score of the movies\n"
      ]
    },
    {
      "cell_type": "code",
      "metadata": {
        "id": "CY-EKqoUOfP6",
        "colab_type": "code",
        "colab": {}
      },
      "source": [
        "# To-do\n",
        "\n",
        "mean_score=np.mean(score)\n",
        "var_score=np.var(score)\n",
        "print(mean_score)\n",
        "print(var_score)"
      ],
      "execution_count": null,
      "outputs": []
    }
  ]
}