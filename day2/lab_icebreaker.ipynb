{
  "nbformat": 4,
  "nbformat_minor": 0,
  "metadata": {
    "colab": {
      "name": "IceBreakerDemo.ipynb",
      "provenance": []
    },
    "kernelspec": {
      "display_name": "Python 3",
      "language": "python",
      "name": "python3"
    },
    "language_info": {
      "codemirror_mode": {
        "name": "ipython",
        "version": 3
      },
      "file_extension": ".py",
      "mimetype": "text/x-python",
      "name": "python",
      "nbconvert_exporter": "python",
      "pygments_lexer": "ipython3",
      "version": "3.7.2"
    }
  },
  "cells": [
    {
      "cell_type": "code",
      "metadata": {
        "colab_type": "code",
        "id": "zXL3u543mvYN",
        "colab": {}
      },
      "source": [
        "import pandas as pd\n",
        "import numpy as np\n",
        "import matplotlib\n",
        "import matplotlib.pyplot as plt"
      ],
      "execution_count": null,
      "outputs": []
    },
    {
      "cell_type": "code",
      "metadata": {
        "colab_type": "code",
        "id": "W-Tj_d6nnWqw",
        "colab": {}
      },
      "source": [
        "#dataframe - df\n",
        "df = pd.read_csv('https://raw.githubusercontent.com/huaijiangzhu/SummerML/master/day2/Icebreaking_dataset.csv')"
      ],
      "execution_count": null,
      "outputs": []
    },
    {
      "cell_type": "code",
      "metadata": {
        "colab_type": "code",
        "id": "meCMHRWTnfZW",
        "colab": {
          "base_uri": "https://localhost:8080/",
          "height": 343
        },
        "outputId": "d8da936f-cf54-4e79-9776-e4e85b616e54"
      },
      "source": [
        "df.head(10)"
      ],
      "execution_count": null,
      "outputs": [
        {
          "output_type": "execute_result",
          "data": {
            "text/html": [
              "<div>\n",
              "<style scoped>\n",
              "    .dataframe tbody tr th:only-of-type {\n",
              "        vertical-align: middle;\n",
              "    }\n",
              "\n",
              "    .dataframe tbody tr th {\n",
              "        vertical-align: top;\n",
              "    }\n",
              "\n",
              "    .dataframe thead th {\n",
              "        text-align: right;\n",
              "    }\n",
              "</style>\n",
              "<table border=\"1\" class=\"dataframe\">\n",
              "  <thead>\n",
              "    <tr style=\"text-align: right;\">\n",
              "      <th></th>\n",
              "      <th>Name</th>\n",
              "      <th>Grade</th>\n",
              "      <th>City</th>\n",
              "      <th>Movie</th>\n",
              "      <th>IMDB Score</th>\n",
              "      <th>Genre</th>\n",
              "      <th>Coding experience</th>\n",
              "    </tr>\n",
              "  </thead>\n",
              "  <tbody>\n",
              "    <tr>\n",
              "      <th>0</th>\n",
              "      <td>Alexandra Montgomery</td>\n",
              "      <td>9.0</td>\n",
              "      <td>Anaheim Hills, CA</td>\n",
              "      <td>A Beautiful Day in the Neighborhood</td>\n",
              "      <td>7.3</td>\n",
              "      <td>Drama</td>\n",
              "      <td>2</td>\n",
              "    </tr>\n",
              "    <tr>\n",
              "      <th>1</th>\n",
              "      <td>Anthony Ge</td>\n",
              "      <td>10.0</td>\n",
              "      <td>Northville, MI</td>\n",
              "      <td>The Matrix</td>\n",
              "      <td>8.7</td>\n",
              "      <td>Action, Sci Fi</td>\n",
              "      <td>2</td>\n",
              "    </tr>\n",
              "    <tr>\n",
              "      <th>2</th>\n",
              "      <td>Ian (Avi) Turok</td>\n",
              "      <td>11.0</td>\n",
              "      <td>Bronx, NY</td>\n",
              "      <td>The Incredibles</td>\n",
              "      <td>8.0</td>\n",
              "      <td>Animation, Action, Adventure</td>\n",
              "      <td>2</td>\n",
              "    </tr>\n",
              "    <tr>\n",
              "      <th>3</th>\n",
              "      <td>Ben Savel</td>\n",
              "      <td>10.0</td>\n",
              "      <td>New York, NY</td>\n",
              "      <td>Mission Impossible - Fallout</td>\n",
              "      <td>7.7</td>\n",
              "      <td>Action</td>\n",
              "      <td>2</td>\n",
              "    </tr>\n",
              "    <tr>\n",
              "      <th>4</th>\n",
              "      <td>Charlie Ahmad</td>\n",
              "      <td>9.0</td>\n",
              "      <td>New York, NY</td>\n",
              "      <td>Gladiator</td>\n",
              "      <td>8.5</td>\n",
              "      <td>Action</td>\n",
              "      <td>3</td>\n",
              "    </tr>\n",
              "    <tr>\n",
              "      <th>5</th>\n",
              "      <td>Charlie Tharas</td>\n",
              "      <td>9.0</td>\n",
              "      <td>New York, NY</td>\n",
              "      <td>Pulp Fiction</td>\n",
              "      <td>8.9</td>\n",
              "      <td>Comedy, Crime</td>\n",
              "      <td>3</td>\n",
              "    </tr>\n",
              "    <tr>\n",
              "      <th>6</th>\n",
              "      <td>Daniel Chuang</td>\n",
              "      <td>10.0</td>\n",
              "      <td>New York, NY</td>\n",
              "      <td>Inception</td>\n",
              "      <td>8.8</td>\n",
              "      <td>Action</td>\n",
              "      <td>3</td>\n",
              "    </tr>\n",
              "    <tr>\n",
              "      <th>7</th>\n",
              "      <td>Dylan Ong</td>\n",
              "      <td>9.0</td>\n",
              "      <td>Cupertino, CA</td>\n",
              "      <td>John Wick</td>\n",
              "      <td>7.4</td>\n",
              "      <td>Action</td>\n",
              "      <td>3</td>\n",
              "    </tr>\n",
              "    <tr>\n",
              "      <th>8</th>\n",
              "      <td>Tony Liu</td>\n",
              "      <td>11.0</td>\n",
              "      <td>Bellevue WA</td>\n",
              "      <td>NaN</td>\n",
              "      <td>NaN</td>\n",
              "      <td>NaN</td>\n",
              "      <td>2.5</td>\n",
              "    </tr>\n",
              "    <tr>\n",
              "      <th>9</th>\n",
              "      <td>Tahseen Younus</td>\n",
              "      <td>11.0</td>\n",
              "      <td>Cranston, RI</td>\n",
              "      <td>Ferris Bueller's day off</td>\n",
              "      <td>7.8</td>\n",
              "      <td>comdey</td>\n",
              "      <td>3</td>\n",
              "    </tr>\n",
              "  </tbody>\n",
              "</table>\n",
              "</div>"
            ],
            "text/plain": [
              "                   Name  Grade  ...                         Genre Coding experience\n",
              "0  Alexandra Montgomery    9.0  ...                         Drama                 2\n",
              "1            Anthony Ge   10.0  ...                Action, Sci Fi                 2\n",
              "2       Ian (Avi) Turok   11.0  ...  Animation, Action, Adventure                 2\n",
              "3             Ben Savel   10.0  ...                        Action                 2\n",
              "4         Charlie Ahmad    9.0  ...                        Action                 3\n",
              "5        Charlie Tharas    9.0  ...                 Comedy, Crime                 3\n",
              "6         Daniel Chuang   10.0  ...                        Action                 3\n",
              "7             Dylan Ong    9.0  ...                        Action                 3\n",
              "8             Tony Liu    11.0  ...                           NaN               2.5\n",
              "9        Tahseen Younus   11.0  ...                        comdey                 3\n",
              "\n",
              "[10 rows x 7 columns]"
            ]
          },
          "metadata": {
            "tags": []
          },
          "execution_count": 3
        }
      ]
    },
    {
      "cell_type": "code",
      "metadata": {
        "colab_type": "code",
        "id": "X7b_tjEknqXy",
        "colab": {}
      },
      "source": [
        "names = df['Movie'].values\n",
        "score = df['IMDB Score'].values"
      ],
      "execution_count": null,
      "outputs": []
    },
    {
      "cell_type": "markdown",
      "metadata": {
        "id": "xkstl8sJK5jX",
        "colab_type": "text"
      },
      "source": [
        "### Plot the IMDB scores for all the movies\n",
        "- Use the [plt.scatter() function](https://matplotlib.org/3.2.1/api/_as_gen/matplotlib.pyplot.scatter.html)\n",
        "- x-axis indicates the name of the movies, y-axis shows the score.\n",
        "- do not forget to put on the labels for the axes."
      ]
    },
    {
      "cell_type": "code",
      "metadata": {
        "id": "EebaW8RPK5jY",
        "colab_type": "code",
        "colab": {}
      },
      "source": [
        "# To-do"
      ],
      "execution_count": null,
      "outputs": []
    },
    {
      "cell_type": "markdown",
      "metadata": {
        "id": "yIN8mDZ0K5jb",
        "colab_type": "text"
      },
      "source": [
        "### Plot the number of movies for each genre\n",
        "- Use the [plt.bar() function](https://matplotlib.org/3.2.1/api/_as_gen/matplotlib.pyplot.bar.html)\n",
        "- x-axis indicates the genre, y-axis shows the count for each genre.\n",
        "- do not forget to put on the labels for the axes."
      ]
    },
    {
      "cell_type": "code",
      "metadata": {
        "id": "WYpmipj4K5jb",
        "colab_type": "code",
        "colab": {}
      },
      "source": [
        "# To-do"
      ],
      "execution_count": null,
      "outputs": []
    },
    {
      "cell_type": "markdown",
      "metadata": {
        "id": "H4J_b57sOg2Z",
        "colab_type": "text"
      },
      "source": [
        "### Calculate the mean and variance of the IMDB score, find a proper way to visualize the results.\n"
      ]
    },
    {
      "cell_type": "code",
      "metadata": {
        "id": "CY-EKqoUOfP6",
        "colab_type": "code",
        "colab": {}
      },
      "source": [
        "# To-do"
      ],
      "execution_count": null,
      "outputs": []
    }
  ]
}