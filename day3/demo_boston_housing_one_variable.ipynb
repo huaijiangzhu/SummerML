{
  "nbformat": 4,
  "nbformat_minor": 0,
  "metadata": {
    "colab": {
      "name": "Boston_Housing_One_Variable.ipynb",
      "provenance": [],
      "collapsed_sections": []
    },
    "kernelspec": {
      "display_name": "Python 3",
      "language": "python",
      "name": "python3"
    },
    "language_info": {
      "codemirror_mode": {
        "name": "ipython",
        "version": 3
      },
      "file_extension": ".py",
      "mimetype": "text/x-python",
      "name": "python",
      "nbconvert_exporter": "python",
      "pygments_lexer": "ipython3",
      "version": "3.7.0"
    }
  },
  "cells": [
    {
      "cell_type": "code",
      "metadata": {
        "colab_type": "code",
        "id": "7ySvcVJHBHvG",
        "colab": {
          "base_uri": "https://localhost:8080/",
          "height": 54
        },
        "outputId": "1c149c72-d403-4afa-f3c0-3d2c17703821"
      },
      "source": [
        "import pandas as pd\n",
        "import numpy as np\n",
        "\n",
        "names = ['CRIM','ZN','INDUS','CHAS','NOX','RM','AGE','DIS','RAD','TAX','PTRATIO','B','LSTAT','PRICE']\n",
        "\n",
        "df = pd.read_csv('https://archive.ics.uci.edu/ml/machine-learning-databases/housing/housing.data',\n",
        "                header=None, names=names , delim_whitespace = True, na_values='?')\n",
        "\n",
        "df.head(5)\n",
        "\n",
        "\"\"\"\n",
        "Attribute Information:\n",
        "    1.  CRIM      per capita crime rate by town\n",
        "    2.  ZN        proportion of residential land zoned for lots over \n",
        "                  25,000 sq.ft.\n",
        "    3.  INDUS     proportion of non-retail business acres per town\n",
        "    4.  CHAS      Charles River dummy variable (= 1 if tract bounds \n",
        "                  river; 0 otherwise)\n",
        "    5.  NOX       nitric oxides concentration (parts per 10 million)\n",
        "    6.  RM        average number of rooms per dwelling\n",
        "    7.  AGE       proportion of owner-occupied units built prior to 1940\n",
        "    8.  DIS       weighted distances to five Boston employment centres\n",
        "    9.  RAD       index of accessibility to radial highways\n",
        "    10. TAX       full-value property-tax rate per $10,000\n",
        "    11. PTRATIO   pupil-teacher ratio by town\n",
        "    12. B         1000(Bk - 0.63)^2 where Bk is the proportion of blocks by town\n",
        "    13. LSTAT     % lower status of the population\n",
        "    14. MEDV      Median value of owner-occupied homes in $1000's\n",
        "\"\"\"\n",
        "\n"
      ],
      "execution_count": null,
      "outputs": [
        {
          "output_type": "execute_result",
          "data": {
            "text/plain": [
              "\"\\nAttribute Information:\\n    1.  CRIM      per capita crime rate by town\\n    2.  ZN        proportion of residential land zoned for lots over \\n                  25,000 sq.ft.\\n    3.  INDUS     proportion of non-retail business acres per town\\n    4.  CHAS      Charles River dummy variable (= 1 if tract bounds \\n                  river; 0 otherwise)\\n    5.  NOX       nitric oxides concentration (parts per 10 million)\\n    6.  RM        average number of rooms per dwelling\\n    7.  AGE       proportion of owner-occupied units built prior to 1940\\n    8.  DIS       weighted distances to five Boston employment centres\\n    9.  RAD       index of accessibility to radial highways\\n    10. TAX       full-value property-tax rate per $10,000\\n    11. PTRATIO   pupil-teacher ratio by town\\n    12. B         1000(Bk - 0.63)^2 where Bk is the proportion of blocks by town\\n    13. LSTAT     % lower status of the population\\n    14. MEDV      Median value of owner-occupied homes in $1000's\\n\""
            ]
          },
          "metadata": {
            "tags": []
          },
          "execution_count": 1
        }
      ]
    },
    {
      "cell_type": "code",
      "metadata": {
        "colab_type": "code",
        "id": "jxpcppEWDj6c",
        "colab": {
          "base_uri": "https://localhost:8080/",
          "height": 34
        },
        "outputId": "b33237b7-cf5e-46ae-fec0-83b55e7d9a97"
      },
      "source": [
        "print(df.shape)"
      ],
      "execution_count": null,
      "outputs": [
        {
          "output_type": "stream",
          "text": [
            "(506, 14)\n"
          ],
          "name": "stdout"
        }
      ]
    },
    {
      "cell_type": "code",
      "metadata": {
        "colab_type": "code",
        "id": "DnClZNwpEms6",
        "colab": {}
      },
      "source": [
        "y = df['PRICE'].values\n",
        "x = df['RM'].values"
      ],
      "execution_count": null,
      "outputs": []
    },
    {
      "cell_type": "code",
      "metadata": {
        "colab_type": "code",
        "id": "eb1dMMhXFUqx",
        "colab": {
          "base_uri": "https://localhost:8080/",
          "height": 279
        },
        "outputId": "f710418f-74c8-4fb3-b560-1bcc4e515994"
      },
      "source": [
        "import matplotlib.pyplot as plt\n",
        "\n",
        "plt.plot(x,y,'o')\n",
        "plt.xlabel('Average Number of Rooms')\n",
        "plt.ylabel('Price')\n",
        "plt.grid()"
      ],
      "execution_count": null,
      "outputs": [
        {
          "output_type": "display_data",
          "data": {
            "image/png": "[encoded data removed]",
            "text/plain": [
              "<Figure size 432x288 with 1 Axes>"
            ]
          },
          "metadata": {
            "tags": [],
            "needs_background": "light"
          }
        }
      ]
    },
    {
      "cell_type": "markdown",
      "metadata": {
        "colab_type": "text",
        "id": "K-KNyI8bQARE"
      },
      "source": [
        "## Calculate the Least Square Solution"
      ]
    },
    {
      "cell_type": "code",
      "metadata": {
        "colab_type": "code",
        "id": "WHDMRQSq7RtK",
        "colab": {}
      },
      "source": [
        "## Use np.mean to compute mean, np.var to compute the variance\n",
        "\n"
      ],
      "execution_count": null,
      "outputs": []
    },
    {
      "cell_type": "markdown",
      "metadata": {
        "colab_type": "text",
        "id": "ZU-O-NcsQIQT"
      },
      "source": [
        "### Use sklearn to perform the linear regression"
      ]
    },
    {
      "cell_type": "code",
      "metadata": {
        "colab_type": "code",
        "id": "y1R5Yhyn7dez",
        "colab": {
          "base_uri": "https://localhost:8080/",
          "height": 281
        },
        "outputId": "86d5cb62-3f9f-4083-ba4d-8cf9fd6703bd"
      },
      "source": [
        "## Results in the same line as the previous section\n",
        "from sklearn import linear_model\n",
        "\n",
        "regr = linear_model.LinearRegression()\n",
        "regr.fit(x.reshape(-1,1),y.reshape(-1,1))\n",
        "\n",
        "y_new = regr.predict(x_new.reshape(-1,1))\n",
        "plt.figure()\n",
        "plt.plot(x_new,y_new, c='red', linewidth = 3)\n",
        "plt.scatter(x,y)\n",
        "plt.grid()\n",
        "plt.title('Sklearn is your new best friend!');"
      ],
      "execution_count": null,
      "outputs": [
        {
          "output_type": "display_data",
          "data": {
            "image/png": "[encoded data removed]",
            "text/plain": [
              "<Figure size 432x288 with 1 Axes>"
            ]
          },
          "metadata": {
            "tags": [],
            "needs_background": "light"
          }
        }
      ]
    },
    {
      "cell_type": "code",
      "metadata": {
        "colab_type": "code",
        "id": "5fN5dJ_b8sY7",
        "colab": {}
      },
      "source": [
        ""
      ],
      "execution_count": null,
      "outputs": []
    }
  ]
}