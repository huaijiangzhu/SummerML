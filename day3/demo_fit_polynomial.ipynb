{
 "cells": [
  {
   "cell_type": "markdown",
   "metadata": {
    "colab_type": "text",
    "id": "view-in-github"
   },
   "source": [
    "<a href=\"https://colab.research.google.com/github/nikopj/SummerML/blob/master/Day3/Lab_Fit_Polynomial.ipynb\" target=\"_parent\"><img src=\"https://colab.research.google.com/assets/colab-badge.svg\" alt=\"Open In Colab\"/></a>"
   ]
  },
  {
   "cell_type": "markdown",
   "metadata": {
    "colab_type": "text",
    "id": "N2NAXNEpSTcj"
   },
   "source": [
    "# Fit a Polynomial\n",
    "\n",
    "- You are given the data set below with x and y values.\n",
    "\n",
    "- Try to fit the data using a polynomial with a certain degree.\n",
    "\n",
    "- Calculate mean square error between the sample y and your predicted y.\n",
    "\n",
    "- Try different polynomial degree and see if you can improve the mse.\n",
    "\n",
    "- Plot your polynomial over the data points"
   ]
  },
  {
   "cell_type": "code",
   "execution_count": 1,
   "metadata": {},
   "outputs": [],
   "source": [
    "import pandas as pd\n",
    "import matplotlib\n",
    "import matplotlib.pyplot as plt"
   ]
  },
  {
   "cell_type": "code",
   "execution_count": 3,
   "metadata": {
    "colab": {},
    "colab_type": "code",
    "id": "2ny81cLMSE_M"
   },
   "outputs": [
    {
     "data": {
      "text/plain": [
       "[<matplotlib.lines.Line2D at 0x1ea006ff648>]"
      ]
     },
     "execution_count": 3,
     "metadata": {},
     "output_type": "execute_result"
    },
    {
     "data": {
      "image/png": "[encoded data removed]",
      "text/plain": [
       "<Figure size 432x288 with 1 Axes>"
      ]
     },
     "metadata": {
      "needs_background": "light"
     },
     "output_type": "display_data"
    }
   ],
   "source": [
    "url = 'polyfit_data.csv'\n",
    "df = pd.read_csv(url)\n",
    "x = df['x'].values.reshape(-1,1)\n",
    "y = df['y'].values.reshape(-1,1)\n",
    "plt.plot(x,y,'o')"
   ]
  },
  {
   "cell_type": "code",
   "execution_count": 4,
   "metadata": {
    "colab": {},
    "colab_type": "code",
    "id": "XwuideM0SQyo"
   },
   "outputs": [
    {
     "name": "stdout",
     "output_type": "stream",
     "text": [
      "Polynomial degree = 4     mse = 0.031675887665315455\n"
     ]
    },
    {
     "data": {
      "text/plain": [
       "[<matplotlib.lines.Line2D at 0x1ea0076da48>]"
      ]
     },
     "execution_count": 4,
     "metadata": {},
     "output_type": "execute_result"
    },
    {
     "data": {
      "image/png": "[encoded data removed]",
      "text/plain": [
       "<Figure size 432x288 with 1 Axes>"
      ]
     },
     "metadata": {
      "needs_background": "light"
     },
     "output_type": "display_data"
    }
   ],
   "source": [
    "#### TO DO ########################\n",
    "\n",
    "# degree = ...\n",
    "# model = ...\n",
    "\n",
    "# yhat = ...\n",
    "# mse = ...\n",
    "# print('Polynomial degree = {}    '.format(degree), 'mse = {}'.format(mse))\n",
    "\n",
    "\n",
    "## Plot your polynomial ###############\n",
    "# xline =\n",
    "# yline = \n",
    "# plt.plot(xline,yline)\n",
    "\n",
    "import numpy as np\n",
    "\n",
    "degree = 4\n",
    "weights = np.polyfit(x.reshape(-1,), y.reshape(-1,), degree)\n",
    "\n",
    "model = np.poly1d(weights)\n",
    "\n",
    "yhat = model(x)\n",
    "\n",
    "mse = np.mean((y-yhat)**2)\n",
    "print('Polynomial degree = {}    '.format(degree), 'mse = {}'.format(mse))\n",
    "\n",
    "xline = np.linspace(np.min(x), np.max(x), 100)\n",
    "yline = model(xline)\n",
    "plt.plot(xline,yline,'b')\n",
    "plt.plot(x,y,'o')"
   ]
  },
  {
   "cell_type": "code",
   "execution_count": null,
   "metadata": {},
   "outputs": [],
   "source": []
  }
 ],
 "metadata": {
  "colab": {
   "collapsed_sections": [],
   "include_colab_link": true,
   "name": "Lab_Fit_Polynomial.ipynb",
   "provenance": [],
   "version": "0.3.2"
  },
  "kernelspec": {
   "display_name": "Python 3",
   "language": "python",
   "name": "python3"
  },
  "language_info": {
   "codemirror_mode": {
    "name": "ipython",
    "version": 3
   },
   "file_extension": ".py",
   "mimetype": "text/x-python",
   "name": "python",
   "nbconvert_exporter": "python",
   "pygments_lexer": "ipython3",
   "version": "3.7.4"
  }
 },
 "nbformat": 4,
 "nbformat_minor": 1
}
