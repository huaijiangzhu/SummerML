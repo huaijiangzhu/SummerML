{
  "nbformat": 4,
  "nbformat_minor": 0,
  "metadata": {
    "colab": {
      "name": "Day2_Student.ipynb",
      "provenance": [],
      "collapsed_sections": [
        "vKrhN7KoDRi1"
      ]
    },
    "kernelspec": {
      "display_name": "Python 3",
      "language": "python",
      "name": "python3"
    },
    "language_info": {
      "codemirror_mode": {
        "name": "ipython",
        "version": 3
      },
      "file_extension": ".py",
      "mimetype": "text/x-python",
      "name": "python",
      "nbconvert_exporter": "python",
      "pygments_lexer": "ipython3",
      "version": "3.7.0"
    }
  },
  "cells": [
    {
      "cell_type": "markdown",
      "metadata": {
        "colab_type": "text",
        "id": "w78DOASLWcCD"
      },
      "source": [
        "# Demo: Multivariable Regression on Boston Housing Data"
      ]
    },
    {
      "cell_type": "markdown",
      "metadata": {
        "colab_type": "text",
        "id": "JRrZ5gJhX2Hk"
      },
      "source": [
        "Code that should already have come before...\n",
        "\n",
        "Let's read in the data and see what it looks like..."
      ]
    },
    {
      "cell_type": "code",
      "metadata": {
        "colab_type": "code",
        "id": "iDw4tjflX1C1",
        "colab": {
          "base_uri": "https://localhost:8080/",
          "height": 54
        },
        "outputId": "b88598eb-d16e-49f2-9f27-5321b3b438a2"
      },
      "source": [
        "import pandas as pd\n",
        "import numpy as np\n",
        "\n",
        "names =['CRIM', 'ZN', 'INDUS', 'CHAS', 'NOX', 'RM', 'AGE',  'DIS', 'RAD', 'TAX', 'PTRATIO', 'B', 'LSTAT', 'PRICE']\n",
        "\n",
        "df = pd.read_csv('https://archive.ics.uci.edu/ml/machine-learning-databases/housing/housing.data', \n",
        "                 header=None, delim_whitespace=True, names=names, na_values='?')\n",
        "\n",
        "\"\"\"\n",
        "Attribute Information:\n",
        "    1.  CRIM      per capita crime rate by town\n",
        "    2.  ZN        proportion of residential land zoned for lots over \n",
        "                  25,000 sq.ft.\n",
        "    3.  INDUS     proportion of non-retail business acres per town\n",
        "    4.  CHAS      Charles River dummy variable (= 1 if tract bounds \n",
        "                  river; 0 otherwise)\n",
        "    5.  NOX       nitric oxides concentration (parts per 10 million)\n",
        "    6.  RM        average number of rooms per dwelling\n",
        "    7.  AGE       proportion of owner-occupied units built prior to 1940\n",
        "    8.  DIS       weighted distances to five Boston employment centres\n",
        "    9.  RAD       index of accessibility to radial highways\n",
        "    10. TAX       full-value property-tax rate per $10,000\n",
        "    11. PTRATIO   pupil-teacher ratio by town\n",
        "    12. B         1000(Bk - 0.63)^2 where Bk is the proportion of blocks by town\n",
        "    13. LSTAT     % lower status of the population\n",
        "    14. MEDV      Median value of owner-occupied homes in $1000's\n",
        "\"\"\""
      ],
      "execution_count": 1,
      "outputs": [
        {
          "output_type": "execute_result",
          "data": {
            "text/plain": [
              "\"\\nAttribute Information:\\n    1.  CRIM      per capita crime rate by town\\n    2.  ZN        proportion of residential land zoned for lots over \\n                  25,000 sq.ft.\\n    3.  INDUS     proportion of non-retail business acres per town\\n    4.  CHAS      Charles River dummy variable (= 1 if tract bounds \\n                  river; 0 otherwise)\\n    5.  NOX       nitric oxides concentration (parts per 10 million)\\n    6.  RM        average number of rooms per dwelling\\n    7.  AGE       proportion of owner-occupied units built prior to 1940\\n    8.  DIS       weighted distances to five Boston employment centres\\n    9.  RAD       index of accessibility to radial highways\\n    10. TAX       full-value property-tax rate per $10,000\\n    11. PTRATIO   pupil-teacher ratio by town\\n    12. B         1000(Bk - 0.63)^2 where Bk is the proportion of blocks by town\\n    13. LSTAT     % lower status of the population\\n    14. MEDV      Median value of owner-occupied homes in $1000's\\n\""
            ]
          },
          "metadata": {
            "tags": []
          },
          "execution_count": 1
        }
      ]
    },
    {
      "cell_type": "markdown",
      "metadata": {
        "colab_type": "text",
        "id": "3_jtITf0KLkf"
      },
      "source": [
        "## Forming the Design Matrix\n",
        "\n",
        "We want to put our features into feature vectors (stacked into a design matrix). Here we check the difference between the numpy and pandas datatype, and see the importance of using ```df['feature'].values``` to get a numpy array returned."
      ]
    },
    {
      "cell_type": "code",
      "metadata": {
        "colab_type": "code",
        "id": "LTKzw2raPlZj",
        "colab": {
          "base_uri": "https://localhost:8080/",
          "height": 51
        },
        "outputId": "7c45ede8-ed0d-4387-b4e9-9572896e4ae7"
      },
      "source": [
        "print(df.columns.to_list())\n",
        "features=df.columns.to_list()\n",
        "features.remove('PRICE')\n",
        "print(features)"
      ],
      "execution_count": 2,
      "outputs": [
        {
          "output_type": "stream",
          "text": [
            "['CRIM', 'ZN', 'INDUS', 'CHAS', 'NOX', 'RM', 'AGE', 'DIS', 'RAD', 'TAX', 'PTRATIO', 'B', 'LSTAT', 'PRICE']\n",
            "['CRIM', 'ZN', 'INDUS', 'CHAS', 'NOX', 'RM', 'AGE', 'DIS', 'RAD', 'TAX', 'PTRATIO', 'B', 'LSTAT']\n"
          ],
          "name": "stdout"
        }
      ]
    },
    {
      "cell_type": "markdown",
      "metadata": {
        "colab_type": "text",
        "id": "jhjwussDaUHG"
      },
      "source": [
        "Treat all the features as a vector, $\\mathbf{x}$, and stack the samples in a $N$ by $D$ matrix, $X$, where $N$ is the number of samples and $D$ is the number of features."
      ]
    },
    {
      "cell_type": "code",
      "metadata": {
        "colab_type": "code",
        "id": "jS5abEJGZWEp",
        "colab": {
          "base_uri": "https://localhost:8080/",
          "height": 255
        },
        "outputId": "dd3f763c-7bc2-42c6-d864-b1de6c077cd3"
      },
      "source": [
        "print(df)"
      ],
      "execution_count": 3,
      "outputs": [
        {
          "output_type": "stream",
          "text": [
            "        CRIM    ZN  INDUS  CHAS    NOX  ...    TAX  PTRATIO       B  LSTAT  PRICE\n",
            "0    0.00632  18.0   2.31     0  0.538  ...  296.0     15.3  396.90   4.98   24.0\n",
            "1    0.02731   0.0   7.07     0  0.469  ...  242.0     17.8  396.90   9.14   21.6\n",
            "2    0.02729   0.0   7.07     0  0.469  ...  242.0     17.8  392.83   4.03   34.7\n",
            "3    0.03237   0.0   2.18     0  0.458  ...  222.0     18.7  394.63   2.94   33.4\n",
            "4    0.06905   0.0   2.18     0  0.458  ...  222.0     18.7  396.90   5.33   36.2\n",
            "..       ...   ...    ...   ...    ...  ...    ...      ...     ...    ...    ...\n",
            "501  0.06263   0.0  11.93     0  0.573  ...  273.0     21.0  391.99   9.67   22.4\n",
            "502  0.04527   0.0  11.93     0  0.573  ...  273.0     21.0  396.90   9.08   20.6\n",
            "503  0.06076   0.0  11.93     0  0.573  ...  273.0     21.0  396.90   5.64   23.9\n",
            "504  0.10959   0.0  11.93     0  0.573  ...  273.0     21.0  393.45   6.48   22.0\n",
            "505  0.04741   0.0  11.93     0  0.573  ...  273.0     21.0  396.90   7.88   11.9\n",
            "\n",
            "[506 rows x 14 columns]\n"
          ],
          "name": "stdout"
        }
      ]
    },
    {
      "cell_type": "code",
      "metadata": {
        "id": "Pa2MknICnmJJ",
        "colab_type": "code",
        "colab": {
          "base_uri": "https://localhost:8080/",
          "height": 153
        },
        "outputId": "cd3c0d99-77bc-42f6-8692-a6249ffa740a"
      },
      "source": [
        "X=df[features].values\n",
        "print(X)\n",
        "print(X.shape)"
      ],
      "execution_count": 4,
      "outputs": [
        {
          "output_type": "stream",
          "text": [
            "[[6.3200e-03 1.8000e+01 2.3100e+00 ... 1.5300e+01 3.9690e+02 4.9800e+00]\n",
            " [2.7310e-02 0.0000e+00 7.0700e+00 ... 1.7800e+01 3.9690e+02 9.1400e+00]\n",
            " [2.7290e-02 0.0000e+00 7.0700e+00 ... 1.7800e+01 3.9283e+02 4.0300e+00]\n",
            " ...\n",
            " [6.0760e-02 0.0000e+00 1.1930e+01 ... 2.1000e+01 3.9690e+02 5.6400e+00]\n",
            " [1.0959e-01 0.0000e+00 1.1930e+01 ... 2.1000e+01 3.9345e+02 6.4800e+00]\n",
            " [4.7410e-02 0.0000e+00 1.1930e+01 ... 2.1000e+01 3.9690e+02 7.8800e+00]]\n",
            "(506, 13)\n"
          ],
          "name": "stdout"
        }
      ]
    },
    {
      "cell_type": "code",
      "metadata": {
        "id": "okBuUq7iY02B",
        "colab_type": "code",
        "colab": {
          "base_uri": "https://localhost:8080/",
          "height": 51
        },
        "outputId": "0b36bd6a-d4de-4a9d-c901-aa1e232ad38f"
      },
      "source": [
        "y=df['PRICE'].values\n",
        "print(y.shape)\n",
        "y=y.reshape(-1,1)\n",
        "print(y.shape)"
      ],
      "execution_count": 5,
      "outputs": [
        {
          "output_type": "stream",
          "text": [
            "(506,)\n",
            "(506, 1)\n"
          ],
          "name": "stdout"
        }
      ]
    },
    {
      "cell_type": "code",
      "metadata": {
        "id": "6bd5v3KKnwWz",
        "colab_type": "code",
        "colab": {
          "base_uri": "https://localhost:8080/",
          "height": 34
        },
        "outputId": "4ebd7afe-5138-4049-ff82-c547d8c373dc"
      },
      "source": [
        "from sklearn.linear_model import LinearRegression\n",
        "\n",
        "## your code here\n",
        "regr = LinearRegression(fit_intercept=True)\n",
        "\n",
        "regr.fit(X,y)"
      ],
      "execution_count": 6,
      "outputs": [
        {
          "output_type": "execute_result",
          "data": {
            "text/plain": [
              "LinearRegression(copy_X=True, fit_intercept=True, n_jobs=None, normalize=False)"
            ]
          },
          "metadata": {
            "tags": []
          },
          "execution_count": 6
        }
      ]
    },
    {
      "cell_type": "code",
      "metadata": {
        "id": "lrYanikWnzOt",
        "colab_type": "code",
        "colab": {
          "base_uri": "https://localhost:8080/",
          "height": 34
        },
        "outputId": "e19bd626-5758-4fc3-9cd3-39da700ff2d5"
      },
      "source": [
        "y_hat=regr.predict(X)\n",
        "print(y_hat.shape)"
      ],
      "execution_count": 7,
      "outputs": [
        {
          "output_type": "stream",
          "text": [
            "(506, 1)\n"
          ],
          "name": "stdout"
        }
      ]
    },
    {
      "cell_type": "code",
      "metadata": {
        "id": "VCzXiQPun1mP",
        "colab_type": "code",
        "colab": {
          "base_uri": "https://localhost:8080/",
          "height": 34
        },
        "outputId": "263aa978-63ac-45db-b38b-8bdb61de66d2"
      },
      "source": [
        "mse_y=np.mean((y-y_hat)**2)\n",
        "print(mse_y)"
      ],
      "execution_count": 8,
      "outputs": [
        {
          "output_type": "stream",
          "text": [
            "21.894831181729206\n"
          ],
          "name": "stdout"
        }
      ]
    },
    {
      "cell_type": "code",
      "metadata": {
        "id": "rstorV9_n7zi",
        "colab_type": "code",
        "colab": {
          "base_uri": "https://localhost:8080/",
          "height": 102
        },
        "outputId": "1ebd1496-64c4-406d-e110-d346877580f7"
      },
      "source": [
        "print(regr.coef_)\n",
        "print(regr.intercept_)"
      ],
      "execution_count": 9,
      "outputs": [
        {
          "output_type": "stream",
          "text": [
            "[[-1.08011358e-01  4.64204584e-02  2.05586264e-02  2.68673382e+00\n",
            "  -1.77666112e+01  3.80986521e+00  6.92224640e-04 -1.47556685e+00\n",
            "   3.06049479e-01 -1.23345939e-02 -9.52747232e-01  9.31168327e-03\n",
            "  -5.24758378e-01]]\n",
            "[36.45948839]\n"
          ],
          "name": "stdout"
        }
      ]
    },
    {
      "cell_type": "code",
      "metadata": {
        "id": "EGispxQZoK5y",
        "colab_type": "code",
        "colab": {
          "base_uri": "https://localhost:8080/",
          "height": 187
        },
        "outputId": "357027b8-81f9-4467-9ffe-6658e9ffdc6d"
      },
      "source": [
        "Y = np.hstack([y, y_hat])\n",
        "with np.printoptions(precision=2):\n",
        "    print(Y[:10,:])"
      ],
      "execution_count": 10,
      "outputs": [
        {
          "output_type": "stream",
          "text": [
            "[[24.   30.  ]\n",
            " [21.6  25.03]\n",
            " [34.7  30.57]\n",
            " [33.4  28.61]\n",
            " [36.2  27.94]\n",
            " [28.7  25.26]\n",
            " [22.9  23.  ]\n",
            " [27.1  19.54]\n",
            " [16.5  11.52]\n",
            " [18.9  18.92]]\n"
          ],
          "name": "stdout"
        }
      ]
    },
    {
      "cell_type": "markdown",
      "metadata": {
        "colab_type": "text",
        "id": "My_yW7qiLhMd"
      },
      "source": [
        "## LS Solution\n",
        "use numpy to compute the pseudo-inverse solution"
      ]
    },
    {
      "cell_type": "code",
      "metadata": {
        "id": "fCgBwDJaY02E",
        "colab_type": "code",
        "colab": {
          "base_uri": "https://localhost:8080/",
          "height": 34
        },
        "outputId": "6c4d3a12-d95a-4c64-ae0f-67ba3afb3e74"
      },
      "source": [
        "X = df[features].values\n",
        "print(X.shape)\n",
        "bias_term = np.ones((X.shape[0],1))\n",
        "X = np.hstack([bias_term, X])\n",
        "print(X.shape)\n",
        "\n",
        "# pseudo-inverse\n",
        "w = np.linalg.inv(X.transpose().dot(X)).dot(X.transpose().dot(y))"
      ],
      "execution_count": 22,
      "outputs": [
        {
          "output_type": "stream",
          "text": [
            "(506, 14)\n"
          ],
          "name": "stdout"
        }
      ]
    },
    {
      "cell_type": "markdown",
      "metadata": {
        "colab_type": "text",
        "id": "FYgRc8uKMszW"
      },
      "source": [
        "Print the first values of the ground truth and model predictions to get a feel for our LS solution."
      ]
    },
    {
      "cell_type": "code",
      "metadata": {
        "id": "-frTkcgwNtS0",
        "colab_type": "code",
        "colab": {
          "base_uri": "https://localhost:8080/",
          "height": 187
        },
        "outputId": "af30e8b9-32df-4ee3-d63b-a3d43979b4c6"
      },
      "source": [
        "y_hat2 = X.dot(w)\n",
        "Y = np.hstack([y, y_hat2])\n",
        "with np.printoptions(precision=2):\n",
        "    print(Y[:10,:])"
      ],
      "execution_count": 27,
      "outputs": [
        {
          "output_type": "stream",
          "text": [
            "[[24.   30.  ]\n",
            " [21.6  25.03]\n",
            " [34.7  30.57]\n",
            " [33.4  28.61]\n",
            " [36.2  27.94]\n",
            " [28.7  25.26]\n",
            " [22.9  23.  ]\n",
            " [27.1  19.54]\n",
            " [16.5  11.52]\n",
            " [18.9  18.92]]\n"
          ],
          "name": "stdout"
        }
      ]
    },
    {
      "cell_type": "code",
      "metadata": {
        "id": "bl1s9DoNqbRy",
        "colab_type": "code",
        "colab": {}
      },
      "source": [
        ""
      ],
      "execution_count": null,
      "outputs": []
    }
  ]
}