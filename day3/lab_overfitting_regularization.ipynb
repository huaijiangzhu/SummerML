{
  "nbformat": 4,
  "nbformat_minor": 0,
  "metadata": {
    "kernelspec": {
      "display_name": "Python 3",
      "language": "python",
      "name": "python3"
    },
    "language_info": {
      "codemirror_mode": {
        "name": "ipython",
        "version": 3
      },
      "file_extension": ".py",
      "mimetype": "text/x-python",
      "name": "python",
      "nbconvert_exporter": "python",
      "pygments_lexer": "ipython3",
      "version": "3.7.2"
    },
    "colab": {
      "name": "lab_overfitting_regularization.ipynb",
      "provenance": []
    }
  },
  "cells": [
    {
      "cell_type": "markdown",
      "metadata": {
        "id": "iNK0ITS8hXrV",
        "colab_type": "text"
      },
      "source": [
        "# Demo: Overfitting, Weight-Regularization"
      ]
    },
    {
      "cell_type": "code",
      "metadata": {
        "id": "KcSnaL94hXrV",
        "colab_type": "code",
        "colab": {
          "base_uri": "https://localhost:8080/",
          "height": 283
        },
        "outputId": "efc6446c-e301-4ef5-cc56-ef02284f6cb0"
      },
      "source": [
        "import numpy as np\n",
        "import matplotlib\n",
        "import matplotlib.pyplot as plt\n",
        "%matplotlib inline\n",
        "\n",
        "nsamp = 25 # number of samples taken\n",
        "p = np.array([5,1,-2,-.5]) # true coefficients\n",
        "var = 0.1 # noise variance\n",
        "\n",
        "# we'll take a set of measurements uniformly\n",
        "x = np.linspace(-1,1,nsamp)\n",
        "y_true = np.polyval(p,x)\n",
        "# noisy measurement, ym. use sqrt(var) as numpy normal standard deviation\n",
        "y = y_true + np.random.normal(0, np.sqrt(var), nsamp)\n",
        "\n",
        "plt.plot(x,y_true)\n",
        "# we can force a scatter plot in plt.plot by making the third argument 'o'\n",
        "plt.plot(x,y,'ob',markeredgecolor='black');\n",
        "plt.grid();\n",
        "plt.xlabel('x')\n",
        "plt.ylabel('y')\n",
        "plt.xlim([-1,1])\n",
        "plt.ylim([-3,4])\n",
        "plt.legend(['True Process, y_true','Noisy Measurement, y']);"
      ],
      "execution_count": 1,
      "outputs": [
        {
          "output_type": "display_data",
          "data": {
            "image/png": "[encoded data removed]",
            "text/plain": [
              "<Figure size 432x288 with 1 Axes>"
            ]
          },
          "metadata": {
            "tags": [],
            "needs_background": "light"
          }
        }
      ]
    },
    {
      "cell_type": "code",
      "metadata": {
        "id": "syyXCKIhhXrb",
        "colab_type": "code",
        "colab": {}
      },
      "source": [
        "# train test validation split\n",
        "ntrain = 15\n",
        "nval = 5\n",
        "ntest = 5\n",
        "\n",
        "inds = np.random.permutation(nsamp)\n",
        "\n",
        "train_choices = inds[:ntrain]\n",
        "val_choices = inds[ntrain:ntrain+nval]\n",
        "test_choices = inds[ntrain+nval:]\n",
        "\n",
        "xtrain, ytrain = x[train_choices], y[train_choices]\n",
        "xval, yval     = x[val_choices], y[val_choices]\n",
        "xtest, ytest   = x[test_choices], y[test_choices]"
      ],
      "execution_count": 2,
      "outputs": []
    },
    {
      "cell_type": "code",
      "metadata": {
        "id": "wTKUe2lehXrd",
        "colab_type": "code",
        "colab": {
          "base_uri": "https://localhost:8080/",
          "height": 34
        },
        "outputId": "36b015a9-b4d3-4bbf-a3c2-6a76b74aaf51"
      },
      "source": [
        "# forming the design matrix\n",
        "# features x, model order M\n",
        "\n",
        "def designMatrix(x, M):\n",
        "    x = x.reshape(-1,1)\n",
        "    bias_col = np.ones((x.shape[0], 1))\n",
        "    PhiX = bias_col\n",
        "    for i in np.arange(1, M+1):\n",
        "        PhiX = np.hstack([PhiX, x**i])\n",
        "    return PhiX\n",
        "\n",
        "\n",
        "M = 25\n",
        "Xtrain = designMatrix(xtrain, M)\n",
        "print(Xtrain.shape)"
      ],
      "execution_count": 3,
      "outputs": [
        {
          "output_type": "stream",
          "text": [
            "(15, 26)\n"
          ],
          "name": "stdout"
        }
      ]
    },
    {
      "cell_type": "code",
      "metadata": {
        "id": "OaQtjOPHhXrf",
        "colab_type": "code",
        "colab": {
          "base_uri": "https://localhost:8080/",
          "height": 758
        },
        "outputId": "7851ee54-3520-4a73-d182-b4b60c873e0b"
      },
      "source": [
        "from sklearn import linear_model\n",
        "\n",
        "# fitting the model\n",
        "reg = linear_model.LinearRegression(fit_intercept=False)\n",
        "reg.fit(Xtrain, ytrain)\n",
        "w = reg.coef_\n",
        "\n",
        "# training error\n",
        "yhat = reg.predict(Xtrain)\n",
        "RMSE = np.sqrt( np.mean((ytrain-yhat)**2) )\n",
        "print(\"Train RMSE = %.4f\" % RMSE)\n",
        "\n",
        "# test error\n",
        "Xtest = designMatrix(xtest, M)\n",
        "yhat = reg.predict(Xtest)\n",
        "RMSE = np.sqrt( np.mean((ytest-yhat)**2) )\n",
        "print(\"Test RMSE = %.4f\" % RMSE)\n",
        "\n",
        "# plotting\n",
        "x_line = np.linspace(-1,1,500).reshape(-1,1)\n",
        "X_line = designMatrix(x_line, M)\n",
        "y_line = reg.predict(X_line)\n",
        "\n",
        "plt.figure()\n",
        "plt.plot(x_line, y_line)\n",
        "plt.plot(xtrain,ytrain,'o',markeredgecolor='black')\n",
        "plt.plot(xtest,ytest,'o',markeredgecolor='black')\n",
        "# plt.xlim([-1,1])\n",
        "# plt.ylim([-3,3])\n",
        "plt.legend(['Model','Train Points', 'Test Points'])\n",
        "plt.show()\n",
        "\n",
        "print(\"w = \")\n",
        "with np.printoptions(precision=2, suppress=True):\n",
        "    print(w.reshape(-1,1))"
      ],
      "execution_count": 4,
      "outputs": [
        {
          "output_type": "stream",
          "text": [
            "Train RMSE = 0.0000\n",
            "Test RMSE = 940.2493\n"
          ],
          "name": "stdout"
        },
        {
          "output_type": "display_data",
          "data": {
            "image/png": "[encoded data removed]",
            "text/plain": [
              "<Figure size 432x288 with 1 Axes>"
            ]
          },
          "metadata": {
            "tags": [],
            "needs_background": "light"
          }
        },
        {
          "output_type": "stream",
          "text": [
            "w = \n",
            "[[   -0.59]\n",
            " [    0.19]\n",
            " [    2.19]\n",
            " [  -43.59]\n",
            " [  -15.64]\n",
            " [  394.82]\n",
            " [  199.89]\n",
            " [-1997.47]\n",
            " [ -872.41]\n",
            " [ 5302.64]\n",
            " [  477.81]\n",
            " [-4075.91]\n",
            " [ 2600.81]\n",
            " [-4062.39]\n",
            " [ -410.64]\n",
            " [ 1112.64]\n",
            " [-3229.6 ]\n",
            " [ 4269.29]\n",
            " [-3199.07]\n",
            " [ 3968.51]\n",
            " [-1006.28]\n",
            " [ 1583.35]\n",
            " [ 1910.17]\n",
            " [-1371.19]\n",
            " [ 4590.48]\n",
            " [-4031.54]]\n"
          ],
          "name": "stdout"
        }
      ]
    },
    {
      "cell_type": "code",
      "metadata": {
        "id": "KJAgZ3wshXri",
        "colab_type": "code",
        "colab": {
          "base_uri": "https://localhost:8080/",
          "height": 758
        },
        "outputId": "2deed600-4459-40cd-d690-89954cafc5db"
      },
      "source": [
        "# weight based regularization (squaring the weights in the cost function is called \"ridge regression\")\n",
        "\n",
        "# fitting the model\n",
        "reg = linear_model.Ridge(alpha=.05, fit_intercept=False, solver='cholesky')\n",
        "reg.fit(Xtrain,ytrain)\n",
        "w = reg.coef_\n",
        "\n",
        "# training error\n",
        "yhat = reg.predict(Xtrain)\n",
        "RMSE = np.sqrt( np.mean((ytrain-yhat)**2) )\n",
        "print(\"Train RMSE = %.4f\" % RMSE)\n",
        "\n",
        "# validation error\n",
        "Xval = designMatrix(xval, M)\n",
        "yhat = reg.predict(Xval)\n",
        "RMSE = np.sqrt( np.mean((yval-yhat)**2) )\n",
        "print(\"Val RMSE = %.4f\" % RMSE)\n",
        "\n",
        "# plotting\n",
        "x_line = np.linspace(-1,1,500).reshape(-1,1)\n",
        "X_line = designMatrix(x_line, M)\n",
        "y_line = reg.predict(X_line)\n",
        "\n",
        "plt.figure()\n",
        "plt.plot(x_line, y_line)\n",
        "plt.plot(xtrain,ytrain,'o',markeredgecolor='black')\n",
        "plt.plot(xtest,ytest,'o',markeredgecolor='black')\n",
        "plt.plot(xval,yval,'o',markeredgecolor='black')\n",
        "# plt.xlim([-1,1])\n",
        "# plt.ylim([-3,3])\n",
        "plt.legend(['Model','Train Points', 'Test Points', 'Val Points'])\n",
        "plt.show()\n",
        "\n",
        "print(\"w = \")\n",
        "with np.printoptions(precision=2, suppress=True):\n",
        "    print(w.reshape(-1,1))"
      ],
      "execution_count": 5,
      "outputs": [
        {
          "output_type": "stream",
          "text": [
            "Train RMSE = 0.2776\n",
            "Val RMSE = 0.4409\n"
          ],
          "name": "stdout"
        },
        {
          "output_type": "display_data",
          "data": {
            "image/png": "[encoded data removed]",
            "text/plain": [
              "<Figure size 432x288 with 1 Axes>"
            ]
          },
          "metadata": {
            "tags": [],
            "needs_background": "light"
          }
        },
        {
          "output_type": "stream",
          "text": [
            "w = \n",
            "[[-0.5 ]\n",
            " [-1.34]\n",
            " [ 1.02]\n",
            " [ 2.52]\n",
            " [ 0.29]\n",
            " [ 1.73]\n",
            " [ 0.05]\n",
            " [ 0.84]\n",
            " [-0.04]\n",
            " [ 0.31]\n",
            " [-0.07]\n",
            " [ 0.04]\n",
            " [-0.06]\n",
            " [-0.09]\n",
            " [-0.03]\n",
            " [-0.14]\n",
            " [-0.  ]\n",
            " [-0.15]\n",
            " [ 0.02]\n",
            " [-0.15]\n",
            " [ 0.05]\n",
            " [-0.15]\n",
            " [ 0.06]\n",
            " [-0.14]\n",
            " [ 0.08]\n",
            " [-0.13]]\n"
          ],
          "name": "stdout"
        }
      ]
    },
    {
      "cell_type": "code",
      "metadata": {
        "id": "6Wi5nRAOhXrk",
        "colab_type": "code",
        "colab": {
          "base_uri": "https://localhost:8080/",
          "height": 34
        },
        "outputId": "2a245a77-ea49-45a5-85cb-72e7f60b8b8a"
      },
      "source": [
        "# test error\n",
        "Xtest = designMatrix(xtest, M)\n",
        "yhat = reg.predict(Xtest)\n",
        "RMSE = np.sqrt( np.mean((ytest-yhat)**2) )\n",
        "print(\"Test RMSE = %.4f\" % RMSE)"
      ],
      "execution_count": 6,
      "outputs": [
        {
          "output_type": "stream",
          "text": [
            "Test RMSE = 0.3962\n"
          ],
          "name": "stdout"
        }
      ]
    }
  ]
}