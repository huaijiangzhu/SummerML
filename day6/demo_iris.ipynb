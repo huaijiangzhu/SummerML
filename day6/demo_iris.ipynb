{
  "nbformat": 4,
  "nbformat_minor": 0,
  "metadata": {
    "colab": {
      "name": "Demo_Iris.ipynb",
      "provenance": []
    },
    "kernelspec": {
      "display_name": "Python 3",
      "language": "python",
      "name": "python3"
    },
    "language_info": {
      "codemirror_mode": {
        "name": "ipython",
        "version": 3
      },
      "file_extension": ".py",
      "mimetype": "text/x-python",
      "name": "python",
      "nbconvert_exporter": "python",
      "pygments_lexer": "ipython3",
      "version": "3.7.2"
    }
  },
  "cells": [
    {
      "cell_type": "markdown",
      "metadata": {
        "colab_type": "text",
        "id": "4uVCl93VST30"
      },
      "source": [
        "# Demo: Multi-Class Classification\n",
        "We're using the IRIS dataset, a classic machine learning dataset that illustrates both linearly separable and non-linearly separable classes.\n",
        "\n",
        "3 different types of irises’ (Setosa, Versicolour, and Virginica). There are 4 features in the dataset: sepal length, sepal width, petal length, petal width.\n",
        "\n",
        "This dataset is so famous it even has a [Wikepdia page](https://en.wikipedia.org/wiki/Iris_flower_data_set)."
      ]
    },
    {
      "cell_type": "code",
      "metadata": {
        "colab_type": "code",
        "id": "IR_9ZqC55P1V",
        "colab": {
          "base_uri": "https://localhost:8080/",
          "height": 300
        },
        "outputId": "81b3eef2-aefd-4964-ce83-c4f5ed236925"
      },
      "source": [
        "import numpy as np\n",
        "import matplotlib\n",
        "import matplotlib.pyplot as plt\n",
        "%matplotlib inline\n",
        "from sklearn import datasets\n",
        "\n",
        "\n",
        "# Loading the dataset\n",
        "iris = datasets.load_iris()\n",
        "X = iris.data[:,:2] # using only first two features\n",
        "y = iris.target\n",
        "\n",
        "(num_samples, num_features) = X.shape\n",
        "print(\"num_samples, num_features\", X.shape)\n",
        "\n",
        "plt.rcParams['figure.figsize'] = [6, 4]\n",
        "plt.plot(X[y==0,0], X[y==0,1], 'o', markerfacecolor=(1,0,0,1), markeredgecolor='black')\n",
        "plt.plot(X[y==1,0], X[y==1,1], 'o', markerfacecolor=(0,1,0,1), markeredgecolor='black')\n",
        "plt.plot(X[y==2,0], X[y==2,1], 'o', markerfacecolor=(0,0,1,1), markeredgecolor='black');\n",
        "\n",
        "plt.xlabel('Sepal Length')\n",
        "plt.ylabel('Sepal Width');"
      ],
      "execution_count": null,
      "outputs": [
        {
          "output_type": "stream",
          "text": [
            "num_samples, num_features (150, 2)\n"
          ],
          "name": "stdout"
        },
        {
          "output_type": "display_data",
          "data": {
            "image/png": "[encoded data removed]",
            "text/plain": [
              "<Figure size 432x288 with 1 Axes>"
            ]
          },
          "metadata": {
            "tags": [],
            "needs_background": "light"
          }
        }
      ]
    },
    {
      "cell_type": "code",
      "metadata": {
        "colab_type": "code",
        "id": "2GFH7vIV-rZQ",
        "colab": {
          "base_uri": "https://localhost:8080/",
          "height": 377
        },
        "outputId": "85f2ae17-ff17-4091-c21b-b112e9d2a80f"
      },
      "source": [
        "from sklearn.model_selection import train_test_split\n",
        "from sklearn import preprocessing\n",
        "from sklearn.linear_model import LogisticRegression\n",
        "\n",
        "# normalizing the data\n",
        "Xs = preprocessing.scale(X)\n",
        "\n",
        "# splitting the data into test and train\n",
        "# We're not using ANY hyperparameters --- NO NEED FOR VALIDATION SET\n",
        "X_train, X_test, y_train, y_test = train_test_split(Xs, y, test_size=0.33)#, random_state=42)\n",
        "\n",
        "# sklearn does everything in the background:\n",
        "#     - onehot encoding\n",
        "#     - softmax output\n",
        "logreg = LogisticRegression(C=1e5, solver='lbfgs', multi_class='multinomial')\n",
        "logreg.fit(X_train, y_train)\n",
        "\n",
        "yhat = logreg.predict(X_train)\n",
        "acc = np.mean(yhat == y_train)\n",
        "print(\"Train Accuracy = %f\" % acc)\n",
        "\n",
        "yhat = logreg.predict(X_test)\n",
        "acc = np.mean(yhat == y_test)\n",
        "print(\"Test Accuracy  = %f\" % acc)"
      ],
      "execution_count": null,
      "outputs": [
        {
          "output_type": "stream",
          "text": [
            "Train Accuracy = 0.840000\n",
            "Test Accuracy  = 0.780000\n"
          ],
          "name": "stdout"
        }
      ]
    },
    {
      "cell_type": "markdown",
      "metadata": {
        "colab_type": "text",
        "id": "nLm2MOnLF-Jy"
      },
      "source": [
        "## Decision Boundary\n",
        "[Code for plotting decission boundary](https://scikit-learn.org/stable/auto_examples/linear_model/plot_iris_logistic.html)"
      ]
    },
    {
      "cell_type": "code",
      "metadata": {
        "colab_type": "code",
        "id": "XWWudeTcE0jg",
        "colab": {
          "base_uri": "https://localhost:8080/",
          "height": 266
        },
        "outputId": "91ae4a48-a021-4df6-b878-4d473999e0b6"
      },
      "source": [
        "### CODE FROM SKLEARN IRIS DEMO ###\n",
        "\n",
        "# Plot the decision boundary. For that, we will assign a color to each\n",
        "# point in the mesh [x_min, x_max]x[y_min, y_max].\n",
        "x_min, x_max = Xs[:, 0].min() - .5, Xs[:, 0].max() + .5\n",
        "y_min, y_max = Xs[:, 1].min() - .5, Xs[:, 1].max() + .5\n",
        "h = .02  # step size in the mesh\n",
        "xx, yy = np.meshgrid(np.arange(x_min, x_max, h), np.arange(y_min, y_max, h))\n",
        "Z = logreg.predict(np.c_[xx.ravel(), yy.ravel()])\n",
        "\n",
        "# Put the result into a color plot\n",
        "Z = Z.reshape(xx.shape)\n",
        "plt.figure(1, figsize=(6, 4))\n",
        "plt.pcolormesh(xx, yy, Z, cmap=plt.cm.Paired)\n",
        "\n",
        "# Plot also the training points\n",
        "plt.scatter(Xs[:, 0], Xs[:, 1], c=y, edgecolors='k', cmap=plt.cm.Paired)\n",
        "plt.xlabel('Sepal length')\n",
        "plt.ylabel('Sepal width')\n",
        "\n",
        "plt.xlim(xx.min(), xx.max())\n",
        "plt.ylim(yy.min(), yy.max())\n",
        "plt.xticks(())\n",
        "plt.yticks(())\n",
        "\n",
        "plt.show()"
      ],
      "execution_count": null,
      "outputs": [
        {
          "output_type": "display_data",
          "data": {
            "image/png": "[encoded data removed]",
            "text/plain": [
              "<Figure size 432x288 with 1 Axes>"
            ]
          },
          "metadata": {
            "tags": []
          }
        }
      ]
    },
    {
      "cell_type": "markdown",
      "metadata": {
        "colab_type": "text",
        "id": "mV1dpgGWTsO0"
      },
      "source": [
        "## Understanding The Classifications"
      ]
    },
    {
      "cell_type": "markdown",
      "metadata": {
        "colab_type": "text",
        "id": "vhi7dcW4VBqb"
      },
      "source": [
        "### Class confidence outputs\n",
        "In our print statement, the first column is our decision, cols 2-4 are our class proability outputs."
      ]
    },
    {
      "cell_type": "code",
      "metadata": {
        "colab_type": "code",
        "id": "7qoTc-cAVDf-",
        "colab": {
          "base_uri": "https://localhost:8080/",
          "height": 903
        },
        "outputId": "ed109dee-fa2f-499b-e393-9191d5f5d180"
      },
      "source": [
        "# showing the probabilities\n",
        "yhat_probs = logreg.predict_proba(X_test)\n",
        "\n",
        "np.set_printoptions(precision=2, suppress=True)\n",
        "\n",
        "print(yhat.shape, yhat_probs.shape)\n",
        "print(np.hstack([yhat.reshape(-1,1), yhat_probs]))"
      ],
      "execution_count": null,
      "outputs": [
        {
          "output_type": "stream",
          "text": [
            "(50,) (50, 3)\n",
            "[[1.   0.   0.7  0.3 ]\n",
            " [2.   0.   0.27 0.73]\n",
            " [0.   1.   0.   0.  ]\n",
            " [2.   0.   0.26 0.74]\n",
            " [0.   1.   0.   0.  ]\n",
            " [1.   0.   0.66 0.34]\n",
            " [2.   0.   0.47 0.53]\n",
            " [0.   1.   0.   0.  ]\n",
            " [1.   0.   0.76 0.24]\n",
            " [1.   0.   0.7  0.3 ]\n",
            " [1.   0.   0.7  0.3 ]\n",
            " [2.   0.   0.36 0.64]\n",
            " [2.   0.   0.42 0.58]\n",
            " [2.   0.   0.31 0.69]\n",
            " [1.   0.   0.85 0.15]\n",
            " [0.   1.   0.   0.  ]\n",
            " [2.   0.   0.4  0.6 ]\n",
            " [2.   0.   0.13 0.87]\n",
            " [1.   0.   0.76 0.24]\n",
            " [2.   0.   0.43 0.57]\n",
            " [2.   0.   0.35 0.65]\n",
            " [2.   0.   0.21 0.79]\n",
            " [2.   0.   0.48 0.52]\n",
            " [1.   0.   0.56 0.44]\n",
            " [0.   1.   0.   0.  ]\n",
            " [2.   0.   0.15 0.85]\n",
            " [2.   0.   0.4  0.6 ]\n",
            " [0.   1.   0.   0.  ]\n",
            " [1.   0.   0.59 0.41]\n",
            " [1.   0.   0.89 0.11]\n",
            " [1.   0.   0.74 0.26]\n",
            " [0.   1.   0.   0.  ]\n",
            " [2.   0.   0.27 0.73]\n",
            " [1.   0.   0.66 0.34]\n",
            " [0.   1.   0.   0.  ]\n",
            " [0.   1.   0.   0.  ]\n",
            " [1.   0.   0.73 0.27]\n",
            " [1.   0.   0.58 0.42]\n",
            " [2.   0.   0.43 0.57]\n",
            " [2.   0.   0.23 0.77]\n",
            " [2.   0.   0.24 0.76]\n",
            " [2.   0.   0.4  0.6 ]\n",
            " [0.   1.   0.   0.  ]\n",
            " [1.   0.   0.62 0.38]\n",
            " [1.   0.   0.57 0.43]\n",
            " [2.   0.   0.24 0.76]\n",
            " [0.   1.   0.   0.  ]\n",
            " [2.   0.   0.39 0.61]\n",
            " [2.   0.   0.18 0.82]\n",
            " [1.   0.   0.8  0.2 ]]\n"
          ],
          "name": "stdout"
        }
      ]
    },
    {
      "cell_type": "markdown",
      "metadata": {
        "colab_type": "text",
        "id": "FQXV2ASfKacq"
      },
      "source": [
        "## Attempt at polynomial feature engineering"
      ]
    },
    {
      "cell_type": "code",
      "metadata": {
        "colab_type": "code",
        "id": "Gqn744KiG3JZ",
        "colab": {
          "base_uri": "https://localhost:8080/",
          "height": 69
        },
        "outputId": "abaa53e0-9488-432b-fd76-6b77da0d0161"
      },
      "source": [
        "from sklearn.preprocessing import PolynomialFeatures\n",
        "\n",
        "poly = PolynomialFeatures(9)\n",
        "Xpoly = poly.fit_transform(X)\n",
        "\n",
        "print(Xpoly.shape)\n",
        "\n",
        "X_train, X_test, y_train, y_test = train_test_split(Xpoly, y, test_size=0.33, random_state=42)\n",
        "\n",
        "logreg = LogisticRegression(C=1e8, solver='lbfgs', multi_class='multinomial', max_iter=5000)\n",
        "logreg.fit(X_train, y_train)\n",
        "\n",
        "print(logreg.score(X_train, y_train))\n",
        "\n",
        "yhat = logreg.predict(X_test)\n",
        "acc = np.mean(yhat == y_test)\n",
        "print(\"Accuracy on test data = %f\" % acc)"
      ],
      "execution_count": null,
      "outputs": [
        {
          "output_type": "stream",
          "text": [
            "(150, 55)\n",
            "0.81\n",
            "Accuracy on test data = 0.780000\n"
          ],
          "name": "stdout"
        }
      ]
    },
    {
      "cell_type": "markdown",
      "metadata": {
        "colab_type": "text",
        "id": "RLLutPz7KsRI"
      },
      "source": [
        "## Onehot encoding function\n",
        "This function is not! necessary for this demo. Only being kept on this notebook for future purposes.\n",
        "\n",
        "Using the onehot functions in SKlearn and other libraries is **very annoying**.\n",
        "We can make our own function that is much easier to understand."
      ]
    },
    {
      "cell_type": "code",
      "metadata": {
        "colab_type": "code",
        "id": "-E1xbWVNKuwN",
        "colab": {
          "base_uri": "https://localhost:8080/",
          "height": 2622
        },
        "outputId": "a62c5dc4-cf95-4858-dd89-6d47f70109ea"
      },
      "source": [
        "def onehot_enc(y,num_classes):\n",
        "    (N,K) = (y.shape[0], num_classes)\n",
        "    I = np.eye(K)\n",
        "    y_onehot = np.zeros((N,K))\n",
        "    for i in range(N):\n",
        "        y_onehot[i,:] = I[y[i],:]\n",
        "    return y_onehot\n",
        "\n",
        "y_onehot = onehot_enc(y, 3)\n",
        "\n",
        "print(y_onehot)"
      ],
      "execution_count": null,
      "outputs": [
        {
          "output_type": "stream",
          "text": [
            "[[1. 0. 0.]\n",
            " [1. 0. 0.]\n",
            " [1. 0. 0.]\n",
            " [1. 0. 0.]\n",
            " [1. 0. 0.]\n",
            " [1. 0. 0.]\n",
            " [1. 0. 0.]\n",
            " [1. 0. 0.]\n",
            " [1. 0. 0.]\n",
            " [1. 0. 0.]\n",
            " [1. 0. 0.]\n",
            " [1. 0. 0.]\n",
            " [1. 0. 0.]\n",
            " [1. 0. 0.]\n",
            " [1. 0. 0.]\n",
            " [1. 0. 0.]\n",
            " [1. 0. 0.]\n",
            " [1. 0. 0.]\n",
            " [1. 0. 0.]\n",
            " [1. 0. 0.]\n",
            " [1. 0. 0.]\n",
            " [1. 0. 0.]\n",
            " [1. 0. 0.]\n",
            " [1. 0. 0.]\n",
            " [1. 0. 0.]\n",
            " [1. 0. 0.]\n",
            " [1. 0. 0.]\n",
            " [1. 0. 0.]\n",
            " [1. 0. 0.]\n",
            " [1. 0. 0.]\n",
            " [1. 0. 0.]\n",
            " [1. 0. 0.]\n",
            " [1. 0. 0.]\n",
            " [1. 0. 0.]\n",
            " [1. 0. 0.]\n",
            " [1. 0. 0.]\n",
            " [1. 0. 0.]\n",
            " [1. 0. 0.]\n",
            " [1. 0. 0.]\n",
            " [1. 0. 0.]\n",
            " [1. 0. 0.]\n",
            " [1. 0. 0.]\n",
            " [1. 0. 0.]\n",
            " [1. 0. 0.]\n",
            " [1. 0. 0.]\n",
            " [1. 0. 0.]\n",
            " [1. 0. 0.]\n",
            " [1. 0. 0.]\n",
            " [1. 0. 0.]\n",
            " [1. 0. 0.]\n",
            " [0. 1. 0.]\n",
            " [0. 1. 0.]\n",
            " [0. 1. 0.]\n",
            " [0. 1. 0.]\n",
            " [0. 1. 0.]\n",
            " [0. 1. 0.]\n",
            " [0. 1. 0.]\n",
            " [0. 1. 0.]\n",
            " [0. 1. 0.]\n",
            " [0. 1. 0.]\n",
            " [0. 1. 0.]\n",
            " [0. 1. 0.]\n",
            " [0. 1. 0.]\n",
            " [0. 1. 0.]\n",
            " [0. 1. 0.]\n",
            " [0. 1. 0.]\n",
            " [0. 1. 0.]\n",
            " [0. 1. 0.]\n",
            " [0. 1. 0.]\n",
            " [0. 1. 0.]\n",
            " [0. 1. 0.]\n",
            " [0. 1. 0.]\n",
            " [0. 1. 0.]\n",
            " [0. 1. 0.]\n",
            " [0. 1. 0.]\n",
            " [0. 1. 0.]\n",
            " [0. 1. 0.]\n",
            " [0. 1. 0.]\n",
            " [0. 1. 0.]\n",
            " [0. 1. 0.]\n",
            " [0. 1. 0.]\n",
            " [0. 1. 0.]\n",
            " [0. 1. 0.]\n",
            " [0. 1. 0.]\n",
            " [0. 1. 0.]\n",
            " [0. 1. 0.]\n",
            " [0. 1. 0.]\n",
            " [0. 1. 0.]\n",
            " [0. 1. 0.]\n",
            " [0. 1. 0.]\n",
            " [0. 1. 0.]\n",
            " [0. 1. 0.]\n",
            " [0. 1. 0.]\n",
            " [0. 1. 0.]\n",
            " [0. 1. 0.]\n",
            " [0. 1. 0.]\n",
            " [0. 1. 0.]\n",
            " [0. 1. 0.]\n",
            " [0. 1. 0.]\n",
            " [0. 1. 0.]\n",
            " [0. 0. 1.]\n",
            " [0. 0. 1.]\n",
            " [0. 0. 1.]\n",
            " [0. 0. 1.]\n",
            " [0. 0. 1.]\n",
            " [0. 0. 1.]\n",
            " [0. 0. 1.]\n",
            " [0. 0. 1.]\n",
            " [0. 0. 1.]\n",
            " [0. 0. 1.]\n",
            " [0. 0. 1.]\n",
            " [0. 0. 1.]\n",
            " [0. 0. 1.]\n",
            " [0. 0. 1.]\n",
            " [0. 0. 1.]\n",
            " [0. 0. 1.]\n",
            " [0. 0. 1.]\n",
            " [0. 0. 1.]\n",
            " [0. 0. 1.]\n",
            " [0. 0. 1.]\n",
            " [0. 0. 1.]\n",
            " [0. 0. 1.]\n",
            " [0. 0. 1.]\n",
            " [0. 0. 1.]\n",
            " [0. 0. 1.]\n",
            " [0. 0. 1.]\n",
            " [0. 0. 1.]\n",
            " [0. 0. 1.]\n",
            " [0. 0. 1.]\n",
            " [0. 0. 1.]\n",
            " [0. 0. 1.]\n",
            " [0. 0. 1.]\n",
            " [0. 0. 1.]\n",
            " [0. 0. 1.]\n",
            " [0. 0. 1.]\n",
            " [0. 0. 1.]\n",
            " [0. 0. 1.]\n",
            " [0. 0. 1.]\n",
            " [0. 0. 1.]\n",
            " [0. 0. 1.]\n",
            " [0. 0. 1.]\n",
            " [0. 0. 1.]\n",
            " [0. 0. 1.]\n",
            " [0. 0. 1.]\n",
            " [0. 0. 1.]\n",
            " [0. 0. 1.]\n",
            " [0. 0. 1.]\n",
            " [0. 0. 1.]\n",
            " [0. 0. 1.]\n",
            " [0. 0. 1.]]\n"
          ],
          "name": "stdout"
        }
      ]
    },
    {
      "cell_type": "code",
      "metadata": {
        "id": "KE2p80qc64BR",
        "colab_type": "code",
        "colab": {}
      },
      "source": [
        ""
      ],
      "execution_count": null,
      "outputs": []
    }
  ]
}