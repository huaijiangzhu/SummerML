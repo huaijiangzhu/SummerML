{
  "nbformat": 4,
  "nbformat_minor": 0,
  "metadata": {
    "colab": {
      "name": "demo_pytorch_basic.ipynb",
      "provenance": [],
      "collapsed_sections": [],
      "authorship_tag": "ABX9TyN6hYQVoGaYrn7aH7AlRSQw",
      "include_colab_link": true
    },
    "kernelspec": {
      "name": "python3",
      "display_name": "Python 3"
    }
  },
  "cells": [
    {
      "cell_type": "markdown",
      "metadata": {
        "id": "view-in-github",
        "colab_type": "text"
      },
      "source": [
        "<a href=\"https://colab.research.google.com/github/huaijiangzhu/SummerML/blob/master/day6/demo_pytorch_basics.ipynb\" target=\"_parent\"><img src=\"https://colab.research.google.com/assets/colab-badge.svg\" alt=\"Open In Colab\"/></a>"
      ]
    },
    {
      "cell_type": "code",
      "metadata": {
        "id": "cY_r_kn5ZRED",
        "colab_type": "code",
        "colab": {}
      },
      "source": [
        "import numpy as np\n",
        "import pandas as pd\n",
        "import matplotlib.pyplot as plt\n",
        "plt.rc_context({'axes.edgecolor':'white', 'xtick.color':'white', 'axes.labelcolor':'white', 'ytick.color':'white'});"
      ],
      "execution_count": 1,
      "outputs": []
    },
    {
      "cell_type": "code",
      "metadata": {
        "id": "kcCe6yT1T-GN",
        "colab_type": "code",
        "colab": {}
      },
      "source": [
        "import torch\n",
        "import torch.nn as nn\n",
        "import torch.optim as optim\n",
        "from torch.utils.data import DataLoader"
      ],
      "execution_count": 2,
      "outputs": []
    },
    {
      "cell_type": "code",
      "metadata": {
        "id": "opFoHHRoUU5t",
        "colab_type": "code",
        "colab": {
          "base_uri": "https://localhost:8080/",
          "height": 204
        },
        "outputId": "844384e5-c0ac-40d3-bc64-da0ded36068d"
      },
      "source": [
        "## Pytorch tensors are very similear to numpy arrays\n",
        "X = torch.Tensor([[1, 2, 3], [4, 5, 6]])\n",
        "print (X, '\\n')\n",
        "\n",
        "## You can convert it into a numpy array\n",
        "Xnp = X.cpu().detach().numpy()\n",
        "print (type(Xnp),'\\n', Xnp, '\\n')\n",
        "\n",
        "## You can also convert a numpy array to a pytorch tensor\n",
        "X = torch.Tensor(Xnp)\n",
        "print (type(X),'\\n', X, '\\n')\n"
      ],
      "execution_count": 3,
      "outputs": [
        {
          "output_type": "stream",
          "text": [
            "tensor([[1., 2., 3.],\n",
            "        [4., 5., 6.]]) \n",
            "\n",
            "<class 'numpy.ndarray'> \n",
            " [[1. 2. 3.]\n",
            " [4. 5. 6.]] \n",
            "\n",
            "<class 'torch.Tensor'> \n",
            " tensor([[1., 2., 3.],\n",
            "        [4., 5., 6.]]) \n",
            "\n"
          ],
          "name": "stdout"
        }
      ]
    },
    {
      "cell_type": "code",
      "metadata": {
        "id": "XxycidIwUsXz",
        "colab_type": "code",
        "colab": {
          "base_uri": "https://localhost:8080/",
          "height": 198
        },
        "outputId": "37b03ef9-f226-4f28-a123-d98d3c0fa080"
      },
      "source": [
        "## .cpu() is required when the tensor is stored on a GPU\n",
        "## .detach() is required when the tensor is tracking gradient information\n",
        "## The folloing code will NOT work without .detach().\n",
        "tensor1 = torch.tensor([1.0,2.0], requires_grad=True)\n",
        "tensor1 = tensor1.numpy()"
      ],
      "execution_count": 4,
      "outputs": [
        {
          "output_type": "error",
          "ename": "RuntimeError",
          "evalue": "ignored",
          "traceback": [
            "\u001b[0;31m---------------------------------------------------------------------------\u001b[0m",
            "\u001b[0;31mRuntimeError\u001b[0m                              Traceback (most recent call last)",
            "\u001b[0;32m<ipython-input-4-6ccbb6c8179d>\u001b[0m in \u001b[0;36m<module>\u001b[0;34m()\u001b[0m\n\u001b[1;32m      3\u001b[0m \u001b[0;31m## The folloing code will NOT work without .detach().\u001b[0m\u001b[0;34m\u001b[0m\u001b[0;34m\u001b[0m\u001b[0;34m\u001b[0m\u001b[0m\n\u001b[1;32m      4\u001b[0m \u001b[0mtensor1\u001b[0m \u001b[0;34m=\u001b[0m \u001b[0mtorch\u001b[0m\u001b[0;34m.\u001b[0m\u001b[0mtensor\u001b[0m\u001b[0;34m(\u001b[0m\u001b[0;34m[\u001b[0m\u001b[0;36m1.0\u001b[0m\u001b[0;34m,\u001b[0m\u001b[0;36m2.0\u001b[0m\u001b[0;34m]\u001b[0m\u001b[0;34m,\u001b[0m \u001b[0mrequires_grad\u001b[0m\u001b[0;34m=\u001b[0m\u001b[0;32mTrue\u001b[0m\u001b[0;34m)\u001b[0m\u001b[0;34m\u001b[0m\u001b[0;34m\u001b[0m\u001b[0m\n\u001b[0;32m----> 5\u001b[0;31m \u001b[0mtensor1\u001b[0m \u001b[0;34m=\u001b[0m \u001b[0mtensor1\u001b[0m\u001b[0;34m.\u001b[0m\u001b[0mnumpy\u001b[0m\u001b[0;34m(\u001b[0m\u001b[0;34m)\u001b[0m\u001b[0;34m\u001b[0m\u001b[0;34m\u001b[0m\u001b[0m\n\u001b[0m",
            "\u001b[0;31mRuntimeError\u001b[0m: Can't call numpy() on Variable that requires grad. Use var.detach().numpy() instead."
          ]
        }
      ]
    },
    {
      "cell_type": "code",
      "metadata": {
        "id": "Iev9nFbQWUPm",
        "colab_type": "code",
        "colab": {
          "base_uri": "https://localhost:8080/",
          "height": 34
        },
        "outputId": "03d1a0f8-5bab-4546-fdb3-e23a1daa9103"
      },
      "source": [
        "## requires_grad is by default set to False unless the tensor is a model parameter\n",
        "print (X.requires_grad)"
      ],
      "execution_count": 5,
      "outputs": [
        {
          "output_type": "stream",
          "text": [
            "False\n"
          ],
          "name": "stdout"
        }
      ]
    },
    {
      "cell_type": "code",
      "metadata": {
        "id": "wGBRliEwXlel",
        "colab_type": "code",
        "colab": {
          "base_uri": "https://localhost:8080/",
          "height": 279
        },
        "outputId": "3f938219-0c05-4ad1-f1e7-8cc22ddb8463"
      },
      "source": [
        "## the torch.nn module implements many useful functions\n",
        "sigmoid = nn.Sigmoid()\n",
        "relu = nn.ReLU()\n",
        "tanh = nn.Tanh()\n",
        "\n",
        "X = torch.linspace(-3, 3, 100)\n",
        "\n",
        "plt.plot(X.numpy(), relu(X).numpy(), label='ReLU');\n",
        "plt.plot(X.numpy(), tanh(X).numpy(), label='Tanh');\n",
        "plt.plot(X.numpy(), sigmoid(X).numpy(), label='Sigmoid');\n",
        "plt.grid()\n",
        "plt.xlabel('x')\n",
        "plt.ylabel('y')\n",
        "plt.legend(loc='upper left');"
      ],
      "execution_count": 6,
      "outputs": [
        {
          "output_type": "display_data",
          "data": {
            "image/png": "[encoded data removed]",
            "text/plain": [
              "<Figure size 432x288 with 1 Axes>"
            ]
          },
          "metadata": {
            "tags": [],
            "needs_background": "dark"
          }
        }
      ]
    },
    {
      "cell_type": "code",
      "metadata": {
        "id": "S6ooZAKVZs1k",
        "colab_type": "code",
        "colab": {
          "base_uri": "https://localhost:8080/",
          "height": 510
        },
        "outputId": "47838aab-3f77-429a-c6e6-e5838efdf66c"
      },
      "source": [
        "## the torch.nn module implements many useful functions: layers\n",
        "n_samples = 5\n",
        "n_in = 2\n",
        "n_out = 3\n",
        "fully_connected_layer = nn.Linear(n_in, n_out)\n",
        "\n",
        "## the weights and bias of this layer is randomly initilized\n",
        "## also notice that the requires_grad flag is set to True by default\n",
        "print (fully_connected_layer.weight, '\\n', fully_connected_layer.bias)\n",
        "print ('\\n')\n",
        "\n",
        "## The layer takes in the inputs arranged in rows and gives the outputs likewise\n",
        "X = torch.Tensor(n_samples, n_in) # generate some random inputs\n",
        "print (X.shape, '\\n', X, '\\n')\n",
        "\n",
        "y = fully_connected_layer(X)\n",
        "print (y.shape, '\\n', y, '\\n')\n",
        "\n",
        "## We can also compose pytorch functions\n",
        "softmax = nn.Softmax(dim=1)\n",
        "y = softmax(fully_connected_layer(X))\n",
        "print (y.shape, '\\n', y, '\\n')\n"
      ],
      "execution_count": 7,
      "outputs": [
        {
          "output_type": "stream",
          "text": [
            "Parameter containing:\n",
            "tensor([[ 0.4324, -0.5680],\n",
            "        [-0.1732, -0.2293],\n",
            "        [ 0.4002,  0.1010]], requires_grad=True) \n",
            " Parameter containing:\n",
            "tensor([-0.5153, -0.2955,  0.2629], requires_grad=True)\n",
            "\n",
            "\n",
            "torch.Size([5, 2]) \n",
            " tensor([[3.1589e-36, 0.0000e+00],\n",
            "        [1.7316e-01, 2.2928e-01],\n",
            "        [4.0025e-01, 1.0103e-01],\n",
            "        [4.4721e+21, 2.8799e+32],\n",
            "        [1.3816e+31, 1.9203e+31]]) \n",
            "\n",
            "torch.Size([5, 3]) \n",
            " tensor([[-5.1532e-01, -2.9551e-01,  2.6292e-01],\n",
            "        [-5.7068e-01, -3.7807e-01,  3.5539e-01],\n",
            "        [-3.9965e-01, -3.8798e-01,  4.3333e-01],\n",
            "        [-1.6358e+32, -6.6029e+31,  2.9095e+31],\n",
            "        [-4.9338e+30, -6.7952e+30,  7.4699e+30]], grad_fn=<AddmmBackward>) \n",
            "\n",
            "torch.Size([5, 3]) \n",
            " tensor([[0.2261, 0.2816, 0.4923],\n",
            "        [0.2111, 0.2559, 0.5329],\n",
            "        [0.2319, 0.2346, 0.5334],\n",
            "        [0.0000, 0.0000, 1.0000],\n",
            "        [0.0000, 0.0000, 1.0000]], grad_fn=<SoftmaxBackward>) \n",
            "\n"
          ],
          "name": "stdout"
        }
      ]
    },
    {
      "cell_type": "code",
      "metadata": {
        "id": "Jjg3HoQwcTLK",
        "colab_type": "code",
        "colab": {
          "base_uri": "https://localhost:8080/",
          "height": 34
        },
        "outputId": "745cef72-f549-4dba-90f3-6aff6d6214b0"
      },
      "source": [
        "## nn.Module provides a template for a neural network architecture\n",
        "class MyNeuralNet(nn.Module):\n",
        "    def __init__(self, n_in, n_out):\n",
        "        # invoke __init__() from the parent class\n",
        "        super().__init__()\n",
        "\n",
        "        # construct layers and activation function\n",
        "        self.fc1 = nn.Linear(n_in, 100)\n",
        "        self.fc2 = nn.Linear(100, 200)\n",
        "        self.fc3 = nn.Linear(200, n_out)\n",
        "        self.sigmoid = nn.Sigmoid()\n",
        " \n",
        "    \n",
        "    def forward(self, inputs):\n",
        "\n",
        "        # two hidden layers with sigmoid activation\n",
        "        outputs = self.sigmoid(self.fc1(inputs))\n",
        "        outputs = self.sigmoid(self.fc2(outputs))\n",
        "        # the output layer is a fully connected layer without special activation\n",
        "        outputs = self.fc3(outputs)\n",
        "\n",
        "        return outputs\n",
        "\n",
        "model = MyNeuralNet(n_in, n_out)\n",
        "y = model(X)\n",
        "print (y.shape)"
      ],
      "execution_count": 8,
      "outputs": [
        {
          "output_type": "stream",
          "text": [
            "torch.Size([5, 3])\n"
          ],
          "name": "stdout"
        }
      ]
    },
    {
      "cell_type": "markdown",
      "metadata": {
        "id": "p6D4k6R1fsNP",
        "colab_type": "text"
      },
      "source": [
        "## Pause for SGD lecture"
      ]
    },
    {
      "cell_type": "code",
      "metadata": {
        "id": "bpwc_B6mgGDS",
        "colab_type": "code",
        "colab": {
          "base_uri": "https://localhost:8080/",
          "height": 1000
        },
        "outputId": "820e58c9-9051-424e-e60a-75fb152cb6f4"
      },
      "source": [
        "## How do we randomly select a mini-batch from the dataset? Use pytorch dataloader!\n",
        "## Let's show this on a randomly generated dataset.\n",
        "from torch.utils.data import DataLoader\n",
        "\n",
        "n_feature = 1\n",
        "n_label = 1\n",
        "N = 1000\n",
        "N_train = 800\n",
        "N_val = 200\n",
        "X = 10 * (torch.rand(N, n_feature) - 0.5)\n",
        "y = X * torch.cos(X) + torch.sin(X) ** 2 + 0.5*torch.rand(N, n_label)\n",
        "\n",
        "data = torch.cat((X, y), dim=1)\n",
        "data_train = data[:N_train, :]\n",
        "data_val = data[N_train:, :]\n",
        "dataloader = DataLoader(data_train, batch_size=50, shuffle=True)\n",
        "\n",
        "for _, sample in enumerate(dataloader):\n",
        "    print (sample.shape)\n",
        "    x = sample[:, :n_feature]\n",
        "    y = sample[:, n_feature:]\n",
        "    print (x.shape, y.shape)\n",
        "    print ('\\n')"
      ],
      "execution_count": 9,
      "outputs": [
        {
          "output_type": "stream",
          "text": [
            "torch.Size([50, 2])\n",
            "torch.Size([50, 1]) torch.Size([50, 1])\n",
            "\n",
            "\n",
            "torch.Size([50, 2])\n",
            "torch.Size([50, 1]) torch.Size([50, 1])\n",
            "\n",
            "\n",
            "torch.Size([50, 2])\n",
            "torch.Size([50, 1]) torch.Size([50, 1])\n",
            "\n",
            "\n",
            "torch.Size([50, 2])\n",
            "torch.Size([50, 1]) torch.Size([50, 1])\n",
            "\n",
            "\n",
            "torch.Size([50, 2])\n",
            "torch.Size([50, 1]) torch.Size([50, 1])\n",
            "\n",
            "\n",
            "torch.Size([50, 2])\n",
            "torch.Size([50, 1]) torch.Size([50, 1])\n",
            "\n",
            "\n",
            "torch.Size([50, 2])\n",
            "torch.Size([50, 1]) torch.Size([50, 1])\n",
            "\n",
            "\n",
            "torch.Size([50, 2])\n",
            "torch.Size([50, 1]) torch.Size([50, 1])\n",
            "\n",
            "\n",
            "torch.Size([50, 2])\n",
            "torch.Size([50, 1]) torch.Size([50, 1])\n",
            "\n",
            "\n",
            "torch.Size([50, 2])\n",
            "torch.Size([50, 1]) torch.Size([50, 1])\n",
            "\n",
            "\n",
            "torch.Size([50, 2])\n",
            "torch.Size([50, 1]) torch.Size([50, 1])\n",
            "\n",
            "\n",
            "torch.Size([50, 2])\n",
            "torch.Size([50, 1]) torch.Size([50, 1])\n",
            "\n",
            "\n",
            "torch.Size([50, 2])\n",
            "torch.Size([50, 1]) torch.Size([50, 1])\n",
            "\n",
            "\n",
            "torch.Size([50, 2])\n",
            "torch.Size([50, 1]) torch.Size([50, 1])\n",
            "\n",
            "\n",
            "torch.Size([50, 2])\n",
            "torch.Size([50, 1]) torch.Size([50, 1])\n",
            "\n",
            "\n",
            "torch.Size([50, 2])\n",
            "torch.Size([50, 1]) torch.Size([50, 1])\n",
            "\n",
            "\n"
          ],
          "name": "stdout"
        }
      ]
    },
    {
      "cell_type": "code",
      "metadata": {
        "id": "zfzX3jwHg9Kz",
        "colab_type": "code",
        "colab": {
          "base_uri": "https://localhost:8080/",
          "height": 1000
        },
        "outputId": "69209b91-dcb4-4c24-a245-7f0eec0cf4ea"
      },
      "source": [
        "## That looks good. But how do we train NNs with SGD exactly?\n",
        "\n",
        "# We need a model, a loss function and an optimizer!\n",
        "model = MyNeuralNet(n_feature, n_label)\n",
        "loss = nn.MSELoss(reduction='mean')\n",
        "learning_rate = 1e-2\n",
        "opt = optim.SGD(model.parameters(), lr=learning_rate)\n",
        "\n",
        "# How many times should we go over the whole dataset?\n",
        "epochs = 10000\n",
        "\n",
        "# an empty list to collect the training loss\n",
        "J_train_all = []\n",
        "\n",
        "for i in range(epochs):\n",
        "    for _, sample in enumerate(dataloader):\n",
        "        # set model to training mode\n",
        "        model.train()\n",
        "        # clear gradients information from the previous iteration\n",
        "        opt.zero_grad()\n",
        "        # read out features and labels from the mini-batch\n",
        "        x = sample[:, :n_feature]\n",
        "        y = sample[:, n_feature:]\n",
        "        # predict the labels using the model\n",
        "        y_hat = model(x)\n",
        "        # compute the loss \n",
        "        J = loss(y_hat, y)\n",
        "        # compute the gradients\n",
        "        J.backward()\n",
        "        # update the parameters using the optimizer\n",
        "        opt.step()\n",
        "\n",
        "    # You might want to check the training loss from time to time...\n",
        "    if i % 100 == 0:\n",
        "        # set the model to evaluation mode\n",
        "        model.eval()\n",
        "        # we don't really need to compute the gradients here\n",
        "        # so temporally turn it off to accelerate the computation\n",
        "        with torch.no_grad():\n",
        "            J_train = loss(model(data_train[:, :n_feature]), data_train[:, n_feature:])\n",
        "            J_train_all.append(J_train)\n",
        "            print (J_train.numpy()) \n",
        "            # print() is ugly and slows down the code.\n",
        "            # Pro tips: Google the tqdm library and learn how to show a nicer training progress bar!  \n",
        "\n"
      ],
      "execution_count": 10,
      "outputs": [
        {
          "output_type": "stream",
          "text": [
            "2.8123121\n",
            "1.492702\n",
            "1.5442265\n",
            "1.4835545\n",
            "1.4799945\n",
            "1.4792931\n",
            "1.4745979\n",
            "1.4526007\n",
            "1.4433972\n",
            "1.4417465\n",
            "1.4225556\n",
            "1.3632237\n",
            "1.2530544\n",
            "0.89023757\n",
            "0.8504033\n",
            "0.7642511\n",
            "0.35395977\n",
            "0.2600141\n",
            "0.16271095\n",
            "0.1254012\n",
            "0.16197763\n",
            "0.09123699\n",
            "0.1416675\n",
            "0.20069057\n",
            "0.12287426\n",
            "0.08378901\n",
            "0.082128026\n",
            "0.069829255\n",
            "0.049982276\n",
            "0.16106696\n",
            "0.057325993\n",
            "0.14490828\n",
            "0.0459833\n",
            "0.041087113\n",
            "0.041683603\n",
            "0.10845075\n",
            "0.04189086\n",
            "0.04592088\n",
            "0.093445055\n",
            "0.062908515\n",
            "0.039363183\n",
            "0.03344591\n",
            "0.06555903\n",
            "0.033808783\n",
            "0.031944178\n",
            "0.033646256\n",
            "0.047821797\n",
            "0.06841887\n",
            "0.037241668\n",
            "0.038829766\n",
            "0.033185497\n",
            "0.034259297\n",
            "0.0380864\n",
            "0.03335887\n",
            "0.029583614\n",
            "0.030692969\n",
            "0.053266283\n",
            "0.032045122\n",
            "0.035611343\n",
            "0.041704506\n",
            "0.03389725\n",
            "0.032340813\n",
            "0.030141125\n",
            "0.027010566\n",
            "0.040060468\n",
            "0.026353365\n",
            "0.027741447\n",
            "0.032658692\n",
            "0.026443033\n",
            "0.02718072\n",
            "0.02860906\n",
            "0.041096125\n",
            "0.03392261\n",
            "0.06924297\n",
            "0.030355072\n",
            "0.024868011\n",
            "0.027009564\n",
            "0.028375909\n",
            "0.042536765\n",
            "0.053223774\n",
            "0.03613108\n",
            "0.03630582\n",
            "0.024174917\n",
            "0.027499786\n",
            "0.027266705\n",
            "0.02905526\n",
            "0.036652397\n",
            "0.024552284\n",
            "0.032992814\n",
            "0.032456208\n",
            "0.024855837\n",
            "0.03005658\n",
            "0.03300528\n",
            "0.032346733\n",
            "0.024010625\n",
            "0.026754504\n",
            "0.027419062\n",
            "0.037524868\n",
            "0.04061106\n",
            "0.027275825\n"
          ],
          "name": "stdout"
        }
      ]
    },
    {
      "cell_type": "code",
      "metadata": {
        "id": "qmAdFY8W3j4s",
        "colab_type": "code",
        "colab": {
          "base_uri": "https://localhost:8080/",
          "height": 279
        },
        "outputId": "d39edb37-7c82-4242-a025-23cbe42bffb0"
      },
      "source": [
        "## Plot the loss curve\n",
        "\n",
        "plt.plot(np.arange(0, epochs,100), J_train_all)\n",
        "plt.grid()\n",
        "plt.xlabel('Epochs')\n",
        "plt.ylabel('Training loss');"
      ],
      "execution_count": 11,
      "outputs": [
        {
          "output_type": "display_data",
          "data": {
            "image/png": "[encoded data removed]",
            "text/plain": [
              "<Figure size 432x288 with 1 Axes>"
            ]
          },
          "metadata": {
            "tags": [],
            "needs_background": "dark"
          }
        }
      ]
    },
    {
      "cell_type": "code",
      "metadata": {
        "id": "FPRvAmLZkcKv",
        "colab_type": "code",
        "colab": {
          "base_uri": "https://localhost:8080/",
          "height": 279
        },
        "outputId": "0fc2d1e6-cc8f-4b15-cafc-a131e19886fb"
      },
      "source": [
        "## Let's test our trained model\n",
        "X_val = data_val[:, :n_feature]\n",
        "y_val = data_val[:, n_feature:]\n",
        "\n",
        "model.eval()\n",
        "with torch.no_grad():\n",
        "    y_hat = model(X_val)\n",
        "\n",
        "plt.xlabel('x')\n",
        "plt.ylabel('y')\n",
        "plt.scatter(X_val.numpy(), y_val.numpy(), marker='o', label='ground truth')\n",
        "plt.scatter(X_val.numpy(), y_hat.numpy(), marker='x', label='predicted')\n",
        "plt.grid()\n",
        "plt.legend();"
      ],
      "execution_count": 12,
      "outputs": [
        {
          "output_type": "display_data",
          "data": {
            "image/png": "[encoded data removed]",
            "text/plain": [
              "<Figure size 432x288 with 1 Axes>"
            ]
          },
          "metadata": {
            "tags": [],
            "needs_background": "dark"
          }
        }
      ]
    }
  ]
}