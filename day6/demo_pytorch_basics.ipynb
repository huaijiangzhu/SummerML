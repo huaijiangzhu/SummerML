{
  "nbformat": 4,
  "nbformat_minor": 0,
  "metadata": {
    "colab": {
      "name": "demo_pytorch_basic.ipynb",
      "provenance": [],
      "collapsed_sections": [],
      "authorship_tag": "ABX9TyMAmkZj1IxPOYwOrqxl3a1l",
      "include_colab_link": true
    },
    "kernelspec": {
      "name": "python3",
      "display_name": "Python 3"
    }
  },
  "cells": [
    {
      "cell_type": "markdown",
      "metadata": {
        "id": "view-in-github",
        "colab_type": "text"
      },
      "source": [
        "<a href=\"https://colab.research.google.com/github/huaijiangzhu/SummerML/blob/master/day6/demo_pytorch_basic.ipynb\" target=\"_parent\"><img src=\"https://colab.research.google.com/assets/colab-badge.svg\" alt=\"Open In Colab\"/></a>"
      ]
    },
    {
      "cell_type": "code",
      "metadata": {
        "id": "cY_r_kn5ZRED",
        "colab_type": "code",
        "colab": {}
      },
      "source": [
        "import numpy as np\n",
        "import pandas as pd\n",
        "import matplotlib.pyplot as plt\n",
        "plt.rc_context({'axes.edgecolor':'white', 'xtick.color':'white', 'axes.labelcolor':'white', 'ytick.color':'white'});"
      ],
      "execution_count": 1,
      "outputs": []
    },
    {
      "cell_type": "code",
      "metadata": {
        "id": "kcCe6yT1T-GN",
        "colab_type": "code",
        "colab": {}
      },
      "source": [
        "import torch\n",
        "import torch.nn as nn\n",
        "import torch.optim as optim\n",
        "from torch.utils.data import DataLoader"
      ],
      "execution_count": 2,
      "outputs": []
    },
    {
      "cell_type": "code",
      "metadata": {
        "id": "opFoHHRoUU5t",
        "colab_type": "code",
        "colab": {
          "base_uri": "https://localhost:8080/",
          "height": 153
        },
        "outputId": "af99e3a7-eade-495e-be8a-3304afa77c00"
      },
      "source": [
        "## Pytorch tensors are very similear to numpy arrays\n",
        "X = torch.Tensor([[1, 2, 3], [4, 5, 6]])\n",
        "print (X)\n",
        "\n",
        "## You can convert it into a numpy array\n",
        "Xnp = X.cpu().detach().numpy()\n",
        "print (type(Xnp),'\\n', Xnp)\n",
        "\n",
        "## You can also convert a numpy array to a pytorch tensor\n",
        "X = torch.Tensor(Xnp)\n",
        "print (type(X),'\\n', X)\n"
      ],
      "execution_count": 3,
      "outputs": [
        {
          "output_type": "stream",
          "text": [
            "tensor([[1., 2., 3.],\n",
            "        [4., 5., 6.]])\n",
            "<class 'numpy.ndarray'> \n",
            " [[1. 2. 3.]\n",
            " [4. 5. 6.]]\n",
            "<class 'torch.Tensor'> \n",
            " tensor([[1., 2., 3.],\n",
            "        [4., 5., 6.]])\n"
          ],
          "name": "stdout"
        }
      ]
    },
    {
      "cell_type": "code",
      "metadata": {
        "id": "XxycidIwUsXz",
        "colab_type": "code",
        "colab": {
          "base_uri": "https://localhost:8080/",
          "height": 198
        },
        "outputId": "ae1de0b0-0159-47a0-a2d3-995dc30dd2fc"
      },
      "source": [
        "## .cpu() is required when the tensor is stored on a GPU\n",
        "## .detach() is required when the tensor is tracking gradient information\n",
        "## The folloing code will NOT work without .detach().\n",
        "tensor1 = torch.tensor([1.0,2.0], requires_grad=True)\n",
        "tensor1 = tensor1.numpy()"
      ],
      "execution_count": 4,
      "outputs": [
        {
          "output_type": "error",
          "ename": "RuntimeError",
          "evalue": "ignored",
          "traceback": [
            "\u001b[0;31m---------------------------------------------------------------------------\u001b[0m",
            "\u001b[0;31mRuntimeError\u001b[0m                              Traceback (most recent call last)",
            "\u001b[0;32m<ipython-input-4-6ccbb6c8179d>\u001b[0m in \u001b[0;36m<module>\u001b[0;34m()\u001b[0m\n\u001b[1;32m      3\u001b[0m \u001b[0;31m## The folloing code will NOT work without .detach().\u001b[0m\u001b[0;34m\u001b[0m\u001b[0;34m\u001b[0m\u001b[0;34m\u001b[0m\u001b[0m\n\u001b[1;32m      4\u001b[0m \u001b[0mtensor1\u001b[0m \u001b[0;34m=\u001b[0m \u001b[0mtorch\u001b[0m\u001b[0;34m.\u001b[0m\u001b[0mtensor\u001b[0m\u001b[0;34m(\u001b[0m\u001b[0;34m[\u001b[0m\u001b[0;36m1.0\u001b[0m\u001b[0;34m,\u001b[0m\u001b[0;36m2.0\u001b[0m\u001b[0;34m]\u001b[0m\u001b[0;34m,\u001b[0m \u001b[0mrequires_grad\u001b[0m\u001b[0;34m=\u001b[0m\u001b[0;32mTrue\u001b[0m\u001b[0;34m)\u001b[0m\u001b[0;34m\u001b[0m\u001b[0;34m\u001b[0m\u001b[0m\n\u001b[0;32m----> 5\u001b[0;31m \u001b[0mtensor1\u001b[0m \u001b[0;34m=\u001b[0m \u001b[0mtensor1\u001b[0m\u001b[0;34m.\u001b[0m\u001b[0mnumpy\u001b[0m\u001b[0;34m(\u001b[0m\u001b[0;34m)\u001b[0m\u001b[0;34m\u001b[0m\u001b[0;34m\u001b[0m\u001b[0m\n\u001b[0m",
            "\u001b[0;31mRuntimeError\u001b[0m: Can't call numpy() on Variable that requires grad. Use var.detach().numpy() instead."
          ]
        }
      ]
    },
    {
      "cell_type": "code",
      "metadata": {
        "id": "Iev9nFbQWUPm",
        "colab_type": "code",
        "colab": {
          "base_uri": "https://localhost:8080/",
          "height": 34
        },
        "outputId": "df852885-ca95-4c22-f3a1-b78000f0538d"
      },
      "source": [
        "## requires_grad is by default set to False unless the tensor is a model parameter\n",
        "print (X.requires_grad)"
      ],
      "execution_count": 5,
      "outputs": [
        {
          "output_type": "stream",
          "text": [
            "False\n"
          ],
          "name": "stdout"
        }
      ]
    },
    {
      "cell_type": "code",
      "metadata": {
        "id": "wGBRliEwXlel",
        "colab_type": "code",
        "colab": {
          "base_uri": "https://localhost:8080/",
          "height": 279
        },
        "outputId": "02408722-dd56-4cef-f3c3-418f48e76d74"
      },
      "source": [
        "## the torch.nn module implements many useful functions\n",
        "sigmoid = nn.Sigmoid()\n",
        "relu = nn.ReLU()\n",
        "tanh = nn.Tanh()\n",
        "\n",
        "X = torch.linspace(-3, 3, 100)\n",
        "\n",
        "plt.plot(X.numpy(), relu(X).numpy(), label='ReLU');\n",
        "plt.plot(X.numpy(), tanh(X).numpy(), label='Tanh');\n",
        "plt.plot(X.numpy(), sigmoid(X).numpy(), label='Sigmoid');\n",
        "plt.grid()\n",
        "plt.xlabel('x')\n",
        "plt.ylabel('y')\n",
        "plt.legend(loc='upper left');"
      ],
      "execution_count": 6,
      "outputs": [
        {
          "output_type": "display_data",
          "data": {
            "image/png": "[encoded data removed]",
            "text/plain": [
              "<Figure size 432x288 with 1 Axes>"
            ]
          },
          "metadata": {
            "tags": [],
            "needs_background": "dark"
          }
        }
      ]
    },
    {
      "cell_type": "code",
      "metadata": {
        "id": "S6ooZAKVZs1k",
        "colab_type": "code",
        "colab": {
          "base_uri": "https://localhost:8080/",
          "height": 510
        },
        "outputId": "8fb6866c-7e0a-4a5f-aa14-f4174c4198ad"
      },
      "source": [
        "## the torch.nn module implements many useful functions: layers\n",
        "n_samples = 5\n",
        "n_in = 2\n",
        "n_out = 3\n",
        "fully_connected_layer = nn.Linear(n_in, n_out)\n",
        "\n",
        "## the weights and bias of this layer is randomly initilized\n",
        "## also notice that the requires_grad flag is set to True by default\n",
        "print (fully_connected_layer.weight, '\\n', fully_connected_layer.bias)\n",
        "print ('\\n')\n",
        "\n",
        "## The layer takes in the inputs arranged in rows and gives the outputs likewise\n",
        "X = torch.Tensor(n_samples, n_in) # generate some random inputs\n",
        "print (X.shape, '\\n', X, '\\n')\n",
        "\n",
        "y = fully_connected_layer(X)\n",
        "print (y.shape, '\\n', y, '\\n')\n",
        "\n",
        "## We can also compose pytorch functions\n",
        "softmax = nn.Softmax(dim=1)\n",
        "y = softmax(fully_connected_layer(X))\n",
        "print (y.shape, '\\n', y, '\\n')\n"
      ],
      "execution_count": 20,
      "outputs": [
        {
          "output_type": "stream",
          "text": [
            "Parameter containing:\n",
            "tensor([[-0.4601, -0.3180],\n",
            "        [-0.2156, -0.1578],\n",
            "        [-0.2958, -0.0333]], requires_grad=True) \n",
            " Parameter containing:\n",
            "tensor([ 0.0947, -0.4209, -0.1691], requires_grad=True)\n",
            "\n",
            "\n",
            "torch.Size([5, 2]) \n",
            " tensor([[4.0461e-36, 0.0000e+00],\n",
            "        [2.1563e-01, 1.5784e-01],\n",
            "        [2.9580e-01, 3.3278e-02],\n",
            "        [1.7924e-01, 2.0804e-01],\n",
            "        [1.5265e-01, 1.8259e-01]]) \n",
            "\n",
            "torch.Size([5, 3]) \n",
            " tensor([[ 0.0947, -0.4209, -0.1691],\n",
            "        [-0.0547, -0.4923, -0.2381],\n",
            "        [-0.0520, -0.4899, -0.2577],\n",
            "        [-0.0539, -0.4923, -0.2290],\n",
            "        [-0.0336, -0.4826, -0.2203]], grad_fn=<AddmmBackward>) \n",
            "\n",
            "torch.Size([5, 3]) \n",
            " tensor([[0.4228, 0.2525, 0.3248],\n",
            "        [0.4035, 0.2605, 0.3359],\n",
            "        [0.4066, 0.2624, 0.3310],\n",
            "        [0.4025, 0.2596, 0.3379],\n",
            "        [0.4052, 0.2586, 0.3362]], grad_fn=<SoftmaxBackward>) \n",
            "\n"
          ],
          "name": "stdout"
        }
      ]
    },
    {
      "cell_type": "code",
      "metadata": {
        "id": "Jjg3HoQwcTLK",
        "colab_type": "code",
        "colab": {
          "base_uri": "https://localhost:8080/",
          "height": 34
        },
        "outputId": "b3c00726-9044-4035-ecbb-22229c3acffa"
      },
      "source": [
        "## nn.Module provides a template for a neural network architecture\n",
        "class MyNeuralNet(nn.Module):\n",
        "    def __init__(self, n_in, n_out):\n",
        "        super().__init__()\n",
        "\n",
        "        self.fc1 = nn.Linear(n_in, 100)\n",
        "        self.fc2 = nn.Linear(100, 200)\n",
        "        self.fc3 = nn.Linear(200, n_out)\n",
        "        self.sigmoid = nn.Sigmoid()\n",
        " \n",
        "    \n",
        "    def forward(self, inputs):\n",
        "\n",
        "        outputs = self.sigmoid(self.fc1(inputs))\n",
        "        outputs = self.sigmoid(self.fc2(outputs))\n",
        "        outputs = self.fc3(outputs)\n",
        "\n",
        "        return outputs\n",
        "\n",
        "model = MyNeuralNet(n_in, n_out)\n",
        "y = model(X)\n",
        "print (y.shape)"
      ],
      "execution_count": 43,
      "outputs": [
        {
          "output_type": "stream",
          "text": [
            "torch.Size([5, 3])\n"
          ],
          "name": "stdout"
        }
      ]
    },
    {
      "cell_type": "markdown",
      "metadata": {
        "id": "p6D4k6R1fsNP",
        "colab_type": "text"
      },
      "source": [
        "## Pause for SGD lecture"
      ]
    },
    {
      "cell_type": "code",
      "metadata": {
        "id": "bpwc_B6mgGDS",
        "colab_type": "code",
        "colab": {
          "base_uri": "https://localhost:8080/",
          "height": 1000
        },
        "outputId": "dc383aa5-468e-45f6-94fa-17939c991671"
      },
      "source": [
        "## How do we randomly select a mini-batch from the dataset? Use pytorch dataloader!\n",
        "## Let's show this on a randomly generated dataset.\n",
        "from torch.utils.data import DataLoader\n",
        "\n",
        "n_feature = 1\n",
        "n_label = 1\n",
        "N = 1000\n",
        "N_train = 800\n",
        "N_val = 200\n",
        "X = 10 * (torch.rand(N, n_feature) - 0.5)\n",
        "y = X * torch.cos(X) + torch.sin(X) ** 2 + 0.3*torch.rand(N, n_label)\n",
        "\n",
        "data = torch.cat((X, y), dim=1)\n",
        "data_train = data[:N_train, :]\n",
        "data_val = data[N_train:, :]\n",
        "dataloader = DataLoader(data_train, batch_size=50, shuffle=True)\n",
        "\n",
        "for _, sample in enumerate(dataloader):\n",
        "    print (sample.shape)\n",
        "    x = sample[:, :n_feature]\n",
        "    y = sample[:, n_feature:]\n",
        "    print (x.shape, y.shape)\n",
        "    print ('\\n')\n",
        "\n"
      ],
      "execution_count": 77,
      "outputs": [
        {
          "output_type": "stream",
          "text": [
            "torch.Size([50, 2])\n",
            "torch.Size([50, 1]) torch.Size([50, 1])\n",
            "\n",
            "\n",
            "torch.Size([50, 2])\n",
            "torch.Size([50, 1]) torch.Size([50, 1])\n",
            "\n",
            "\n",
            "torch.Size([50, 2])\n",
            "torch.Size([50, 1]) torch.Size([50, 1])\n",
            "\n",
            "\n",
            "torch.Size([50, 2])\n",
            "torch.Size([50, 1]) torch.Size([50, 1])\n",
            "\n",
            "\n",
            "torch.Size([50, 2])\n",
            "torch.Size([50, 1]) torch.Size([50, 1])\n",
            "\n",
            "\n",
            "torch.Size([50, 2])\n",
            "torch.Size([50, 1]) torch.Size([50, 1])\n",
            "\n",
            "\n",
            "torch.Size([50, 2])\n",
            "torch.Size([50, 1]) torch.Size([50, 1])\n",
            "\n",
            "\n",
            "torch.Size([50, 2])\n",
            "torch.Size([50, 1]) torch.Size([50, 1])\n",
            "\n",
            "\n",
            "torch.Size([50, 2])\n",
            "torch.Size([50, 1]) torch.Size([50, 1])\n",
            "\n",
            "\n",
            "torch.Size([50, 2])\n",
            "torch.Size([50, 1]) torch.Size([50, 1])\n",
            "\n",
            "\n",
            "torch.Size([50, 2])\n",
            "torch.Size([50, 1]) torch.Size([50, 1])\n",
            "\n",
            "\n",
            "torch.Size([50, 2])\n",
            "torch.Size([50, 1]) torch.Size([50, 1])\n",
            "\n",
            "\n",
            "torch.Size([50, 2])\n",
            "torch.Size([50, 1]) torch.Size([50, 1])\n",
            "\n",
            "\n",
            "torch.Size([50, 2])\n",
            "torch.Size([50, 1]) torch.Size([50, 1])\n",
            "\n",
            "\n",
            "torch.Size([50, 2])\n",
            "torch.Size([50, 1]) torch.Size([50, 1])\n",
            "\n",
            "\n",
            "torch.Size([50, 2])\n",
            "torch.Size([50, 1]) torch.Size([50, 1])\n",
            "\n",
            "\n"
          ],
          "name": "stdout"
        }
      ]
    },
    {
      "cell_type": "code",
      "metadata": {
        "id": "zfzX3jwHg9Kz",
        "colab_type": "code",
        "colab": {
          "base_uri": "https://localhost:8080/",
          "height": 1000
        },
        "outputId": "cd1649fc-71cb-4232-fa11-8d1de3bce38c"
      },
      "source": [
        "## That looks good. But how do we train NNs with SGD exactly?\n",
        "\n",
        "# We need a model, a loss function and an optimizer!\n",
        "model = MyNeuralNet(n_feature, n_label)\n",
        "loss = nn.MSELoss(reduction='mean')\n",
        "learning_rate = 1e-2\n",
        "opt = optim.SGD(model.parameters(), lr=learning_rate)\n",
        "\n",
        "# How many times should we go over the whole dataset?\n",
        "epochs = 10000\n",
        "\n",
        "# an empty list to collect the training loss\n",
        "J_train_all = []\n",
        "\n",
        "for i in range(epochs):\n",
        "    for _, sample in enumerate(dataloader):\n",
        "        # set model to training mode\n",
        "        model.train()\n",
        "        # clear gradients information from the previous iteration\n",
        "        opt.zero_grad()\n",
        "        # read out features and labels from the mini-batch\n",
        "        x = sample[:, :n_feature]\n",
        "        y = sample[:, n_feature:]\n",
        "        # predict the labels using the model\n",
        "        y_hat = model(x)\n",
        "        # compute the loss \n",
        "        J = loss(y_hat, y)\n",
        "        # compute the gradients\n",
        "        J.backward()\n",
        "        # update the parameters using the optimizer\n",
        "        opt.step()\n",
        "\n",
        "    # You might want to check the training loss from time to time...\n",
        "    if i % 100 == 0:\n",
        "        # set the model to evaluation mode\n",
        "        model.eval()\n",
        "        # we don't really need to compute the gradients here\n",
        "        # so temporally turn it off to accelerate the computation\n",
        "        with torch.no_grad():\n",
        "            J_train = loss(model(data_train[:, :n_feature]), data_train[:, n_feature:])\n",
        "            J_train_all.append(J_train)\n",
        "            print (J_train.numpy()) \n",
        "            # print() is ugly and slows down the code.\n",
        "            # Pro tips: Google the tqdm library and learn how to show a nicer training progress bar!  \n",
        "\n"
      ],
      "execution_count": 81,
      "outputs": [
        {
          "output_type": "stream",
          "text": [
            "2.8564057\n",
            "1.5842242\n",
            "1.596705\n",
            "1.5476329\n",
            "1.5510983\n",
            "1.520989\n",
            "1.5181102\n",
            "1.4750099\n",
            "1.4287097\n",
            "1.2672067\n",
            "1.0148014\n",
            "0.6426188\n",
            "0.541828\n",
            "0.32615158\n",
            "0.31841964\n",
            "0.24303621\n",
            "0.3890375\n",
            "0.2443327\n",
            "0.21642639\n",
            "0.08052536\n",
            "0.13652276\n",
            "0.071089104\n",
            "0.056446567\n",
            "0.05010632\n",
            "0.05854945\n",
            "0.055563193\n",
            "0.047255516\n",
            "0.05945028\n",
            "0.041951448\n",
            "0.04359637\n",
            "0.048162807\n",
            "0.15431078\n",
            "0.0607613\n",
            "0.034151144\n",
            "0.030962909\n",
            "0.034521125\n",
            "0.025307871\n",
            "0.03594248\n",
            "0.04101958\n",
            "0.10162159\n",
            "0.02604925\n",
            "0.024193091\n",
            "0.022277893\n",
            "0.026792321\n",
            "0.019612012\n",
            "0.022731017\n",
            "0.022353752\n",
            "0.032934085\n",
            "0.021001084\n",
            "0.025226628\n",
            "0.0861516\n",
            "0.025993664\n",
            "0.022352017\n",
            "0.01792523\n",
            "0.03038866\n",
            "0.027551662\n",
            "0.025630202\n",
            "0.01791949\n",
            "0.014328824\n",
            "0.039179962\n",
            "0.02063087\n",
            "0.032069396\n",
            "0.015463501\n",
            "0.018719459\n",
            "0.020679917\n",
            "0.018300468\n",
            "0.012376952\n",
            "0.016364511\n",
            "0.027763536\n",
            "0.020875774\n",
            "0.013619399\n",
            "0.015690338\n",
            "0.011788129\n",
            "0.013945008\n",
            "0.01749019\n",
            "0.028207675\n",
            "0.016811296\n",
            "0.019688739\n",
            "0.024980037\n",
            "0.015984682\n",
            "0.02523653\n",
            "0.012923284\n",
            "0.034510735\n",
            "0.02538858\n",
            "0.013375393\n",
            "0.023964899\n",
            "0.01661976\n",
            "0.017965486\n",
            "0.0110077765\n",
            "0.014160266\n",
            "0.020071983\n",
            "0.034864753\n",
            "0.009406625\n",
            "0.00920837\n",
            "0.0092399595\n",
            "0.012748368\n",
            "0.011190504\n",
            "0.011679789\n",
            "0.009290614\n",
            "0.010855222\n"
          ],
          "name": "stdout"
        }
      ]
    },
    {
      "cell_type": "code",
      "metadata": {
        "id": "qmAdFY8W3j4s",
        "colab_type": "code",
        "colab": {
          "base_uri": "https://localhost:8080/",
          "height": 279
        },
        "outputId": "456999f1-f731-4ed1-b9c7-6fc16c06bbb5"
      },
      "source": [
        "## Plot the loss curve\n",
        "\n",
        "plt.plot(np.arange(0, epochs,100), J_train_all)\n",
        "plt.grid()\n",
        "plt.xlabel('Epochs')\n",
        "plt.ylabel('Training loss');"
      ],
      "execution_count": 88,
      "outputs": [
        {
          "output_type": "display_data",
          "data": {
            "image/png": "[encoded data removed]",
            "text/plain": [
              "<Figure size 432x288 with 1 Axes>"
            ]
          },
          "metadata": {
            "tags": [],
            "needs_background": "dark"
          }
        }
      ]
    },
    {
      "cell_type": "code",
      "metadata": {
        "id": "FPRvAmLZkcKv",
        "colab_type": "code",
        "colab": {
          "base_uri": "https://localhost:8080/",
          "height": 283
        },
        "outputId": "35b9f2c6-c257-4969-ae4a-f09ee482faee"
      },
      "source": [
        "## Let's test our trained model\n",
        "X_val = data_val[:, :n_feature]\n",
        "y_val = data_val[:, n_feature:]\n",
        "\n",
        "model.eval()\n",
        "with torch.no_grad():\n",
        "    y_hat = model(X_val)\n",
        "\n",
        "plt.xlabel('x')\n",
        "plt.ylabel('y')\n",
        "plt.scatter(X_val.numpy(), y_val.numpy(), marker='o', label='ground truth')\n",
        "plt.scatter(X_val.numpy(), y_hat.numpy(), marker='x', label='predicted')\n",
        "plt.grid()\n",
        "plt.legend();"
      ],
      "execution_count": 80,
      "outputs": [
        {
          "output_type": "display_data",
          "data": {
            "image/png": "[encoded data removed]",
            "text/plain": [
              "<Figure size 432x288 with 1 Axes>"
            ]
          },
          "metadata": {
            "tags": [],
            "needs_background": "dark"
          }
        }
      ]
    }
  ]
}