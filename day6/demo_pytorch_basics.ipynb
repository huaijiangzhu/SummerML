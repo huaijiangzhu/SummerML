{
  "nbformat": 4,
  "nbformat_minor": 0,
  "metadata": {
    "colab": {
      "name": "demo_pytorch_basic.ipynb",
      "provenance": [],
      "collapsed_sections": [],
      "include_colab_link": true
    },
    "kernelspec": {
      "name": "python3",
      "display_name": "Python 3"
    }
  },
  "cells": [
    {
      "cell_type": "markdown",
      "metadata": {
        "id": "view-in-github",
        "colab_type": "text"
      },
      "source": [
        "<a href=\"https://colab.research.google.com/github/huaijiangzhu/SummerML/blob/master/day6/demo_pytorch_basics.ipynb\" target=\"_parent\"><img src=\"https://colab.research.google.com/assets/colab-badge.svg\" alt=\"Open In Colab\"/></a>"
      ]
    },
    {
      "cell_type": "code",
      "metadata": {
        "id": "cY_r_kn5ZRED",
        "colab_type": "code",
        "colab": {}
      },
      "source": [
        "import numpy as np\n",
        "import pandas as pd\n",
        "import matplotlib.pyplot as plt\n",
        "plt.rc_context({'axes.edgecolor':'white', 'xtick.color':'white', 'axes.labelcolor':'white', 'ytick.color':'white'});"
      ],
      "execution_count": null,
      "outputs": []
    },
    {
      "cell_type": "code",
      "metadata": {
        "id": "kcCe6yT1T-GN",
        "colab_type": "code",
        "colab": {}
      },
      "source": [
        "import torch\n",
        "import torch.nn as nn\n",
        "import torch.optim as optim\n",
        "from torch.utils.data import DataLoader"
      ],
      "execution_count": null,
      "outputs": []
    },
    {
      "cell_type": "code",
      "metadata": {
        "id": "opFoHHRoUU5t",
        "colab_type": "code",
        "colab": {
          "base_uri": "https://localhost:8080/",
          "height": 204
        },
        "outputId": "4b0f0bd1-1ca0-4a06-fe3d-0519a9099f32"
      },
      "source": [
        "## Pytorch tensors are very similear to numpy arrays\n",
        "X = torch.Tensor([[1, 2, 3], [4, 5, 6]])\n",
        "print (X, '\\n')\n",
        "\n",
        "## You can convert it into a numpy array\n",
        "Xnp = X.detach().numpy()\n",
        "print (type(Xnp),'\\n', Xnp, '\\n')\n",
        "\n",
        "## You can also convert a numpy array to a pytorch tensor\n",
        "X = torch.Tensor(Xnp)\n",
        "print (type(X),'\\n', X, '\\n')\n"
      ],
      "execution_count": null,
      "outputs": [
        {
          "output_type": "stream",
          "text": [
            "tensor([[1., 2., 3.],\n",
            "        [4., 5., 6.]]) \n",
            "\n",
            "<class 'numpy.ndarray'> \n",
            " [[1. 2. 3.]\n",
            " [4. 5. 6.]] \n",
            "\n",
            "<class 'torch.Tensor'> \n",
            " tensor([[1., 2., 3.],\n",
            "        [4., 5., 6.]]) \n",
            "\n"
          ],
          "name": "stdout"
        }
      ]
    },
    {
      "cell_type": "code",
      "metadata": {
        "id": "XxycidIwUsXz",
        "colab_type": "code",
        "colab": {}
      },
      "source": [
        "## .cpu() is required when the tensor is stored on a GPU\n",
        "## .detach() is required when the tensor is tracking gradient information\n",
        "## The folloing code will NOT work without .detach().\n",
        "tensor1 = torch.tensor([1.0,2.0], requires_grad=True, device=torch.device(\"cpu\"))\n",
        "tensor1 = tensor1.detach().numpy()"
      ],
      "execution_count": null,
      "outputs": []
    },
    {
      "cell_type": "code",
      "metadata": {
        "id": "Iev9nFbQWUPm",
        "colab_type": "code",
        "colab": {
          "base_uri": "https://localhost:8080/",
          "height": 34
        },
        "outputId": "caaa7dc4-20b0-4117-e311-81f67bbedbba"
      },
      "source": [
        "## requires_grad is by default set to False unless the tensor is a model parameter\n",
        "print (X.requires_grad)"
      ],
      "execution_count": null,
      "outputs": [
        {
          "output_type": "stream",
          "text": [
            "False\n"
          ],
          "name": "stdout"
        }
      ]
    },
    {
      "cell_type": "code",
      "metadata": {
        "id": "wGBRliEwXlel",
        "colab_type": "code",
        "colab": {
          "base_uri": "https://localhost:8080/",
          "height": 279
        },
        "outputId": "f49c8b82-c9d0-4bb9-85b8-0e4f80fd97cc"
      },
      "source": [
        "## the torch.nn module implements many useful functions\n",
        "sigmoid = nn.Sigmoid()\n",
        "relu = nn.ReLU()\n",
        "tanh = nn.Tanh()\n",
        "\n",
        "X = torch.linspace(-3, 3, 100)\n",
        "\n",
        "plt.plot(X.numpy(), relu(X).numpy(), label='ReLU');\n",
        "plt.plot(X.numpy(), tanh(X).numpy(), label='Tanh');\n",
        "plt.plot(X.numpy(), sigmoid(X).numpy(), label='Sigmoid');\n",
        "plt.grid()\n",
        "plt.xlabel('x')\n",
        "plt.ylabel('y')\n",
        "plt.legend(loc='upper left');\n",
        "plt.show()"
      ],
      "execution_count": null,
      "outputs": [
        {
          "output_type": "display_data",
          "data": {
            "image/png": "[encoded data removed]",
            "text/plain": [
              "<Figure size 432x288 with 1 Axes>"
            ]
          },
          "metadata": {
            "tags": [],
            "needs_background": "dark"
          }
        }
      ]
    },
    {
      "cell_type": "code",
      "metadata": {
        "id": "Agi7hPTqjgSb",
        "colab_type": "code",
        "colab": {}
      },
      "source": [
        "## the torch.nn module implements many useful functions: layers\n",
        "n_samples = 5   ## Number of samples\n",
        "n_in = 2        ## Number of features for each sample\n",
        "n_out = 3       ## Number of outputs\n",
        "fully_connected_layer = nn.Linear(n_in, n_out)"
      ],
      "execution_count": null,
      "outputs": []
    },
    {
      "cell_type": "code",
      "metadata": {
        "id": "sMmWLzogjgHa",
        "colab_type": "code",
        "colab": {}
      },
      "source": [
        "\n",
        "## the weights and bias of this layer is randomly initilized\n",
        "## also notice that the requires_grad flag is set to True by default\n",
        "print (fully_connected_layer.weight, '\\n', fully_connected_layer.bias)\n",
        "print ('\\n')"
      ],
      "execution_count": null,
      "outputs": []
    },
    {
      "cell_type": "code",
      "metadata": {
        "id": "23pq7BH4jf9g",
        "colab_type": "code",
        "colab": {}
      },
      "source": [
        "## The layer takes in the inputs arranged in rows and gives the outputs likewise\n",
        "X = torch.Tensor(n_samples, n_in) # generate some random inputs\n",
        "print (X.shape, '\\n', X, '\\n')\n",
        "\n",
        "y = fully_connected_layer(X)\n",
        "print (y.shape, '\\n', y, '\\n')"
      ],
      "execution_count": null,
      "outputs": []
    },
    {
      "cell_type": "code",
      "metadata": {
        "id": "S6ooZAKVZs1k",
        "colab_type": "code",
        "colab": {
          "base_uri": "https://localhost:8080/",
          "height": 510
        },
        "outputId": "ade4fa79-f119-4331-eb0e-4b760b8a3d3e"
      },
      "source": [
        "## We can also compose pytorch functions\n",
        "softmax = nn.Softmax(dim=1)\n",
        "y = softmax(fully_connected_layer(X))\n",
        "print (y.shape, '\\n', y, '\\n')\n"
      ],
      "execution_count": null,
      "outputs": [
        {
          "output_type": "stream",
          "text": [
            "Parameter containing:\n",
            "tensor([[0.6354, 0.5765],\n",
            "        [0.6018, 0.4450],\n",
            "        [0.3639, 0.0789]], requires_grad=True) \n",
            " Parameter containing:\n",
            "tensor([-0.6430, -0.1488,  0.6972], requires_grad=True)\n",
            "\n",
            "\n",
            "torch.Size([5, 2]) \n",
            " tensor([[9.6124e-36, 0.0000e+00],\n",
            "        [6.0180e-01, 4.4500e-01],\n",
            "        [3.6392e-01, 7.8940e-02],\n",
            "        [1.4013e-45, 0.0000e+00],\n",
            "        [0.0000e+00, 0.0000e+00]]) \n",
            "\n",
            "torch.Size([5, 3]) \n",
            " tensor([[-0.6430, -0.1488,  0.6972],\n",
            "        [-0.0041,  0.4114,  0.9513],\n",
            "        [-0.3663,  0.1054,  0.8358],\n",
            "        [-0.6430, -0.1488,  0.6972],\n",
            "        [-0.6430, -0.1488,  0.6972]], grad_fn=<AddmmBackward>) \n",
            "\n",
            "torch.Size([5, 3]) \n",
            " tensor([[0.1548, 0.2538, 0.5914],\n",
            "        [0.1955, 0.2962, 0.5083],\n",
            "        [0.1686, 0.2703, 0.5611],\n",
            "        [0.1548, 0.2538, 0.5914],\n",
            "        [0.1548, 0.2538, 0.5914]], grad_fn=<SoftmaxBackward>) \n",
            "\n"
          ],
          "name": "stdout"
        }
      ]
    },
    {
      "cell_type": "code",
      "metadata": {
        "id": "O1F_f1HDkQLH",
        "colab_type": "code",
        "colab": {
          "base_uri": "https://localhost:8080/",
          "height": 187
        },
        "outputId": "0ea3f140-6227-43db-e770-a1543d9ec5af"
      },
      "source": [
        "# Create tensors of shape (5, 3) and (5, 2).\n",
        "x = torch.randn(5, 3)\n",
        "y = torch.randn(5, 2)\n",
        "\n",
        "# Build a fully connected layer.\n",
        "linear = nn.Linear(3, 2)\n",
        "print ('w: ', linear.weight)\n",
        "print ('b: ', linear.bias)\n",
        "\n",
        "# Build loss function and optimizer.\n",
        "criterion = nn.MSELoss()\n",
        "optimizer = torch.optim.SGD(linear.parameters(), lr=0.01)\n",
        "\n",
        "# Forward pass.\n",
        "pred = linear(x)\n",
        "\n",
        "# Compute loss.\n",
        "loss = criterion(pred, y)\n",
        "print('loss: ', loss.item())\n",
        "\n",
        "# Backward pass.\n",
        "loss.backward()\n",
        "\n",
        "# Print out the gradients.\n",
        "print ('dL/dw: ', linear.weight.grad) \n",
        "print ('dL/db: ', linear.bias.grad)\n",
        "\n",
        "# 1-step gradient descent.\n",
        "optimizer.step()\n",
        "\n",
        "# You can also perform gradient descent at the low level.\n",
        "# linear.weight.data.sub_(0.01 * linear.weight.grad.data)\n",
        "# linear.bias.data.sub_(0.01 * linear.bias.grad.data)\n",
        "\n",
        "# Print out the loss after 1-step gradient descent.\n",
        "pred = linear(x)\n",
        "loss = criterion(pred, y)\n",
        "print('loss after 1 step optimization: ', loss.item())"
      ],
      "execution_count": null,
      "outputs": [
        {
          "output_type": "stream",
          "text": [
            "w:  Parameter containing:\n",
            "tensor([[-0.3734, -0.1094, -0.3772],\n",
            "        [ 0.1792, -0.1042, -0.5718]], requires_grad=True)\n",
            "b:  Parameter containing:\n",
            "tensor([0.0633, 0.0570], requires_grad=True)\n",
            "loss:  1.9315013885498047\n",
            "dL/dw:  tensor([[-0.1106, -0.7976, -0.7585],\n",
            "        [-0.0663, -0.4745, -0.8553]])\n",
            "dL/db:  tensor([ 0.2778, -0.8777])\n",
            "loss after 1 step optimization:  1.9013612270355225\n"
          ],
          "name": "stdout"
        }
      ]
    },
    {
      "cell_type": "code",
      "metadata": {
        "id": "Jjg3HoQwcTLK",
        "colab_type": "code",
        "colab": {
          "base_uri": "https://localhost:8080/",
          "height": 34
        },
        "outputId": "3e1c9256-cac8-4a67-ca13-e601e2d22375"
      },
      "source": [
        "## nn.Module provides a template for a neural network architecture\n",
        "class MyNeuralNet(nn.Module):\n",
        "    def __init__(self, n_in, n_out):\n",
        "        # invoke __init__() from the parent class\n",
        "        super().__init__()\n",
        "\n",
        "        # construct layers and activation function\n",
        "        self.fc1 = nn.Linear(n_in, 100)\n",
        "        self.fc2 = nn.Linear(100, 200)\n",
        "        self.fc3 = nn.Linear(200, n_out)\n",
        "        self.sigmoid = nn.Sigmoid()\n",
        " \n",
        "    \n",
        "    def forward(self, inputs):\n",
        "\n",
        "        # two hidden layers with sigmoid activation\n",
        "        outputs = self.sigmoid(self.fc1(inputs))\n",
        "        outputs = self.sigmoid(self.fc2(outputs))\n",
        "        # the output layer is a fully connected layer without special activation\n",
        "        outputs = self.fc3(outputs)\n",
        "\n",
        "        return outputs\n",
        "\n",
        "model = MyNeuralNet(n_in, n_out)\n",
        "y = model(X)\n",
        "print (y.shape)"
      ],
      "execution_count": null,
      "outputs": [
        {
          "output_type": "stream",
          "text": [
            "torch.Size([5, 3])\n"
          ],
          "name": "stdout"
        }
      ]
    },
    {
      "cell_type": "markdown",
      "metadata": {
        "id": "p6D4k6R1fsNP",
        "colab_type": "text"
      },
      "source": [
        "## Pause for SGD lecture"
      ]
    },
    {
      "cell_type": "code",
      "metadata": {
        "id": "ybHOhEGVcPfo",
        "colab_type": "code",
        "colab": {
          "base_uri": "https://localhost:8080/",
          "height": 833
        },
        "outputId": "95fe1f3c-646b-44e2-ee0a-59a8d5082f26"
      },
      "source": [
        "n_feature=1\n",
        "n_label=1\n",
        "class CustomDataset(torch.utils.data.Dataset):\n",
        "    def __init__(self,N):\n",
        "      self.n_label=n_label\n",
        "      self.n_feature=n_feature\n",
        "      self.N=N\n",
        "      self.input=10 * (torch.rand(self.N, self.n_feature) - 0.5)\n",
        "\n",
        "    def __getitem__(self, index):\n",
        "      X=self.input[index,:]\n",
        "      y = X * torch.cos(X) + torch.sin(X) ** 2 + 0.5*torch.rand(self.n_label)\n",
        "      sample = {'X': X, 'y': y}\n",
        "      return sample\n",
        "\n",
        "    def __len__(self):\n",
        "        return self.input.size()[0]\n",
        "\n",
        "train_dataset=CustomDataset(800)\n",
        "valid_dataset=CustomDataset(200)\n",
        "\n",
        "dataloader_train = DataLoader(train_dataset, batch_size=50, shuffle=True)\n",
        "dataloader_valid = DataLoader(valid_dataset, batch_size=200, shuffle=True)\n",
        "\n",
        "for idx, sample in enumerate(dataloader_train):\n",
        "    x = sample['X']\n",
        "    y = sample['y']\n",
        "    print (x.shape, y.shape)\n",
        "    print ('\\n')"
      ],
      "execution_count": null,
      "outputs": [
        {
          "output_type": "stream",
          "text": [
            "torch.Size([50, 1]) torch.Size([50, 1])\n",
            "\n",
            "\n",
            "torch.Size([50, 1]) torch.Size([50, 1])\n",
            "\n",
            "\n",
            "torch.Size([50, 1]) torch.Size([50, 1])\n",
            "\n",
            "\n",
            "torch.Size([50, 1]) torch.Size([50, 1])\n",
            "\n",
            "\n",
            "torch.Size([50, 1]) torch.Size([50, 1])\n",
            "\n",
            "\n",
            "torch.Size([50, 1]) torch.Size([50, 1])\n",
            "\n",
            "\n",
            "torch.Size([50, 1]) torch.Size([50, 1])\n",
            "\n",
            "\n",
            "torch.Size([50, 1]) torch.Size([50, 1])\n",
            "\n",
            "\n",
            "torch.Size([50, 1]) torch.Size([50, 1])\n",
            "\n",
            "\n",
            "torch.Size([50, 1]) torch.Size([50, 1])\n",
            "\n",
            "\n",
            "torch.Size([50, 1]) torch.Size([50, 1])\n",
            "\n",
            "\n",
            "torch.Size([50, 1]) torch.Size([50, 1])\n",
            "\n",
            "\n",
            "torch.Size([50, 1]) torch.Size([50, 1])\n",
            "\n",
            "\n",
            "torch.Size([50, 1]) torch.Size([50, 1])\n",
            "\n",
            "\n",
            "torch.Size([50, 1]) torch.Size([50, 1])\n",
            "\n",
            "\n",
            "torch.Size([50, 1]) torch.Size([50, 1])\n",
            "\n",
            "\n"
          ],
          "name": "stdout"
        }
      ]
    },
    {
      "cell_type": "code",
      "metadata": {
        "id": "bpwc_B6mgGDS",
        "colab_type": "code",
        "colab": {
          "base_uri": "https://localhost:8080/",
          "height": 1000
        },
        "outputId": "d1f9a294-9cdf-48e6-9571-50f8583b640e"
      },
      "source": [
        "## How do we randomly select a mini-batch from the dataset? Use pytorch dataloader!\n",
        "## Let's show this on a randomly generated dataset.\n",
        "from torch.utils.data import DataLoader\n",
        "\n",
        "n_feature = 1\n",
        "n_label = 1\n",
        "N = 1000\n",
        "N_train = 800\n",
        "N_val = 200\n",
        "X = 10 * (torch.rand(N, n_feature) - 0.5)\n",
        "y = X * torch.cos(X) + torch.sin(X) ** 2 + 0.5*torch.rand(N, n_label)\n",
        "\n",
        "data = torch.cat((X, y), dim=1)\n",
        "data_train = data[:N_train, :]\n",
        "data_val = data[N_train:, :]\n",
        "dataloader = DataLoader(data_train, batch_size=50, shuffle=True)\n",
        "\n",
        "for _, sample in enumerate(dataloader):\n",
        "    print (sample.shape)\n",
        "    x = sample[:, :n_feature]\n",
        "    y = sample[:, n_feature:]\n",
        "    print (x.shape, y.shape)\n",
        "    print ('\\n')"
      ],
      "execution_count": null,
      "outputs": [
        {
          "output_type": "stream",
          "text": [
            "torch.Size([50, 2])\n",
            "torch.Size([50, 1]) torch.Size([50, 1])\n",
            "\n",
            "\n",
            "torch.Size([50, 2])\n",
            "torch.Size([50, 1]) torch.Size([50, 1])\n",
            "\n",
            "\n",
            "torch.Size([50, 2])\n",
            "torch.Size([50, 1]) torch.Size([50, 1])\n",
            "\n",
            "\n",
            "torch.Size([50, 2])\n",
            "torch.Size([50, 1]) torch.Size([50, 1])\n",
            "\n",
            "\n",
            "torch.Size([50, 2])\n",
            "torch.Size([50, 1]) torch.Size([50, 1])\n",
            "\n",
            "\n",
            "torch.Size([50, 2])\n",
            "torch.Size([50, 1]) torch.Size([50, 1])\n",
            "\n",
            "\n",
            "torch.Size([50, 2])\n",
            "torch.Size([50, 1]) torch.Size([50, 1])\n",
            "\n",
            "\n",
            "torch.Size([50, 2])\n",
            "torch.Size([50, 1]) torch.Size([50, 1])\n",
            "\n",
            "\n",
            "torch.Size([50, 2])\n",
            "torch.Size([50, 1]) torch.Size([50, 1])\n",
            "\n",
            "\n",
            "torch.Size([50, 2])\n",
            "torch.Size([50, 1]) torch.Size([50, 1])\n",
            "\n",
            "\n",
            "torch.Size([50, 2])\n",
            "torch.Size([50, 1]) torch.Size([50, 1])\n",
            "\n",
            "\n",
            "torch.Size([50, 2])\n",
            "torch.Size([50, 1]) torch.Size([50, 1])\n",
            "\n",
            "\n",
            "torch.Size([50, 2])\n",
            "torch.Size([50, 1]) torch.Size([50, 1])\n",
            "\n",
            "\n",
            "torch.Size([50, 2])\n",
            "torch.Size([50, 1]) torch.Size([50, 1])\n",
            "\n",
            "\n",
            "torch.Size([50, 2])\n",
            "torch.Size([50, 1]) torch.Size([50, 1])\n",
            "\n",
            "\n",
            "torch.Size([50, 2])\n",
            "torch.Size([50, 1]) torch.Size([50, 1])\n",
            "\n",
            "\n"
          ],
          "name": "stdout"
        }
      ]
    },
    {
      "cell_type": "markdown",
      "metadata": {
        "id": "UqH3R14DNRzX",
        "colab_type": "text"
      },
      "source": [
        "## Pipeline\n",
        "\n",
        "*   Define the dataloader\n",
        "*   Define the model\n",
        "*   Define the loss function to use\n",
        "*   Define the optimization algorithm (for e.g., SGD)\n",
        "*   For every minibatch:\n",
        "        1.   Clear gradient information from previous iteration\n",
        "        2.   Forward pass through the model and compute the loss\n",
        "        3.   Backpropogate the error to compute the gradient update for each parameter\n",
        "        4.   Update the parameters based on the optimization algorithm\n",
        "*   At certain epoch intervals, evaluate loss over the whole training dataset\n",
        "\n",
        "\n",
        "Here 1 epoch means we have iterated through the whole dataset once.\n",
        "\n",
        "\n",
        "\n",
        "\n",
        "\n",
        "\n",
        "\n"
      ]
    },
    {
      "cell_type": "code",
      "metadata": {
        "id": "zfzX3jwHg9Kz",
        "colab_type": "code",
        "colab": {
          "base_uri": "https://localhost:8080/",
          "height": 1000
        },
        "outputId": "71eef065-9b37-4edc-cf3e-0a40fbc7cfab"
      },
      "source": [
        "## That looks good. But how do we train NNs with SGD exactly?\n",
        "\n",
        "# We need a model, a loss function and an optimizer!\n",
        "\n",
        "model = MyNeuralNet(n_feature, n_label)\n",
        "loss = nn.MSELoss(reduction='mean')\n",
        "learning_rate = 1e-2\n",
        "opt = optim.SGD(model.parameters(), lr=learning_rate)\n",
        "\n",
        "# How many times should we go over the whole dataset?\n",
        "epochs = 10000\n",
        "\n",
        "# an empty list to collect the training loss\n",
        "J_train_all = []\n",
        "\n",
        "for i in range(epochs):\n",
        "    for _, sample in enumerate(dataloader):\n",
        "        # set model to training mode\n",
        "        model.train()\n",
        "        # clear gradients information from the previous iteration\n",
        "        opt.zero_grad()\n",
        "        # read out features and labels from the mini-batch\n",
        "        x = sample[:, :n_feature]\n",
        "        y = sample[:, n_feature:]\n",
        "        # predict the labels using the model\n",
        "        y_hat = model(x)\n",
        "        # compute the loss \n",
        "        J = loss(y_hat, y)\n",
        "        # compute the gradients\n",
        "        J.backward()\n",
        "        # update the parameters using the optimizer\n",
        "        opt.step()\n",
        "\n",
        "    # You might want to check the training loss from time to time...\n",
        "    if i % 100 == 0:\n",
        "        # set the model to evaluation mode\n",
        "        model.eval()\n",
        "        # we don't really need to compute the gradients here\n",
        "        # so temporally turn it off to accelerate the computation\n",
        "        with torch.no_grad():\n",
        "            J_train = loss(model(data_train[:, :n_feature]), data_train[:, n_feature:])\n",
        "            J_train_all.append(J_train)\n",
        "            print (J_train.numpy()) \n",
        "            # print() is ugly and slows down the code.\n",
        "            # Pro tips: Google the tqdm library and learn how to show a nicer training progress bar!  \n",
        "\n"
      ],
      "execution_count": null,
      "outputs": [
        {
          "output_type": "stream",
          "text": [
            "2.965125\n",
            "1.5383257\n",
            "1.5015415\n",
            "1.480131\n",
            "1.4657861\n",
            "1.4768119\n",
            "1.4329286\n",
            "1.5183848\n",
            "1.3852022\n",
            "1.4050747\n",
            "1.300899\n",
            "1.1748853\n",
            "0.80515397\n",
            "0.4921902\n",
            "0.2894866\n",
            "0.19967186\n",
            "0.15204069\n",
            "0.13407502\n",
            "0.19004479\n",
            "0.10395998\n",
            "0.088279374\n",
            "0.09102712\n",
            "0.08949282\n",
            "0.07001985\n",
            "0.06226802\n",
            "0.12518078\n",
            "0.059702147\n",
            "0.05610865\n",
            "0.054051626\n",
            "0.07250455\n",
            "0.04945071\n",
            "0.06891172\n",
            "0.052065305\n",
            "0.14947362\n",
            "0.054398604\n",
            "0.04388915\n",
            "0.03718874\n",
            "0.053544685\n",
            "0.045386218\n",
            "0.03475927\n",
            "0.032321654\n",
            "0.032859836\n",
            "0.039136235\n",
            "0.03433509\n",
            "0.05592498\n",
            "0.048789944\n",
            "0.029843485\n",
            "0.04212218\n",
            "0.028781181\n",
            "0.035473973\n",
            "0.02824495\n",
            "0.030121721\n",
            "0.032933444\n",
            "0.067641914\n",
            "0.035519052\n",
            "0.02755756\n",
            "0.071348645\n",
            "0.028377669\n",
            "0.030990195\n",
            "0.025432058\n",
            "0.02864904\n",
            "0.026754566\n",
            "0.030710215\n",
            "0.032009497\n",
            "0.03639093\n",
            "0.02581133\n",
            "0.030860756\n",
            "0.025252001\n",
            "0.03744049\n",
            "0.028976075\n",
            "0.030284097\n",
            "0.03059046\n",
            "0.03746241\n",
            "0.03274872\n",
            "0.029286651\n",
            "0.040570002\n",
            "0.047295507\n",
            "0.023477132\n",
            "0.025559686\n",
            "0.022917017\n",
            "0.026463835\n",
            "0.044064432\n",
            "0.032565996\n",
            "0.027378723\n",
            "0.027263818\n",
            "0.027087998\n",
            "0.038180374\n",
            "0.027942197\n",
            "0.024194699\n",
            "0.023872655\n",
            "0.024066312\n",
            "0.024578547\n",
            "0.02188485\n",
            "0.028840637\n",
            "0.046278965\n",
            "0.024839852\n",
            "0.024734285\n",
            "0.022933345\n",
            "0.024113841\n",
            "0.051405765\n"
          ],
          "name": "stdout"
        }
      ]
    },
    {
      "cell_type": "code",
      "metadata": {
        "id": "qmAdFY8W3j4s",
        "colab_type": "code",
        "colab": {
          "base_uri": "https://localhost:8080/",
          "height": 279
        },
        "outputId": "c15a7c4c-f659-4b73-9878-a7862982b8fa"
      },
      "source": [
        "## Plot the loss curve\n",
        "\n",
        "plt.plot(np.arange(0, epochs,100), J_train_all)\n",
        "plt.grid()\n",
        "plt.xlabel('Epochs')\n",
        "plt.ylabel('Training loss');"
      ],
      "execution_count": null,
      "outputs": [
        {
          "output_type": "display_data",
          "data": {
            "image/png": "[encoded data removed]",
            "text/plain": [
              "<Figure size 432x288 with 1 Axes>"
            ]
          },
          "metadata": {
            "tags": [],
            "needs_background": "dark"
          }
        }
      ]
    },
    {
      "cell_type": "code",
      "metadata": {
        "id": "FPRvAmLZkcKv",
        "colab_type": "code",
        "colab": {
          "base_uri": "https://localhost:8080/",
          "height": 279
        },
        "outputId": "fadfd1cd-2639-4d8f-b58e-fc421cd518d3"
      },
      "source": [
        "## Let's test our trained model\n",
        "X_val = data_val[:, :n_feature]\n",
        "y_val = data_val[:, n_feature:]\n",
        "\n",
        "model.eval()\n",
        "with torch.no_grad():\n",
        "    y_hat = model(X_val)\n",
        "\n",
        "plt.xlabel('x')\n",
        "plt.ylabel('y')\n",
        "plt.scatter(X_val.numpy(), y_val.numpy(), marker='o', label='ground truth')\n",
        "plt.scatter(X_val.numpy(), y_hat.numpy(), marker='x', label='predicted')\n",
        "plt.grid()\n",
        "plt.legend();"
      ],
      "execution_count": null,
      "outputs": [
        {
          "output_type": "display_data",
          "data": {
            "image/png": "[encoded data removed]",
            "text/plain": [
              "<Figure size 432x288 with 1 Axes>"
            ]
          },
          "metadata": {
            "tags": [],
            "needs_background": "dark"
          }
        }
      ]
    }
  ]
}