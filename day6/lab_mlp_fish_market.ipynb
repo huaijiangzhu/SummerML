{
 "cells": [
  {
   "cell_type": "code",
   "execution_count": null,
   "metadata": {
    "colab": {},
    "colab_type": "code",
    "id": "mlwzZBicICHK"
   },
   "outputs": [],
   "source": [
    "import numpy as np\n",
    "import pandas as pd\n",
    "import matplotlib.pyplot as plt\n",
    "from sklearn.linear_model import LinearRegression, Ridge, Lasso\n",
    "plt.rc_context({'axes.edgecolor':'white', 'xtick.color':'white', 'ytick.color':'white'});\n",
    "\n",
    "import torch\n",
    "import torch.nn as nn\n",
    "import torch.optim as optim\n",
    "from torch.utils.data import DataLoader"
   ]
  },
  {
   "cell_type": "code",
   "execution_count": null,
   "metadata": {
    "colab": {},
    "colab_type": "code",
    "id": "BF4BDO7cI7jq"
   },
   "outputs": [],
   "source": [
    "def print_and_plot(y_pred, y):\n",
    "    MAE = np.mean(np.abs(y_pred - y))\n",
    "    print ('The validation MAE is {:0.2f}'.format(MAE))\n",
    "    plt.plot(y_pred, 'o', label='predicted')\n",
    "    plt.plot(y, 'o', label='ground truth')\n",
    "    plt.legend(loc='upper left');"
   ]
  },
  {
   "cell_type": "code",
   "execution_count": null,
   "metadata": {
    "colab": {},
    "colab_type": "code",
    "id": "rkxG9YxrIh1P"
   },
   "outputs": [],
   "source": [
    "from sklearn.model_selection import train_test_split\n",
    "\n",
    "feature = pd.read_csv('https://raw.githubusercontent.com/huaijiangzhu/SummerML/master/day5/fish_market_feature.csv')\n",
    "label = pd.read_csv('https://raw.githubusercontent.com/huaijiangzhu/SummerML/master/day5/fish_market_label.csv')\n",
    "X = feature.values\n",
    "y = label.values\n",
    "X_train, X_val, y_train, y_val = train_test_split(X, y, test_size=0.1, random_state=3)"
   ]
  },
  {
   "cell_type": "markdown",
   "metadata": {
    "colab_type": "text",
    "id": "Jv15xGAIJySO"
   },
   "source": [
    "## Your task: solve the mini-project with a neural network!"
   ]
  },
  {
   "cell_type": "code",
   "execution_count": null,
   "metadata": {
    "colab": {
     "base_uri": "https://localhost:8080/",
     "height": 299
    },
    "colab_type": "code",
    "id": "dA5iv060ImGb",
    "outputId": "3b8064e9-0f29-4b19-8001-ecc7bbce0e80"
   },
   "outputs": [],
   "source": [
    "## Your code here\n"
   ]
  }
 ],
 "metadata": {
  "colab": {
   "collapsed_sections": [],
   "name": "lab_mlp_fish_market.ipynb",
   "provenance": []
  },
  "kernelspec": {
   "display_name": "Python 3",
   "language": "python",
   "name": "python3"
  },
  "language_info": {
   "codemirror_mode": {
    "name": "ipython",
    "version": 3
   },
   "file_extension": ".py",
   "mimetype": "text/x-python",
   "name": "python",
   "nbconvert_exporter": "python",
   "pygments_lexer": "ipython3",
   "version": "3.7.2"
  }
 },
 "nbformat": 4,
 "nbformat_minor": 1
}
